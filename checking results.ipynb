{
 "cells": [
  {
   "cell_type": "code",
   "execution_count": 39,
   "metadata": {
    "ExecuteTime": {
     "end_time": "2021-10-04T00:21:11.795339Z",
     "start_time": "2021-10-04T00:21:11.778356Z"
    }
   },
   "outputs": [],
   "source": [
    "import argparse\n",
    "import pickle\n",
    "import torch\n",
    "import torch.nn as nn\n",
    "from torch.autograd import Variable\n",
    "import torch.nn.functional as F\n",
    "import numpy as np\n",
    "import math, copy\n",
    "from torch import Tensor\n",
    "from matplotlib import pyplot as plt\n",
    "import torch.optim as optim\n",
    "import random\n",
    "import tqdm\n",
    "from torch import autograd\n",
    "import time\n",
    "from models import sahp"
   ]
  },
  {
   "cell_type": "markdown",
   "metadata": {},
   "source": [
    "## Power Hawkes - SAHP"
   ]
  },
  {
   "cell_type": "code",
   "execution_count": 40,
   "metadata": {
    "ExecuteTime": {
     "end_time": "2021-10-04T00:21:12.871693Z",
     "start_time": "2021-10-04T00:21:12.614215Z"
    }
   },
   "outputs": [
    {
     "name": "stdout",
     "output_type": "stream",
     "text": [
      "Total sample size: 4000\n",
      "Train sample size: 3200/4000\n",
      "Dev sample size: 400/4000\n",
      "No. of event tokens in training subset: tensor(169435)\n",
      "No. of event tokens in development subset: tensor(21338)\n",
      "No. of event tokens in test subset: tensor(21076)\n",
      "max_sequence_length: 188\n"
     ]
    }
   ],
   "source": [
    "chosen_file ='../data/simulated/power_hawkes/power_hawkes.pkl'\n",
    "with open(chosen_file, 'rb') as f:\n",
    "    loaded_hawkes_data = pickle.load(f)\n",
    "tmax =loaded_hawkes_data['tmax']\n",
    "process_dim = loaded_hawkes_data['process_dim'] if 'process_dim' in loaded_hawkes_data.keys() else process_dim\n",
    "seq_times, seq_types, seq_lengths, _,seq_intensities = sahp.process_loaded_sequences(loaded_hawkes_data, process_dim)\n",
    "\n",
    "total_sample_size = seq_times.size(0)\n",
    "print(\"Total sample size: {}\".format(total_sample_size))\n",
    "\n",
    "train_ratio = 0.8\n",
    "train_size = int(train_ratio * total_sample_size)\n",
    "dev_ratio = 0.1\n",
    "dev_size = int(dev_ratio * total_sample_size)\n",
    "test_size = int(dev_ratio * total_sample_size)\n",
    "\n",
    "print(\"Train sample size: {:}/{:}\".format(train_size, total_sample_size))\n",
    "print(\"Dev sample size: {:}/{:}\".format(dev_size, total_sample_size))\n",
    "\n",
    "\n",
    "# Define training data\n",
    "train_times_tensor = seq_times[:train_size]\n",
    "train_seq_types = seq_types[:train_size]\n",
    "train_seq_lengths = seq_lengths[:train_size]\n",
    "print(\"No. of event tokens in training subset:\", train_seq_lengths.sum())\n",
    "\n",
    "# Define development data\n",
    "dev_times_tensor = seq_times[train_size:train_size + dev_size]  # train_size+dev_size\n",
    "dev_seq_types = seq_types[train_size:train_size + dev_size]\n",
    "dev_seq_lengths = seq_lengths[train_size:train_size + dev_size]\n",
    "print(\"No. of event tokens in development subset:\", dev_seq_lengths.sum())\n",
    "\n",
    "test_times_tensor = seq_times[-dev_size:]\n",
    "test_seq_types = seq_types[-dev_size:]\n",
    "test_seq_lengths = seq_lengths[-dev_size:]\n",
    "# test_seq_intensities = seq_intensities[-dev_size:]\n",
    "\n",
    "print(\"No. of event tokens in test subset:\", test_seq_lengths.sum())\n",
    "\n",
    "\n",
    "train_seq_lengths, reorder_indices_train = train_seq_lengths.sort(descending=True)\n",
    "# # Reorder by descending sequence length\n",
    "train_times_tensor = train_times_tensor[reorder_indices_train]\n",
    "train_seq_types = train_seq_types[reorder_indices_train]\n",
    "#\n",
    "dev_seq_lengths, reorder_indices_dev = dev_seq_lengths.sort(descending=True)\n",
    "# # Reorder by descending sequence length\n",
    "dev_times_tensor = dev_times_tensor[reorder_indices_dev]\n",
    "dev_seq_types = dev_seq_types[reorder_indices_dev]\n",
    "\n",
    "test_seq_lengths, reorder_indices_test = test_seq_lengths.sort(descending=True)\n",
    "# # Reorder by descending sequence length\n",
    "test_times_tensor = test_times_tensor[reorder_indices_test]\n",
    "test_seq_types = test_seq_types[reorder_indices_test]\n",
    "# test_seq_intensities = test_seq_intensities[reorder_indices_test]\n",
    "\n",
    "device = 'cpu'\n",
    "max_sequence_length = max(train_seq_lengths[0], dev_seq_lengths[0], test_seq_lengths[0])\n",
    "print('max_sequence_length: {}'.format(max_sequence_length))\n",
    "model = sahp.make_model(nLayers=4, d_model=16, atten_heads=8,\n",
    "                   dropout=0.1, process_dim=1, device=device, pe='add',\n",
    "                   max_sequence_length=max_sequence_length + 1).to(device)"
   ]
  },
  {
   "cell_type": "code",
   "execution_count": 41,
   "metadata": {
    "ExecuteTime": {
     "end_time": "2021-10-04T00:21:13.887287Z",
     "start_time": "2021-10-04T00:21:13.874322Z"
    }
   },
   "outputs": [
    {
     "data": {
      "text/plain": [
       "<All keys matched successfully>"
      ]
     },
     "execution_count": 41,
     "metadata": {},
     "output_type": "execute_result"
    }
   ],
   "source": [
    "model_dict =torch.load('trained_models/sahp/power_hawkes_debug_model.pt',map_location=torch.device('cpu'))\n",
    "model.load_state_dict(model_dict)"
   ]
  },
  {
   "cell_type": "code",
   "execution_count": 42,
   "metadata": {
    "ExecuteTime": {
     "end_time": "2021-10-04T00:21:58.939319Z",
     "start_time": "2021-10-04T00:21:14.799119Z"
    }
   },
   "outputs": [
    {
     "name": "stderr",
     "output_type": "stream",
     "text": [
      "100%|████████████████████████████████████████████████████████████████████████████████| 400/400 [00:05<00:00, 78.76it/s]\n"
     ]
    },
    {
     "name": "stdout",
     "output_type": "stream",
     "text": [
      "rmse 7.509196936773859\n",
      "Type prediction score: 1.0\n"
     ]
    },
    {
     "name": "stderr",
     "output_type": "stream",
     "text": [
      "100%|████████████████████████████████████████████████████████████████████████████████| 400/400 [00:04<00:00, 89.52it/s]\n"
     ]
    },
    {
     "name": "stdout",
     "output_type": "stream",
     "text": [
      "rmse 7.635167831245053\n",
      "Type prediction score: 1.0\n"
     ]
    },
    {
     "name": "stderr",
     "output_type": "stream",
     "text": [
      "100%|██████████████████████████████████████████████████████████████████████████████| 3200/3200 [00:33<00:00, 94.99it/s]\n"
     ]
    },
    {
     "name": "stdout",
     "output_type": "stream",
     "text": [
      "rmse 7.746266111609838\n",
      "Type prediction score: 1.0\n"
     ]
    }
   ],
   "source": [
    "test_rmse, test_accuracy, results = \\\n",
    "    sahp.prediction_evaluation(device, model, test_seq_lengths, test_times_tensor, test_seq_types, test_size, tmax)\n",
    "\n",
    "test_rmse, test_accuracy, results = \\\n",
    "    sahp.prediction_evaluation(device, model, dev_seq_lengths, dev_times_tensor, dev_seq_types, test_size, tmax)\n",
    "\n",
    "\n",
    "test_rmse, test_accuracy, results = \\\n",
    "    sahp.prediction_evaluation(device, model, train_seq_lengths, train_times_tensor, train_seq_types, train_size, tmax)"
   ]
  },
  {
   "cell_type": "markdown",
   "metadata": {},
   "source": [
    "## Sin Hawkes"
   ]
  },
  {
   "cell_type": "code",
   "execution_count": 45,
   "metadata": {
    "ExecuteTime": {
     "end_time": "2021-10-04T01:00:12.146773Z",
     "start_time": "2021-10-04T01:00:11.792611Z"
    }
   },
   "outputs": [
    {
     "name": "stdout",
     "output_type": "stream",
     "text": [
      "Total sample size: 4000\n",
      "Train sample size: 3200/4000\n",
      "Dev sample size: 400/4000\n",
      "No. of event tokens in training subset: tensor(170178)\n",
      "No. of event tokens in development subset: tensor(21036)\n",
      "No. of event tokens in test subset: tensor(21093)\n",
      "max_sequence_length: 91\n"
     ]
    },
    {
     "data": {
      "text/plain": [
       "<All keys matched successfully>"
      ]
     },
     "execution_count": 45,
     "metadata": {},
     "output_type": "execute_result"
    }
   ],
   "source": [
    "chosen_file ='../data/simulated/sin_hawkes/sinusodial_1d_hawkes.pkl'\n",
    "with open(chosen_file, 'rb') as f:\n",
    "    loaded_hawkes_data = pickle.load(f)\n",
    "tmax =loaded_hawkes_data['tmax']\n",
    "process_dim = loaded_hawkes_data['process_dim'] if 'process_dim' in loaded_hawkes_data.keys() else process_dim\n",
    "seq_times, seq_types, seq_lengths, _,seq_intensities = sahp.process_loaded_sequences(loaded_hawkes_data, process_dim)\n",
    "\n",
    "total_sample_size = seq_times.size(0)\n",
    "print(\"Total sample size: {}\".format(total_sample_size))\n",
    "\n",
    "train_ratio = 0.8\n",
    "train_size = int(train_ratio * total_sample_size)\n",
    "dev_ratio = 0.1\n",
    "dev_size = int(dev_ratio * total_sample_size)\n",
    "test_size = int(dev_ratio * total_sample_size)\n",
    "\n",
    "print(\"Train sample size: {:}/{:}\".format(train_size, total_sample_size))\n",
    "print(\"Dev sample size: {:}/{:}\".format(dev_size, total_sample_size))\n",
    "\n",
    "\n",
    "# Define training data\n",
    "train_times_tensor = seq_times[:train_size]\n",
    "train_seq_types = seq_types[:train_size]\n",
    "train_seq_lengths = seq_lengths[:train_size]\n",
    "print(\"No. of event tokens in training subset:\", train_seq_lengths.sum())\n",
    "\n",
    "# Define development data\n",
    "dev_times_tensor = seq_times[train_size:train_size + dev_size]  # train_size+dev_size\n",
    "dev_seq_types = seq_types[train_size:train_size + dev_size]\n",
    "dev_seq_lengths = seq_lengths[train_size:train_size + dev_size]\n",
    "print(\"No. of event tokens in development subset:\", dev_seq_lengths.sum())\n",
    "\n",
    "test_times_tensor = seq_times[-dev_size:]\n",
    "test_seq_types = seq_types[-dev_size:]\n",
    "test_seq_lengths = seq_lengths[-dev_size:]\n",
    "# test_seq_intensities = seq_intensities[-dev_size:]\n",
    "\n",
    "print(\"No. of event tokens in test subset:\", test_seq_lengths.sum())\n",
    "\n",
    "\n",
    "train_seq_lengths, reorder_indices_train = train_seq_lengths.sort(descending=True)\n",
    "# # Reorder by descending sequence length\n",
    "train_times_tensor = train_times_tensor[reorder_indices_train]\n",
    "train_seq_types = train_seq_types[reorder_indices_train]\n",
    "#\n",
    "dev_seq_lengths, reorder_indices_dev = dev_seq_lengths.sort(descending=True)\n",
    "# # Reorder by descending sequence length\n",
    "dev_times_tensor = dev_times_tensor[reorder_indices_dev]\n",
    "dev_seq_types = dev_seq_types[reorder_indices_dev]\n",
    "\n",
    "test_seq_lengths, reorder_indices_test = test_seq_lengths.sort(descending=True)\n",
    "# # Reorder by descending sequence length\n",
    "test_times_tensor = test_times_tensor[reorder_indices_test]\n",
    "test_seq_types = test_seq_types[reorder_indices_test]\n",
    "# test_seq_intensities = test_seq_intensities[reorder_indices_test]\n",
    "\n",
    "device = 'cpu'\n",
    "max_sequence_length = max(train_seq_lengths[0], dev_seq_lengths[0], test_seq_lengths[0])\n",
    "print('max_sequence_length: {}'.format(max_sequence_length))\n",
    "model = sahp.make_model(nLayers=4, d_model=16, atten_heads=8,\n",
    "                   dropout=0.1, process_dim=1, device=device, pe='add',\n",
    "                   max_sequence_length=max_sequence_length + 1).to(device)\n",
    "\n",
    "\n",
    "model_dict =torch.load('trained_models/sahp/sinusodial_1d_hawkes_debug_model.pt',map_location=torch.device('cpu'))\n",
    "model.load_state_dict(model_dict)"
   ]
  },
  {
   "cell_type": "code",
   "execution_count": 44,
   "metadata": {
    "ExecuteTime": {
     "end_time": "2021-10-04T00:35:15.293594Z",
     "start_time": "2021-10-04T00:34:42.506220Z"
    }
   },
   "outputs": [
    {
     "name": "stderr",
     "output_type": "stream",
     "text": [
      "100%|███████████████████████████████████████████████████████████████████████████████| 400/400 [00:02<00:00, 156.35it/s]\n"
     ]
    },
    {
     "name": "stdout",
     "output_type": "stream",
     "text": [
      "rmse 5.588189456739897\n",
      "Type prediction score: 1.0\n"
     ]
    },
    {
     "name": "stderr",
     "output_type": "stream",
     "text": [
      "100%|███████████████████████████████████████████████████████████████████████████████| 400/400 [00:02<00:00, 141.50it/s]\n"
     ]
    },
    {
     "name": "stdout",
     "output_type": "stream",
     "text": [
      "rmse 5.996967503011646\n",
      "Type prediction score: 1.0\n"
     ]
    },
    {
     "name": "stderr",
     "output_type": "stream",
     "text": [
      "100%|█████████████████████████████████████████████████████████████████████████████| 3200/3200 [00:27<00:00, 117.43it/s]\n"
     ]
    },
    {
     "name": "stdout",
     "output_type": "stream",
     "text": [
      "rmse 5.803682263332539\n",
      "Type prediction score: 1.0\n"
     ]
    }
   ],
   "source": [
    "test_rmse, test_accuracy, results = \\\n",
    "    sahp.prediction_evaluation(device, model, test_seq_lengths, test_times_tensor, test_seq_types, test_size, tmax)\n",
    "\n",
    "test_rmse, test_accuracy, results = \\\n",
    "    sahp.prediction_evaluation(device, model, dev_seq_lengths, dev_times_tensor, dev_seq_types, test_size, tmax)\n",
    "\n",
    "\n",
    "test_rmse, test_accuracy, results = \\\n",
    "    sahp.prediction_evaluation(device, model, train_seq_lengths, train_times_tensor, train_seq_types, train_size, tmax)"
   ]
  },
  {
   "cell_type": "markdown",
   "metadata": {},
   "source": [
    "## 2-D Hawkes"
   ]
  },
  {
   "cell_type": "code",
   "execution_count": 4,
   "metadata": {
    "ExecuteTime": {
     "end_time": "2021-10-03T23:48:03.230447Z",
     "start_time": "2021-10-03T23:48:03.219486Z"
    }
   },
   "outputs": [],
   "source": [
    "torch.cuda.manual_seed(seed=42)\n",
    "torch.cuda.manual_seed_all(42)"
   ]
  },
  {
   "cell_type": "code",
   "execution_count": 5,
   "metadata": {
    "ExecuteTime": {
     "end_time": "2021-10-03T23:48:04.329593Z",
     "start_time": "2021-10-03T23:48:03.765103Z"
    }
   },
   "outputs": [
    {
     "name": "stdout",
     "output_type": "stream",
     "text": [
      "Total sample size: 4000\n",
      "Train sample size: 3200/4000\n",
      "Dev sample size: 400/4000\n",
      "No. of event tokens in training subset: tensor(564977)\n",
      "No. of event tokens in development subset: tensor(71399)\n",
      "No. of event tokens in test subset: tensor(71543)\n",
      "max_sequence_length: 399\n"
     ]
    },
    {
     "data": {
      "text/plain": [
       "<All keys matched successfully>"
      ]
     },
     "execution_count": 5,
     "metadata": {},
     "output_type": "execute_result"
    }
   ],
   "source": [
    "chosen_file ='../data/simulated/2_d_hawkes/hawkes_2d.pkl'\n",
    "with open(chosen_file, 'rb') as f:\n",
    "    loaded_hawkes_data = pickle.load(f)\n",
    "tmax =loaded_hawkes_data['tmax']\n",
    "process_dim = loaded_hawkes_data['process_dim'] if 'process_dim' in loaded_hawkes_data.keys() else process_dim\n",
    "seq_times, seq_types, seq_lengths, _,seq_intensities = sahp.process_loaded_sequences(loaded_hawkes_data, process_dim)\n",
    "\n",
    "total_sample_size = seq_times.size(0)\n",
    "print(\"Total sample size: {}\".format(total_sample_size))\n",
    "\n",
    "train_ratio = 0.8\n",
    "train_size = int(train_ratio * total_sample_size)\n",
    "dev_ratio = 0.1\n",
    "dev_size = int(dev_ratio * total_sample_size)\n",
    "test_size = int(dev_ratio * total_sample_size)\n",
    "\n",
    "print(\"Train sample size: {:}/{:}\".format(train_size, total_sample_size))\n",
    "print(\"Dev sample size: {:}/{:}\".format(dev_size, total_sample_size))\n",
    "\n",
    "\n",
    "# Define training data\n",
    "train_times_tensor = seq_times[:train_size]\n",
    "train_seq_types = seq_types[:train_size]\n",
    "train_seq_lengths = seq_lengths[:train_size]\n",
    "print(\"No. of event tokens in training subset:\", train_seq_lengths.sum())\n",
    "\n",
    "# Define development data\n",
    "dev_times_tensor = seq_times[train_size:train_size + dev_size]  # train_size+dev_size\n",
    "dev_seq_types = seq_types[train_size:train_size + dev_size]\n",
    "dev_seq_lengths = seq_lengths[train_size:train_size + dev_size]\n",
    "print(\"No. of event tokens in development subset:\", dev_seq_lengths.sum())\n",
    "\n",
    "test_times_tensor = seq_times[-dev_size:]\n",
    "test_seq_types = seq_types[-dev_size:]\n",
    "test_seq_lengths = seq_lengths[-dev_size:]\n",
    "# test_seq_intensities = seq_intensities[-dev_size:]\n",
    "\n",
    "print(\"No. of event tokens in test subset:\", test_seq_lengths.sum())\n",
    "\n",
    "\n",
    "train_seq_lengths, reorder_indices_train = train_seq_lengths.sort(descending=True)\n",
    "# # Reorder by descending sequence length\n",
    "train_times_tensor = train_times_tensor[reorder_indices_train]\n",
    "train_seq_types = train_seq_types[reorder_indices_train]\n",
    "#\n",
    "dev_seq_lengths, reorder_indices_dev = dev_seq_lengths.sort(descending=True)\n",
    "# # Reorder by descending sequence length\n",
    "dev_times_tensor = dev_times_tensor[reorder_indices_dev]\n",
    "dev_seq_types = dev_seq_types[reorder_indices_dev]\n",
    "\n",
    "test_seq_lengths, reorder_indices_test = test_seq_lengths.sort(descending=True)\n",
    "# # Reorder by descending sequence length\n",
    "test_times_tensor = test_times_tensor[reorder_indices_test]\n",
    "test_seq_types = test_seq_types[reorder_indices_test]\n",
    "# test_seq_intensities = test_seq_intensities[reorder_indices_test]\n",
    "\n",
    "device = 'cpu'\n",
    "max_sequence_length = max(train_seq_lengths[0], dev_seq_lengths[0], test_seq_lengths[0])\n",
    "print('max_sequence_length: {}'.format(max_sequence_length))\n",
    "model = sahp.make_model(nLayers=4, d_model=16, atten_heads=8,\n",
    "                   dropout=0.1, process_dim=2, device=device, pe='add',\n",
    "                   max_sequence_length=max_sequence_length + 1).to(device)\n",
    "\n",
    "\n",
    "model_dict =torch.load('trained_models/sahp/hawkes_2d_debug_model.pt',map_location=torch.device('cpu'))\n",
    "model.load_state_dict(model_dict)"
   ]
  },
  {
   "cell_type": "code",
   "execution_count": 19,
   "metadata": {
    "ExecuteTime": {
     "end_time": "2021-10-03T23:18:42.856026Z",
     "start_time": "2021-10-03T23:17:10.900605Z"
    }
   },
   "outputs": [
    {
     "name": "stderr",
     "output_type": "stream",
     "text": [
      "100%|████████████████████████████████████████████████████████████████████████████████| 400/400 [00:08<00:00, 46.26it/s]\n"
     ]
    },
    {
     "name": "stdout",
     "output_type": "stream",
     "text": [
      "rmse 2.148583979381555\n",
      "Type prediction score: 0.5625\n"
     ]
    },
    {
     "name": "stderr",
     "output_type": "stream",
     "text": [
      "100%|████████████████████████████████████████████████████████████████████████████████| 400/400 [00:08<00:00, 45.66it/s]\n"
     ]
    },
    {
     "name": "stdout",
     "output_type": "stream",
     "text": [
      "rmse 1.771393055438939\n",
      "Type prediction score: 0.5775\n"
     ]
    },
    {
     "name": "stderr",
     "output_type": "stream",
     "text": [
      "100%|██████████████████████████████████████████████████████████████████████████████| 3200/3200 [01:14<00:00, 43.00it/s]\n"
     ]
    },
    {
     "name": "stdout",
     "output_type": "stream",
     "text": [
      "rmse 1.9609460716516156\n",
      "Type prediction score: 0.5675\n"
     ]
    }
   ],
   "source": [
    "test_rmse, test_accuracy, results = \\\n",
    "    sahp.prediction_evaluation(device, model, train_seq_lengths, train_times_tensor, train_seq_types, train_size, tmax)\n",
    "\n",
    "test_rmse, test_accuracy, results = \\\n",
    "    sahp.prediction_evaluation(device, model, test_seq_lengths, test_times_tensor, test_seq_types, test_size, tmax)\n",
    "\n",
    "test_rmse, test_accuracy, results = \\\n",
    "    sahp.prediction_evaluation(device, model, dev_seq_lengths, dev_times_tensor, dev_seq_types, test_size, tmax)\n",
    "\n",
    "\n"
   ]
  },
  {
   "cell_type": "markdown",
   "metadata": {},
   "source": [
    "### All Event Predictions"
   ]
  },
  {
   "cell_type": "code",
   "execution_count": 38,
   "metadata": {
    "ExecuteTime": {
     "end_time": "2021-10-04T00:00:33.094628Z",
     "start_time": "2021-10-04T00:00:33.075644Z"
    }
   },
   "outputs": [],
   "source": [
    "def rmse_for_all_events(test_times_tensor,test_seq_types,test_seq_lengths,t_max =200,device = 'cpu',n_samples=100):\n",
    "    seq_types = test_seq_types\n",
    "    seq_times = test_times_tensor\n",
    "    seq_lengths = test_seq_lengths\n",
    "    test_size = seq_times.shape[0]\n",
    "\n",
    "    pad=model.process_dim\n",
    "    hmax = tmax\n",
    "    device ='cpu'\n",
    "\n",
    "    all_event_errors = []\n",
    "\n",
    "    for index in range(test_size):\n",
    "        print('Sequence: {}'.format(index))\n",
    "        times, types, lengths =seq_times[index], seq_types[index], seq_lengths[index]\n",
    "        length = lengths.item()  # exclude the first added event\n",
    "\n",
    "        all_event_errors+= predict_for_all_events(times, types,length,n_samples =n_samples)\n",
    "        \n",
    "    RMSE = np.sqrt(np.array(all_event_errors).mean())\n",
    "    return RMSE"
   ]
  },
  {
   "cell_type": "code",
   "execution_count": 37,
   "metadata": {
    "ExecuteTime": {
     "end_time": "2021-10-03T23:59:53.079437Z",
     "start_time": "2021-10-03T23:59:37.624637Z"
    }
   },
   "outputs": [
    {
     "data": {
      "text/plain": [
       "0.9530211731026779"
      ]
     },
     "execution_count": 37,
     "metadata": {},
     "output_type": "execute_result"
    }
   ],
   "source": [
    "rmse_for_all_events(test_times_tensor,test_seq_types,test_seq_lengths,t_max =200,device = 'cpu',n_samples=500)"
   ]
  },
  {
   "cell_type": "code",
   "execution_count": 34,
   "metadata": {
    "ExecuteTime": {
     "end_time": "2021-10-03T23:59:11.822199Z",
     "start_time": "2021-10-03T23:59:11.798223Z"
    }
   },
   "outputs": [],
   "source": [
    "def predict_for_all_events (seq_times, seq_types,length,n_samples = 1000):\n",
    "\n",
    "    all_seq_errors =[]\n",
    "    for i in range(length):\n",
    "\n",
    "        event_index = i\n",
    "\n",
    "\n",
    "        ## remove the first added event\n",
    "        dt_seq = seq_times[1:] - seq_times[:-1]\n",
    "\n",
    "        dt_seq = seq_times[1:] - seq_times[:-1]\n",
    "        last_t = seq_times[length - 1 -event_index]\n",
    "        next_t = seq_times[length-event_index]\n",
    "\n",
    "        dt_seq_valid = dt_seq[:length]  # exclude the last timestamp\n",
    "        dt_seq_used = dt_seq_valid[:length - 1-event_index]  # exclude the last timestamp\n",
    "        next_dt = dt_seq_valid[length - 1-event_index]\n",
    "\n",
    "        seq_types_valid = seq_types[1:length + 1-event_index]  # include the first added event\n",
    "        last_type = seq_types[length - 1-event_index]\n",
    "        next_type = seq_types[length-event_index]\n",
    "\n",
    "        seq_types_used = seq_types_valid[:-1]\n",
    "        seq_types_valid_masked = sahp.MaskBatch(seq_types_used[None, :], pad, device)\n",
    "        seq_types_used_mask = seq_types_valid_masked.src_mask\n",
    "\n",
    "\n",
    "        with torch.no_grad():\n",
    "            model.forward(dt_seq_used, seq_types_used, seq_types_used_mask)\n",
    "\n",
    "            if model.omega.shape[1] == 0:  # only one element\n",
    "                estimate_dt, next_dt, error_dt, next_type, estimate_type = 0, 0, 0, 0, 0\n",
    "\n",
    "            elif model.omega.shape[1] == 1:  # only one element\n",
    "                converge_point = torch.squeeze(model.converge_point)[None, :]\n",
    "                start_point = torch.squeeze(model.start_point)[None, :]\n",
    "                omega = torch.squeeze(model.omega)[None, :]\n",
    "            else:\n",
    "                converge_point = torch.squeeze(model.converge_point)[-1, :]\n",
    "                start_point = torch.squeeze(model.start_point)[-1, :]\n",
    "                omega = torch.squeeze(model.omega)[-1, :]\n",
    "\n",
    "\n",
    "            dt_vals = torch.linspace(0, hmax, n_samples + 1).to(device)\n",
    "            h_t_vals = model.state_decay(converge_point,\n",
    "                                        start_point,\n",
    "                                        omega,\n",
    "                                        dt_vals[:, None])\n",
    "\n",
    "\n",
    "            a = sahp.predict_from_hidden(model, h_t_vals, dt_vals, next_dt, next_type,\n",
    "                                               False, hmax, n_samples, False)\n",
    "            all_seq_errors.append(a[2].item())\n",
    "            \n",
    "    return all_seq_errors"
   ]
  },
  {
   "cell_type": "code",
   "execution_count": 8,
   "metadata": {
    "ExecuteTime": {
     "end_time": "2021-10-03T23:48:18.024743Z",
     "start_time": "2021-10-03T23:48:18.010778Z"
    }
   },
   "outputs": [
    {
     "data": {
      "text/plain": [
       "[1.5741888284683228,\n",
       " 0.00020053365733474493,\n",
       " 0.12581388652324677,\n",
       " 0.4899369776248932,\n",
       " 0.0001597424561623484,\n",
       " 0.5166848301887512,\n",
       " 0.051582079380750656,\n",
       " 2.0383007526397705,\n",
       " 0.16696572303771973,\n",
       " 0.07290241867303848,\n",
       " 0.028628166764974594,\n",
       " 0.22603550553321838,\n",
       " 0.05024284869432449,\n",
       " 0.5963874459266663,\n",
       " 0.007407496217638254,\n",
       " 0.34040167927742004,\n",
       " 0.4387223720550537,\n",
       " 0.006443965248763561,\n",
       " 0.012787806801497936,\n",
       " 0.2756159007549286,\n",
       " 0.0688042864203453,\n",
       " 0.023869285359978676,\n",
       " 0.11537044495344162,\n",
       " 1.8956339359283447,\n",
       " 0.12346295267343521,\n",
       " 1.4260636227447776e-08,\n",
       " 0.06775710731744766,\n",
       " 0.09133005887269974,\n",
       " 1.5678402633056976e-05,\n",
       " 0.2439853698015213,\n",
       " 0.0004917021724395454,\n",
       " 0.33954986929893494,\n",
       " 0.1624707132577896,\n",
       " 0.008066406473517418,\n",
       " 0.058877184987068176,\n",
       " 0.0206342414021492,\n",
       " 0.04852096363902092,\n",
       " 3.1804120226297528e-06,\n",
       " 0.07999629527330399,\n",
       " 0.0029583480209112167,\n",
       " 0.025910191237926483,\n",
       " 0.0855279341340065,\n",
       " 0.3716937005519867,\n",
       " 0.05206200107932091,\n",
       " 0.7400801181793213,\n",
       " 0.005284738726913929,\n",
       " 0.1419040411710739,\n",
       " 0.08686943352222443,\n",
       " 0.08061224967241287,\n",
       " 0.014631357043981552,\n",
       " 0.06822466850280762,\n",
       " 0.02694554440677166,\n",
       " 0.004172250162810087,\n",
       " 0.06993180513381958,\n",
       " 0.9650500416755676,\n",
       " 0.017933771014213562,\n",
       " 0.004816874861717224,\n",
       " 0.10999104380607605,\n",
       " 0.06920843571424484,\n",
       " 0.041949283331632614,\n",
       " 0.0034304584842175245,\n",
       " 0.04545908421278,\n",
       " 0.00033206967054866254,\n",
       " 0.018697110936045647,\n",
       " 0.08396860957145691,\n",
       " 0.0013227472081780434,\n",
       " 0.016237301751971245,\n",
       " 0.08231604844331741,\n",
       " 0.048142123967409134,\n",
       " 0.07462562620639801,\n",
       " 0.06343907117843628,\n",
       " 0.11015638709068298,\n",
       " 0.07682644575834274,\n",
       " 0.014027603901922703,\n",
       " 1.1639387607574463,\n",
       " 0.2947525382041931,\n",
       " 0.04677991941571236,\n",
       " 0.055669572204351425,\n",
       " 0.008152210153639317,\n",
       " 0.0022415134590119123,\n",
       " 1.3271533250808716,\n",
       " 0.07663073390722275,\n",
       " 0.07492586970329285,\n",
       " 7.908356201369315e-05,\n",
       " 0.1355212926864624,\n",
       " 0.10314195603132248,\n",
       " 0.08922247588634491,\n",
       " 0.11174671351909637,\n",
       " 0.1714591085910797,\n",
       " 0.13795062899589539,\n",
       " 0.012984883971512318,\n",
       " 0.04023776575922966,\n",
       " 0.02564162388443947,\n",
       " 0.1330891102552414,\n",
       " 0.0031869567465037107,\n",
       " 0.050143949687480927,\n",
       " 0.07215696573257446,\n",
       " 0.01569799706339836,\n",
       " 0.07924839854240417,\n",
       " 0.054347071796655655,\n",
       " 0.051374342292547226,\n",
       " 0.035416413098573685,\n",
       " 0.1636229306459427,\n",
       " 0.10793600231409073,\n",
       " 0.12861710786819458,\n",
       " 0.14381925761699677,\n",
       " 0.009639247320592403,\n",
       " 0.373169869184494,\n",
       " 0.0015117301372811198,\n",
       " 0.1522924304008484,\n",
       " 0.1811259239912033,\n",
       " 0.10324732959270477,\n",
       " 0.10959605872631073,\n",
       " 0.08643605560064316,\n",
       " 0.10400637984275818,\n",
       " 0.016863258555531502,\n",
       " 0.010350712575018406,\n",
       " 0.06711526215076447,\n",
       " 0.09396727383136749,\n",
       " 0.10603548586368561,\n",
       " 0.11370107531547546,\n",
       " 0.027273839339613914,\n",
       " 0.12380331009626389,\n",
       " 0.15273234248161316,\n",
       " 0.10580720007419586,\n",
       " 0.021287621930241585,\n",
       " 0.4915328323841095,\n",
       " 0.10842281579971313,\n",
       " 0.0071565150283277035,\n",
       " 0.04302438721060753,\n",
       " 0.15083734691143036,\n",
       " 0.06287747621536255,\n",
       " 0.3956931233406067,\n",
       " 0.0014808146515861154,\n",
       " 0.14308173954486847,\n",
       " 0.08387983590364456,\n",
       " 0.013930562883615494,\n",
       " 0.08051484078168869,\n",
       " 0.0066231959499418736,\n",
       " 0.10894141346216202,\n",
       " 0.025651361793279648,\n",
       " 0.6903038024902344,\n",
       " 0.09769123047590256,\n",
       " 0.02157367393374443,\n",
       " 0.16943591833114624,\n",
       " 0.5312318801879883,\n",
       " 0.34084591269493103,\n",
       " 0.1270366758108139,\n",
       " 0.0754338875412941,\n",
       " 1.4323924779891968,\n",
       " 1.9972670078277588,\n",
       " 0.15315791964530945,\n",
       " 2.5964066982269287,\n",
       " 0.0057334029115736485,\n",
       " 0.021980248391628265,\n",
       " 0.02244529128074646,\n",
       " 0.13144706189632416,\n",
       " 0.005181300453841686,\n",
       " 0.059380292892456055,\n",
       " 0.13880299031734467,\n",
       " 0.07565026730298996,\n",
       " 0.012832256965339184,\n",
       " 0.06421419978141785,\n",
       " 0.1645166426897049,\n",
       " 0.44682085514068604,\n",
       " 0.0005356615874916315,\n",
       " 0.1083790734410286,\n",
       " 0.11741767823696136,\n",
       " 0.022216256707906723,\n",
       " 0.18406453728675842,\n",
       " 0.3256078064441681,\n",
       " 3.331592233735137e-05,\n",
       " 0.005243503954261541,\n",
       " 0.1645451933145523,\n",
       " 0.8042310476303101,\n",
       " 0.0001452435099054128,\n",
       " 0.25714001059532166,\n",
       " 0.0007760293665342033,\n",
       " 0.0015335159841924906,\n",
       " 0.012632814235985279,\n",
       " 0.1378020942211151,\n",
       " 0.05731060355901718,\n",
       " 0.12405997514724731,\n",
       " 0.10133257508277893,\n",
       " 0.020587187260389328,\n",
       " 0.04816138744354248,\n",
       " 0.08195888996124268,\n",
       " 1.8445924520492554,\n",
       " 0.36717870831489563,\n",
       " 0.15877988934516907,\n",
       " 0.01476539671421051,\n",
       " 0.027039820328354836,\n",
       " 0.17594033479690552,\n",
       " 1.5990631580352783,\n",
       " 0.4724333584308624,\n",
       " 0.19458824396133423,\n",
       " 0.23588712513446808,\n",
       " 0.8576120138168335,\n",
       " 0.2168577015399933,\n",
       " 1.7028648853302002,\n",
       " 0.060577213764190674,\n",
       " 0.16041156649589539,\n",
       " 1.0054718255996704,\n",
       " 0.10572024434804916,\n",
       " 2.491260051727295,\n",
       " 4.91231107711792,\n",
       " 9.805600711842999e-06,\n",
       " 0.2544823884963989,\n",
       " 0.009119042195379734,\n",
       " 0.1417367309331894,\n",
       " 0.06540920585393906,\n",
       " 0.0008233646512962878,\n",
       " 0.00011755209561670199,\n",
       " 0.1527969092130661,\n",
       " 0.053157009184360504,\n",
       " 0.13149304687976837,\n",
       " 0.07388955354690552,\n",
       " 6.338946695905179e-05,\n",
       " 0.01775934360921383,\n",
       " 0.07019659876823425,\n",
       " 0.03786685690283775,\n",
       " 0.05583745986223221,\n",
       " 0.05546704679727554,\n",
       " 0.14188076555728912,\n",
       " 0.09749549627304077,\n",
       " 0.9384815096855164,\n",
       " 0.07100126892328262,\n",
       " 0.01364992931485176,\n",
       " 1.3723722696304321,\n",
       " 0.14964446425437927,\n",
       " 0.14913354814052582,\n",
       " 0.20408079028129578,\n",
       " 0.09536092728376389,\n",
       " 0.16644416749477386,\n",
       " 0.11871403455734253,\n",
       " 0.07240176200866699,\n",
       " 0.006733223795890808,\n",
       " 0.045256610959768295,\n",
       " 0.04645996913313866,\n",
       " 0.0068985470570623875,\n",
       " 0.0698571652173996,\n",
       " 0.047616831958293915,\n",
       " 0.021262800320982933,\n",
       " 0.07866734266281128,\n",
       " 0.01772230677306652,\n",
       " 0.004999322816729546,\n",
       " 0.0018631347920745611,\n",
       " 0.021331222727894783,\n",
       " 0.005939789116382599,\n",
       " 0.04192551597952843,\n",
       " 0.09822992980480194,\n",
       " 0.11641186475753784,\n",
       " 0.11476614326238632,\n",
       " 0.1112455502152443,\n",
       " 0.08160902559757233,\n",
       " 0.10978545248508453,\n",
       " 0.1328705996274948,\n",
       " 0.0021892597433179617,\n",
       " 0.08642227947711945,\n",
       " 0.00018985795031767339,\n",
       " 0.08768074959516525,\n",
       " 0.01785885915160179,\n",
       " 0.09904753416776657,\n",
       " 0.07744458317756653,\n",
       " 0.23614004254341125,\n",
       " 0.15279178321361542,\n",
       " 0.13822901248931885,\n",
       " 0.056239053606987,\n",
       " 0.02323162369430065,\n",
       " 0.08368872851133347,\n",
       " 2.538928985595703,\n",
       " 6.671834468841553,\n",
       " 2.7009506225585938,\n",
       " 6.931111812591553,\n",
       " 3.997891664505005,\n",
       " 0.2882225513458252,\n",
       " 0.3657321333885193,\n",
       " 7.0919671058654785,\n",
       " 2.9669528007507324,\n",
       " 0.8623814582824707,\n",
       " 0.8313530087471008,\n",
       " 0.001057776971720159,\n",
       " 0.02720075100660324,\n",
       " 0.16990724205970764,\n",
       " 0.07256319373846054,\n",
       " 0.062078073620796204,\n",
       " 2.808220386505127,\n",
       " 5.0729217529296875,\n",
       " 3.6982667446136475,\n",
       " 79.9543228149414,\n",
       " 3.0373077392578125,\n",
       " 15.92431640625,\n",
       " 2.1732378005981445,\n",
       " 0.2696812152862549,\n",
       " 0.24000459909439087,\n",
       " 0.3382342457771301,\n",
       " 0.001010455540381372,\n",
       " 0.7335050106048584,\n",
       " 0.26980334520339966,\n",
       " 0.17452529072761536,\n",
       " 0.004841121844947338,\n",
       " 0.06623173505067825,\n",
       " 0.5164912343025208,\n",
       " 0.06574119627475739,\n",
       " 0.6862462162971497,\n",
       " 12.230485916137695,\n",
       " 0.7803268432617188,\n",
       " 0.20456074178218842,\n",
       " 0.667928159236908,\n",
       " 0.008385160937905312,\n",
       " 0.2619025707244873,\n",
       " 0.02167409285902977,\n",
       " 0.001947325188666582,\n",
       " 0.832616925239563,\n",
       " 9.678173065185547,\n",
       " 0.21291397511959076,\n",
       " 0.026918401941657066,\n",
       " 1.7163747549057007,\n",
       " 0.31447160243988037,\n",
       " 0.661955714225769,\n",
       " 7.1569437980651855,\n",
       " 0.5902232527732849,\n",
       " 0.13607420027256012,\n",
       " 3.968081474304199,\n",
       " 0.32657307386398315,\n",
       " 0.8642235398292542,\n",
       " 4.572390079498291,\n",
       " 0.8508560657501221,\n",
       " 0.2186756134033203,\n",
       " 0.21084660291671753,\n",
       " 0.10608890652656555,\n",
       " 0.44149893522262573,\n",
       " 0.17465467751026154,\n",
       " 0.2642504870891571,\n",
       " 0.19335298240184784,\n",
       " 3.2340095043182373,\n",
       " 1.5732735395431519,\n",
       " 0.12958329916000366,\n",
       " 3.568451404571533,\n",
       " 2.2087793350219727,\n",
       " 0.4913571774959564,\n",
       " 0.05269821360707283,\n",
       " 0.0811004787683487,\n",
       " 0.17577572166919708,\n",
       " 0.7341282367706299,\n",
       " 3.9302659034729004,\n",
       " 1.3846360445022583,\n",
       " 3.7506003379821777]"
      ]
     },
     "execution_count": 8,
     "metadata": {},
     "output_type": "execute_result"
    }
   ],
   "source": [
    "all_seq_errors"
   ]
  },
  {
   "cell_type": "code",
   "execution_count": 62,
   "metadata": {
    "ExecuteTime": {
     "end_time": "2021-10-04T01:27:25.115572Z",
     "start_time": "2021-10-04T01:27:25.069731Z"
    }
   },
   "outputs": [
    {
     "ename": "IndexError",
     "evalue": "index 1 is out of bounds for dimension 0 with size 1",
     "output_type": "error",
     "traceback": [
      "\u001b[1;31m---------------------------------------------------------------------------\u001b[0m",
      "\u001b[1;31mIndexError\u001b[0m                                Traceback (most recent call last)",
      "\u001b[1;32m<ipython-input-62-0e02f7c33b1d>\u001b[0m in \u001b[0;36m<module>\u001b[1;34m\u001b[0m\n\u001b[1;32m----> 1\u001b[1;33m \u001b[0mbatch_onehot\u001b[0m \u001b[1;33m=\u001b[0m \u001b[0msahp\u001b[0m\u001b[1;33m.\u001b[0m\u001b[0mone_hot_embedding\u001b[0m\u001b[1;33m(\u001b[0m\u001b[0mtest_seq_types\u001b[0m\u001b[1;33m,\u001b[0m \u001b[1;36m1\u001b[0m\u001b[1;33m)\u001b[0m\u001b[1;33m\u001b[0m\u001b[1;33m\u001b[0m\u001b[0m\n\u001b[0m",
      "\u001b[1;32m~\\OneDrive\\Research\\TPP\\gated_kernel_tpp\\models\\sahp.py\u001b[0m in \u001b[0;36mone_hot_embedding\u001b[1;34m(labels, num_classes)\u001b[0m\n\u001b[0;32m    363\u001b[0m     \u001b[0mdevice\u001b[0m \u001b[1;33m=\u001b[0m \u001b[0mlabels\u001b[0m\u001b[1;33m.\u001b[0m\u001b[0mdevice\u001b[0m\u001b[1;33m\u001b[0m\u001b[1;33m\u001b[0m\u001b[0m\n\u001b[0;32m    364\u001b[0m     \u001b[0my\u001b[0m \u001b[1;33m=\u001b[0m \u001b[0mtorch\u001b[0m\u001b[1;33m.\u001b[0m\u001b[0meye\u001b[0m\u001b[1;33m(\u001b[0m\u001b[0mnum_classes\u001b[0m\u001b[1;33m)\u001b[0m\u001b[1;33m.\u001b[0m\u001b[0mto\u001b[0m\u001b[1;33m(\u001b[0m\u001b[0mdevice\u001b[0m\u001b[1;33m)\u001b[0m\u001b[1;33m\u001b[0m\u001b[1;33m\u001b[0m\u001b[0m\n\u001b[1;32m--> 365\u001b[1;33m     \u001b[1;32mreturn\u001b[0m \u001b[0my\u001b[0m\u001b[1;33m[\u001b[0m\u001b[0mlabels\u001b[0m\u001b[1;33m]\u001b[0m\u001b[1;33m\u001b[0m\u001b[1;33m\u001b[0m\u001b[0m\n\u001b[0m\u001b[0;32m    366\u001b[0m \u001b[1;33m\u001b[0m\u001b[0m\n\u001b[0;32m    367\u001b[0m \u001b[1;32mdef\u001b[0m \u001b[0mget_attentions_sahp\u001b[0m\u001b[1;33m(\u001b[0m\u001b[0mbatch_size\u001b[0m\u001b[1;33m,\u001b[0m \u001b[0mloop_range\u001b[0m\u001b[1;33m,\u001b[0m \u001b[0mseq_lengths\u001b[0m\u001b[1;33m,\u001b[0m \u001b[0mseq_times\u001b[0m\u001b[1;33m,\u001b[0m \u001b[0mseq_types\u001b[0m\u001b[1;33m,\u001b[0m \u001b[0mmodel\u001b[0m\u001b[1;33m,\u001b[0m \u001b[0mdevice\u001b[0m\u001b[1;33m,\u001b[0m \u001b[0mlambda_l1\u001b[0m\u001b[1;33m=\u001b[0m\u001b[1;36m0\u001b[0m\u001b[1;33m)\u001b[0m\u001b[1;33m:\u001b[0m\u001b[1;33m\u001b[0m\u001b[1;33m\u001b[0m\u001b[0m\n",
      "\u001b[1;31mIndexError\u001b[0m: index 1 is out of bounds for dimension 0 with size 1"
     ]
    }
   ],
   "source": [
    "batch_onehot = sahp.one_hot_embedding(test_seq_types, model.input_size)"
   ]
  },
  {
   "cell_type": "code",
   "execution_count": 61,
   "metadata": {
    "ExecuteTime": {
     "end_time": "2021-10-04T01:27:20.217820Z",
     "start_time": "2021-10-04T01:27:20.198904Z"
    }
   },
   "outputs": [
    {
     "data": {
      "text/plain": [
       "torch.Size([400, 92, 2])"
      ]
     },
     "execution_count": 61,
     "metadata": {},
     "output_type": "execute_result"
    }
   ],
   "source": [
    "batch_onehot[:,:,:].shape"
   ]
  },
  {
   "cell_type": "code",
   "execution_count": 58,
   "metadata": {
    "ExecuteTime": {
     "end_time": "2021-10-04T01:26:12.833377Z",
     "start_time": "2021-10-04T01:26:12.813430Z"
    }
   },
   "outputs": [
    {
     "data": {
      "text/plain": [
       "tensor([  0.0000,   4.6665,   6.0890,  11.9530,  12.4728,  12.5900,  20.7698,\n",
       "         21.7239,  21.8642,  22.5975,  26.8415,  27.9285,  28.7177,  30.1560,\n",
       "         31.3296,  32.4544,  33.1469,  33.7802,  34.0427,  40.8920,  51.5232,\n",
       "         53.5542,  54.1573,  56.5474,  57.7922,  62.8637,  73.4870,  75.0916,\n",
       "         75.5580,  78.6898,  84.5311,  86.0235,  88.0580,  89.0156,  90.7996,\n",
       "         90.8185,  92.8762,  99.6050, 100.1194, 100.8769, 101.1022, 102.2296,\n",
       "        102.2321, 104.2340, 104.3581, 113.2720, 117.8082, 117.9675, 118.7762,\n",
       "        119.9810, 122.4985, 122.5790, 123.4858, 124.5513, 126.1128, 127.1961,\n",
       "        127.6598, 130.5543, 136.2862, 140.4792, 140.4970, 141.4220, 142.2272,\n",
       "        143.1583, 143.8658, 145.5730, 151.0353, 151.5467, 151.7551, 153.1299,\n",
       "        153.7074, 153.7725, 153.9533, 159.0476, 161.3204, 169.2330, 169.2663,\n",
       "        170.7163, 180.0621, 180.1047, 186.5563, 195.6226, 196.5975, 198.4887,\n",
       "        199.9994, 199.9994, 199.9994, 199.9994, 199.9994, 199.9994, 199.9994,\n",
       "        199.9994])"
      ]
     },
     "execution_count": 58,
     "metadata": {},
     "output_type": "execute_result"
    }
   ],
   "source": [
    "test_times_tensor[0]"
   ]
  },
  {
   "cell_type": "code",
   "execution_count": null,
   "metadata": {},
   "outputs": [],
   "source": []
  }
 ],
 "metadata": {
  "kernelspec": {
   "display_name": "Python 3",
   "language": "python",
   "name": "python3"
  },
  "language_info": {
   "codemirror_mode": {
    "name": "ipython",
    "version": 3
   },
   "file_extension": ".py",
   "mimetype": "text/x-python",
   "name": "python",
   "nbconvert_exporter": "python",
   "pygments_lexer": "ipython3",
   "version": "3.7.4"
  },
  "latex_envs": {
   "LaTeX_envs_menu_present": true,
   "autoclose": false,
   "autocomplete": true,
   "bibliofile": "biblio.bib",
   "cite_by": "apalike",
   "current_citInitial": 1,
   "eqLabelWithNumbers": true,
   "eqNumInitial": 1,
   "hotkeys": {
    "equation": "Ctrl-E",
    "itemize": "Ctrl-I"
   },
   "labels_anchors": false,
   "latex_user_defs": false,
   "report_style_numbering": false,
   "user_envs_cfg": false
  },
  "toc": {
   "base_numbering": 1,
   "nav_menu": {},
   "number_sections": true,
   "sideBar": true,
   "skip_h1_title": false,
   "title_cell": "Table of Contents",
   "title_sidebar": "Contents",
   "toc_cell": false,
   "toc_position": {},
   "toc_section_display": true,
   "toc_window_display": false
  }
 },
 "nbformat": 4,
 "nbformat_minor": 2
}
