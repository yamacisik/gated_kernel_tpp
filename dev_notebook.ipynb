{
 "cells": [
  {
   "cell_type": "code",
   "execution_count": 2,
   "metadata": {
    "ExecuteTime": {
     "end_time": "2021-08-19T09:34:59.878993Z",
     "start_time": "2021-08-19T09:34:59.873009Z"
    }
   },
   "outputs": [],
   "source": [
    "import argparse\n",
    "import numpy as np\n",
    "import pickle\n",
    "import time\n",
    "import torch\n",
    "import torch.nn as nn\n",
    "import torch.optim as optim\n",
    "from datetime import datetime\n",
    "\n",
    "\n",
    "from dataset import get_dataloader\n",
    "from tqdm import tqdm\n",
    "import random\n",
    "from models.gated_tpp import *\n",
    "import torch.nn.functional as F\n",
    "import seaborn as sns\n",
    "import matplotlib.pyplot as plt"
   ]
  },
  {
   "cell_type": "markdown",
   "metadata": {},
   "source": [
    "## Kernel Predictions"
   ]
  },
  {
   "cell_type": "code",
   "execution_count": 4,
   "metadata": {
    "ExecuteTime": {
     "end_time": "2021-08-19T09:39:05.896476Z",
     "start_time": "2021-08-19T09:39:04.985228Z"
    }
   },
   "outputs": [
    {
     "data": {
      "text/plain": [
       "<All keys matched successfully>"
      ]
     },
     "execution_count": 4,
     "metadata": {},
     "output_type": "execute_result"
    }
   ],
   "source": [
    "data = '../data/simulated/sin_hawkes/'\n",
    "batch_size = 1\n",
    "def load_data(name, dict_name):\n",
    "    with open(name, 'rb') as f:\n",
    "        data = pickle.load(f, encoding='latin-1')\n",
    "        num_types = data['dim_process']\n",
    "        data = data[dict_name]\n",
    "        return data, int(num_types)\n",
    "\n",
    "train_data, num_types = load_data(data + 'train.pkl', 'train')\n",
    "dev_data, _ = load_data(data + 'dev.pkl', 'dev')\n",
    "test_data, _ = load_data(data + 'test.pkl', 'test')\n",
    "\n",
    "\n",
    "trainloader = get_dataloader(train_data, batch_size, shuffle=True)\n",
    "testloader = get_dataloader(test_data, 1, shuffle=False)\n",
    "valloader = get_dataloader(dev_data, 1, shuffle=False)\n",
    "\n",
    "t_max = max(max(max(valloader.dataset.time)), max(max(testloader.dataset.time)), max(max(trainloader.dataset.time)))\n",
    "\n",
    "model = gated_TPP(num_types,32, t_max=t_max,dropout= 0.1)\n",
    "device = 'cuda'\n",
    "model.load_state_dict(torch.load('trained_models/power_hawkesdebug_model.pt'))"
   ]
  },
  {
   "cell_type": "code",
   "execution_count": 7,
   "metadata": {
    "ExecuteTime": {
     "end_time": "2021-08-19T09:39:12.650473Z",
     "start_time": "2021-08-19T09:39:11.856410Z"
    }
   },
   "outputs": [],
   "source": [
    "kernel_values = []\n",
    "all_times = []\n",
    "\n",
    "model = model.to(device)\n",
    "\n",
    "for batch in testloader:\n",
    "    \n",
    "    event_type = batch[2]\n",
    "    length = event_type.sum()\n",
    "    event_time = batch[0]\n",
    "    arrival_time = batch[1]\n",
    "    \n",
    "    event_time, arrival_time, event_type,_ = map(lambda x: x.to(device), batch)\n",
    "    scores, embedding,t_diff = model.encoder(event_type,event_time)\n",
    "\n",
    "\n",
    "    masked_t_diff = (t_diff[0][:length,:length])\n",
    "    masked_scores = (scores[0][:length,:length])\n",
    "    row,column = masked_t_diff.size()\n",
    "    row,column = torch.tril_indices(row,column)\n",
    "    times = masked_t_diff[row,column]\n",
    "    triggering_values=  masked_scores[row,column]\n",
    "    \n",
    "    kernel_values.append(triggering_values.detach())\n",
    "    all_times.append(times.detach())\n",
    "    \n",
    "kernel_values = torch.cat(kernel_values)\n",
    "all_times = torch.cat(all_times)"
   ]
  },
  {
   "cell_type": "code",
   "execution_count": 8,
   "metadata": {
    "ExecuteTime": {
     "end_time": "2021-08-19T09:39:16.589454Z",
     "start_time": "2021-08-19T09:39:16.073250Z"
    }
   },
   "outputs": [
    {
     "data": {
      "text/plain": [
       "(0, 10)"
      ]
     },
     "execution_count": 8,
     "metadata": {},
     "output_type": "execute_result"
    },
    {
     "data": {
      "image/png": "[encoded data removed]",
      "text/plain": [
       "<Figure size 432x288 with 1 Axes>"
      ]
     },
     "metadata": {
      "needs_background": "light"
     },
     "output_type": "display_data"
    }
   ],
   "source": [
    "x = all_times.detach()\n",
    "y = kernel_values.detach()\n",
    "\n",
    "sorted_indices = torch.argsort(x)\n",
    "\n",
    "x = x[sorted_indices]\n",
    "y = y[sorted_indices]\n",
    "\n",
    "\n",
    "## Moving Average\n",
    "\n",
    "step = 0.5\n",
    "\n",
    "t = []\n",
    "alpha = []\n",
    "\n",
    "for i in np.arange(step,200,step):\n",
    "    avg_index = (x<i) & ( x >i - step)\n",
    "    t.append(x[avg_index].mean().item())\n",
    "    alpha.append(y[avg_index].mean().item())\n",
    "alpha = np.array(alpha)\n",
    "# alpha = (alpha - alpha.min())/(alpha.max()-alpha.min())\n",
    "plt.plot(t,alpha)\n",
    "plt.xlim(0, 10)"
   ]
  },
  {
   "cell_type": "markdown",
   "metadata": {},
   "source": [
    "## Event Predictions"
   ]
  },
  {
   "cell_type": "markdown",
   "metadata": {},
   "source": [
    "### RMSE Calculations"
   ]
  },
  {
   "cell_type": "code",
   "execution_count": 9,
   "metadata": {
    "ExecuteTime": {
     "end_time": "2021-08-19T09:39:38.313334Z",
     "start_time": "2021-08-19T09:39:37.176273Z"
    }
   },
   "outputs": [],
   "source": [
    "last_errors = []\n",
    "all_errors = []\n",
    "all_predictions = []\n",
    "all_arrivals = []\n",
    "for batch in testloader:\n",
    "    \n",
    "\n",
    "    event_type = batch[2]\n",
    "    event_time = batch[0]\n",
    "    arrival_time = batch[1]\n",
    "    \n",
    "    event_time, arrival_time, event_type,_ = map(lambda x: x.to(device), batch)\n",
    "\n",
    "    \n",
    "    predicted_times = model(event_type,event_time)\n",
    "\n",
    "\n",
    "    last_event_index = event_type.sum(-1)-2\n",
    "    errors = predicted_times[:, :-1] - arrival_time[:, 1:]\n",
    "    seq_index = 0\n",
    "    for idx in last_event_index:\n",
    "        last_errors.append(errors[seq_index][idx].unsqueeze(-1))\n",
    "        all_errors.append(errors[seq_index][:idx+1])\n",
    "        all_predictions.append(predicted_times[:, :-1][:idx+1].squeeze(0))\n",
    "        all_arrivals.append(arrival_time[:, :-1][:idx+1].squeeze(0))\n",
    "last_errors = torch.cat(last_errors)\n",
    "last_RMSE =(last_errors**2).mean().sqrt()\n",
    "\n",
    "all_predictions = torch.cat(all_predictions)\n",
    "all_arrivals = torch.cat(all_arrivals)\n",
    "\n",
    "\n",
    "all_errors = torch.cat(all_errors)\n",
    "all_RMSE = (all_errors**2).mean().sqrt()\n",
    "\n"
   ]
  },
  {
   "cell_type": "code",
   "execution_count": 10,
   "metadata": {
    "ExecuteTime": {
     "end_time": "2021-08-19T09:39:39.111277Z",
     "start_time": "2021-08-19T09:39:38.896580Z"
    }
   },
   "outputs": [
    {
     "data": {
      "text/plain": [
       "<matplotlib.axes._subplots.AxesSubplot at 0x20676c69848>"
      ]
     },
     "execution_count": 10,
     "metadata": {},
     "output_type": "execute_result"
    },
    {
     "data": {
      "image/png": "[encoded data removed]",
      "text/plain": [
       "<Figure size 432x288 with 1 Axes>"
      ]
     },
     "metadata": {
      "needs_background": "light"
     },
     "output_type": "display_data"
    }
   ],
   "source": [
    "sns.distplot(all_predictions.cpu().detach())"
   ]
  },
  {
   "cell_type": "code",
   "execution_count": 11,
   "metadata": {
    "ExecuteTime": {
     "end_time": "2021-08-19T09:39:43.707548Z",
     "start_time": "2021-08-19T09:39:43.521077Z"
    }
   },
   "outputs": [
    {
     "data": {
      "text/plain": [
       "<matplotlib.axes._subplots.AxesSubplot at 0x20676d6fc08>"
      ]
     },
     "execution_count": 11,
     "metadata": {},
     "output_type": "execute_result"
    },
    {
     "data": {
      "image/png": "[encoded data removed]",
      "text/plain": [
       "<Figure size 432x288 with 1 Axes>"
      ]
     },
     "metadata": {
      "needs_background": "light"
     },
     "output_type": "display_data"
    }
   ],
   "source": [
    "sns.distplot(all_arrivals.cpu().detach())"
   ]
  },
  {
   "cell_type": "code",
   "execution_count": 12,
   "metadata": {
    "ExecuteTime": {
     "end_time": "2021-08-19T09:39:46.125914Z",
     "start_time": "2021-08-19T09:39:45.913110Z"
    }
   },
   "outputs": [
    {
     "data": {
      "text/plain": [
       "<matplotlib.axes._subplots.AxesSubplot at 0x206769b4448>"
      ]
     },
     "execution_count": 12,
     "metadata": {},
     "output_type": "execute_result"
    },
    {
     "data": {
      "image/png": "[encoded data removed]",
      "text/plain": [
       "<Figure size 432x288 with 1 Axes>"
      ]
     },
     "metadata": {
      "needs_background": "light"
     },
     "output_type": "display_data"
    }
   ],
   "source": [
    "sns.distplot(np.abs(all_errors.to('cpu').detach()))"
   ]
  },
  {
   "cell_type": "markdown",
   "metadata": {},
   "source": [
    "## Gate Experiments"
   ]
  },
  {
   "cell_type": "code",
   "execution_count": 16,
   "metadata": {
    "ExecuteTime": {
     "end_time": "2021-08-19T09:40:57.294414Z",
     "start_time": "2021-08-19T09:40:57.281449Z"
    }
   },
   "outputs": [
    {
     "data": {
      "text/plain": [
       "{'length_scale': tensor(1.0881, device='cuda:0', grad_fn=<SoftplusBackward>),\n",
       " 'sigma': 1,\n",
       " 'Norm-P': 1}"
      ]
     },
     "execution_count": 16,
     "metadata": {},
     "output_type": "execute_result"
    }
   ],
   "source": [
    "model.encoder.kernel.get_params()\n",
    "# model.encoder.sigmoid.get_params()"
   ]
  },
  {
   "cell_type": "code",
   "execution_count": 15,
   "metadata": {
    "ExecuteTime": {
     "end_time": "2021-08-19T09:40:41.696169Z",
     "start_time": "2021-08-19T09:40:41.688191Z"
    }
   },
   "outputs": [],
   "source": [
    "\n",
    "def squared_exponential_kernel(x, sigma=10, lambd=0.01, norm=2):\n",
    "    d = x ** norm\n",
    "\n",
    "    return (sigma ** 2) * torch.exp(-(d ** 2) / lambd ** 2)\n",
    "\n",
    "\n",
    "def sigmoid(x,l=0.1,s=0.1,b = 0.1,norm =2):\n",
    "    d = x**norm\n",
    "    return 1+torch.tanh((d-l)/s)\n",
    "\n"
   ]
  },
  {
   "cell_type": "code",
   "execution_count": 41,
   "metadata": {
    "ExecuteTime": {
     "end_time": "2021-08-19T09:45:22.028569Z",
     "start_time": "2021-08-19T09:45:21.906689Z"
    }
   },
   "outputs": [
    {
     "data": {
      "text/plain": [
       "(0, 10)"
      ]
     },
     "execution_count": 41,
     "metadata": {},
     "output_type": "execute_result"
    },
    {
     "data": {
      "image/png": "[encoded data removed]",
      "text/plain": [
       "<Figure size 432x288 with 1 Axes>"
      ]
     },
     "metadata": {
      "needs_background": "light"
     },
     "output_type": "display_data"
    }
   ],
   "source": [
    "t =torch.arange(0,200,0.1)\n",
    "val = squared_exponential_kernel(t,sigma = 1,lambd=1.0,norm = 1)\n",
    "val_s = sigmoid((t/200),l =0.03,s = 0.01,norm =1)\n",
    "\n",
    "\n",
    "plt.plot(t,(val_s)*val)\n",
    "plt.xlim(0, 10)\n",
    "\n",
    "\n"
   ]
  },
  {
   "cell_type": "code",
   "execution_count": null,
   "metadata": {
    "ExecuteTime": {
     "end_time": "2021-08-18T15:26:04.601649Z",
     "start_time": "2021-08-18T15:26:04.559764Z"
    }
   },
   "outputs": [],
   "source": [
    "(tensor(0.2037, grad_fn=<SelectBackward>),\n",
    " tensor(0.6250, grad_fn=<SelectBackward>))"
   ]
  },
  {
   "cell_type": "code",
   "execution_count": null,
   "metadata": {
    "ExecuteTime": {
     "end_time": "2021-08-18T15:26:04.603673Z",
     "start_time": "2021-08-18T15:26:03.680Z"
    }
   },
   "outputs": [],
   "source": [
    "nn.ModuleList([nn.Parameter(),nn.Parameter()])"
   ]
  },
  {
   "cell_type": "code",
   "execution_count": null,
   "metadata": {
    "ExecuteTime": {
     "end_time": "2021-08-18T10:02:36.947174Z",
     "start_time": "2021-08-18T10:02:36.941158Z"
    }
   },
   "outputs": [],
   "source": [
    "nn.Parameter()"
   ]
  },
  {
   "cell_type": "code",
   "execution_count": null,
   "metadata": {
    "ExecuteTime": {
     "end_time": "2021-08-18T10:02:46.619420Z",
     "start_time": "2021-08-18T10:02:46.603463Z"
    }
   },
   "outputs": [],
   "source": [
    "nn.Parameter(torch.tensor(-0.1))"
   ]
  },
  {
   "cell_type": "code",
   "execution_count": null,
   "metadata": {
    "ExecuteTime": {
     "end_time": "2021-08-18T12:10:51.843818Z",
     "start_time": "2021-08-18T12:10:51.826865Z"
    }
   },
   "outputs": [],
   "source": [
    "nn.Sequential(nn.Parameter(torch.tensor([ 0.1] )), nn.Softplus())"
   ]
  },
  {
   "cell_type": "code",
   "execution_count": null,
   "metadata": {
    "ExecuteTime": {
     "end_time": "2021-08-18T12:15:55.173707Z",
     "start_time": "2021-08-18T12:15:55.156717Z"
    }
   },
   "outputs": [],
   "source": [
    "torch.softplus"
   ]
  },
  {
   "cell_type": "code",
   "execution_count": 34,
   "metadata": {
    "ExecuteTime": {
     "end_time": "2021-08-19T09:43:38.719480Z",
     "start_time": "2021-08-19T09:43:37.642346Z"
    }
   },
   "outputs": [
    {
     "data": {
      "text/plain": [
       "<All keys matched successfully>"
      ]
     },
     "execution_count": 34,
     "metadata": {},
     "output_type": "execute_result"
    }
   ],
   "source": [
    "data = '../data/simulated/power_hawkes/'\n",
    "batch_size = 1\n",
    "def load_data(name, dict_name):\n",
    "    with open(name, 'rb') as f:\n",
    "        data = pickle.load(f, encoding='latin-1')\n",
    "        num_types = data['dim_process']\n",
    "        data = data[dict_name]\n",
    "        return data, int(num_types)\n",
    "\n",
    "train_data, num_types = load_data(data + 'train.pkl', 'train')\n",
    "dev_data, _ = load_data(data + 'dev.pkl', 'dev')\n",
    "test_data, _ = load_data(data + 'test.pkl', 'test')\n",
    "\n",
    "\n",
    "trainloader = get_dataloader(train_data, batch_size, shuffle=True)\n",
    "testloader = get_dataloader(test_data, 1, shuffle=False)\n",
    "valloader = get_dataloader(dev_data, 1, shuffle=False)\n",
    "\n",
    "t_max = max(max(max(valloader.dataset.time)), max(max(testloader.dataset.time)), max(max(trainloader.dataset.time)))\n",
    "\n",
    "model = gated_TPP(num_types,32, t_max=t_max,dropout= 0.1)\n",
    "device = 'cuda'\n",
    "model.load_state_dict(torch.load('trained_models/power_hawkesdebug_model.pt'))"
   ]
  },
  {
   "cell_type": "code",
   "execution_count": 37,
   "metadata": {
    "ExecuteTime": {
     "end_time": "2021-08-19T09:44:04.192484Z",
     "start_time": "2021-08-19T09:44:04.178484Z"
    }
   },
   "outputs": [
    {
     "name": "stdout",
     "output_type": "stream",
     "text": [
      "{'length_scale': tensor(1.2644, grad_fn=<SoftplusBackward>), 'sigma': 1, 'Norm-P': 1}\n",
      "(tensor(0.5250, grad_fn=<SelectBackward>), tensor(0.5250, grad_fn=<SelectBackward>))\n"
     ]
    }
   ],
   "source": [
    "print(model.encoder.kernel.get_params())\n",
    "print(model.encoder.sigmoid.get_params())"
   ]
  },
  {
   "cell_type": "code",
   "execution_count": 38,
   "metadata": {
    "ExecuteTime": {
     "end_time": "2021-08-19T09:44:24.133182Z",
     "start_time": "2021-08-19T09:44:23.642025Z"
    }
   },
   "outputs": [],
   "source": [
    "kernel_values = []\n",
    "all_times = []\n",
    "\n",
    "model = model.to(device)\n",
    "\n",
    "for batch in testloader:\n",
    "    \n",
    "    event_type = batch[2]\n",
    "    length = event_type.sum()\n",
    "    event_time = batch[0]\n",
    "    arrival_time = batch[1]\n",
    "    \n",
    "    event_time, arrival_time, event_type,_ = map(lambda x: x.to(device), batch)\n",
    "    scores, embedding,t_diff = model.encoder(event_type,event_time)\n",
    "\n",
    "\n",
    "    masked_t_diff = (t_diff[0][:length,:length])\n",
    "    masked_scores = (scores[0][:length,:length])\n",
    "    row,column = masked_t_diff.size()\n",
    "    row,column = torch.tril_indices(row,column)\n",
    "    times = masked_t_diff[row,column]\n",
    "    triggering_values=  masked_scores[row,column]\n",
    "    \n",
    "    kernel_values.append(triggering_values.detach())\n",
    "    all_times.append(times.detach())\n",
    "    \n",
    "kernel_values = torch.cat(kernel_values)\n",
    "all_times = torch.cat(all_times)"
   ]
  },
  {
   "cell_type": "code",
   "execution_count": 39,
   "metadata": {
    "ExecuteTime": {
     "end_time": "2021-08-19T09:44:34.634614Z",
     "start_time": "2021-08-19T09:44:34.305507Z"
    }
   },
   "outputs": [
    {
     "data": {
      "text/plain": [
       "(0, 10)"
      ]
     },
     "execution_count": 39,
     "metadata": {},
     "output_type": "execute_result"
    },
    {
     "data": {
      "image/png": "[encoded data removed]",
      "text/plain": [
       "<Figure size 432x288 with 1 Axes>"
      ]
     },
     "metadata": {
      "needs_background": "light"
     },
     "output_type": "display_data"
    }
   ],
   "source": [
    "x = all_times.detach()\n",
    "y = kernel_values.detach()\n",
    "\n",
    "sorted_indices = torch.argsort(x)\n",
    "\n",
    "x = x[sorted_indices]\n",
    "y = y[sorted_indices]\n",
    "\n",
    "\n",
    "## Moving Average\n",
    "\n",
    "step = 0.5\n",
    "\n",
    "t = []\n",
    "alpha = []\n",
    "\n",
    "for i in np.arange(step,200,step):\n",
    "    avg_index = (x<i) & ( x >i - step)\n",
    "    t.append(x[avg_index].mean().item())\n",
    "    alpha.append(y[avg_index].mean().item())\n",
    "alpha = np.array(alpha)\n",
    "# alpha = (alpha - alpha.min())/(alpha.max()-alpha.min())\n",
    "plt.plot(t,alpha)\n",
    "plt.xlim(0, 10)"
   ]
  },
  {
   "cell_type": "code",
   "execution_count": null,
   "metadata": {},
   "outputs": [],
   "source": []
  }
 ],
 "metadata": {
  "kernelspec": {
   "display_name": "Python 3",
   "language": "python",
   "name": "python3"
  },
  "language_info": {
   "codemirror_mode": {
    "name": "ipython",
    "version": 3
   },
   "file_extension": ".py",
   "mimetype": "text/x-python",
   "name": "python",
   "nbconvert_exporter": "python",
   "pygments_lexer": "ipython3",
   "version": "3.7.4"
  },
  "latex_envs": {
   "LaTeX_envs_menu_present": true,
   "autoclose": false,
   "autocomplete": true,
   "bibliofile": "biblio.bib",
   "cite_by": "apalike",
   "current_citInitial": 1,
   "eqLabelWithNumbers": true,
   "eqNumInitial": 1,
   "hotkeys": {
    "equation": "Ctrl-E",
    "itemize": "Ctrl-I"
   },
   "labels_anchors": false,
   "latex_user_defs": false,
   "report_style_numbering": false,
   "user_envs_cfg": false
  },
  "toc": {
   "base_numbering": 1,
   "nav_menu": {},
   "number_sections": true,
   "sideBar": true,
   "skip_h1_title": false,
   "title_cell": "Table of Contents",
   "title_sidebar": "Contents",
   "toc_cell": false,
   "toc_position": {},
   "toc_section_display": true,
   "toc_window_display": false
  }
 },
 "nbformat": 4,
 "nbformat_minor": 2
}
