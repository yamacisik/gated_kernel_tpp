{
 "cells": [
  {
   "cell_type": "code",
   "execution_count": 1,
   "metadata": {
    "ExecuteTime": {
     "end_time": "2021-08-14T13:56:14.568926Z",
     "start_time": "2021-08-14T13:56:13.845779Z"
    }
   },
   "outputs": [],
   "source": [
    "import argparse\n",
    "import numpy as np\n",
    "import pickle\n",
    "import time\n",
    "import torch\n",
    "import torch.nn as nn\n",
    "import torch.optim as optim\n",
    "\n",
    "\n",
    "from dataset import get_dataloader\n",
    "from tqdm import tqdm\n",
    "import random\n",
    "from models.gated_tpp import *\n",
    "import torch.nn.functional as F"
   ]
  },
  {
   "cell_type": "code",
   "execution_count": 2,
   "metadata": {
    "ExecuteTime": {
     "end_time": "2021-08-14T13:56:15.394754Z",
     "start_time": "2021-08-14T13:56:14.571918Z"
    }
   },
   "outputs": [],
   "source": [
    "data = '../data/simulated/sin_hawkes/'\n",
    "batch_size = 32\n",
    "def load_data(name, dict_name):\n",
    "    with open(name, 'rb') as f:\n",
    "        data = pickle.load(f, encoding='latin-1')\n",
    "        num_types = data['dim_process']\n",
    "        data = data[dict_name]\n",
    "        return data, int(num_types)\n",
    "\n",
    "train_data, num_types = load_data(data + 'train.pkl', 'train')\n",
    "dev_data, _ = load_data(data + 'dev.pkl', 'dev')\n",
    "test_data, _ = load_data(data + 'test.pkl', 'test')\n",
    "\n",
    "\n",
    "trainloader = get_dataloader(train_data, 32, shuffle=True)\n",
    "testloader = get_dataloader(test_data, 32, shuffle=False)\n",
    "valloader = get_dataloader(dev_data, 32, shuffle=False)"
   ]
  },
  {
   "cell_type": "code",
   "execution_count": 3,
   "metadata": {
    "ExecuteTime": {
     "end_time": "2021-08-14T13:56:20.266628Z",
     "start_time": "2021-08-14T13:56:17.354635Z"
    }
   },
   "outputs": [],
   "source": [
    "for batch in testloader:\n",
    "    pass"
   ]
  },
  {
   "cell_type": "code",
   "execution_count": 4,
   "metadata": {
    "ExecuteTime": {
     "end_time": "2021-08-14T13:56:20.297545Z",
     "start_time": "2021-08-14T13:56:20.268624Z"
    }
   },
   "outputs": [],
   "source": [
    "TPP = gated_TPP(1,16)\n",
    "enc = Encoder(1,16,200)\n",
    "h = TPP(batch[2],batch[0])\n"
   ]
  },
  {
   "cell_type": "code",
   "execution_count": 7,
   "metadata": {
    "ExecuteTime": {
     "end_time": "2021-08-14T13:54:42.761650Z",
     "start_time": "2021-08-14T13:54:42.754668Z"
    }
   },
   "outputs": [
    {
     "data": {
      "text/plain": [
       "tensor([ 1.2200,  1.9236, 26.4183,  3.3898,  2.1395,  4.6247,  4.3740,  0.7937,\n",
       "         0.3799,  0.3851,  7.2962,  4.2890,  4.8704,  0.9082,  2.6385,  3.3769,\n",
       "         3.2499,  3.9915,  1.5987,  4.8717,  6.5974,  2.3238,  8.3797,  0.0403,\n",
       "         1.6190,  2.4893,  2.2544,  0.5069,  1.9460,  0.2240,  0.7716,  3.3092,\n",
       "         3.9283,  3.6769,  2.1405,  1.2271,  4.8555,  1.4609,  0.1759,  0.6158,\n",
       "         1.6772,  2.3163,  2.2684,  1.1500,  0.3552,  0.3740,  1.8785,  0.9291,\n",
       "         0.1469, 15.5452,  1.5675,  0.6699,  1.9982,  4.5895,  0.8847,  3.6575,\n",
       "         2.2452,  2.3867,  6.4538,  9.0674,  3.3847,  0.0000,  0.0000,  0.0000,\n",
       "         0.0000,  0.0000,  0.0000,  0.0000,  0.0000,  0.0000,  0.0000])"
      ]
     },
     "execution_count": 7,
     "metadata": {},
     "output_type": "execute_result"
    }
   ],
   "source": [
    "batch[1][0]"
   ]
  },
  {
   "cell_type": "code",
   "execution_count": null,
   "metadata": {},
   "outputs": [],
   "source": []
  }
 ],
 "metadata": {
  "kernelspec": {
   "display_name": "Python 3",
   "language": "python",
   "name": "python3"
  },
  "language_info": {
   "codemirror_mode": {
    "name": "ipython",
    "version": 3
   },
   "file_extension": ".py",
   "mimetype": "text/x-python",
   "name": "python",
   "nbconvert_exporter": "python",
   "pygments_lexer": "ipython3",
   "version": "3.7.4"
  },
  "latex_envs": {
   "LaTeX_envs_menu_present": true,
   "autoclose": false,
   "autocomplete": true,
   "bibliofile": "biblio.bib",
   "cite_by": "apalike",
   "current_citInitial": 1,
   "eqLabelWithNumbers": true,
   "eqNumInitial": 1,
   "hotkeys": {
    "equation": "Ctrl-E",
    "itemize": "Ctrl-I"
   },
   "labels_anchors": false,
   "latex_user_defs": false,
   "report_style_numbering": false,
   "user_envs_cfg": false
  },
  "toc": {
   "base_numbering": 1,
   "nav_menu": {},
   "number_sections": true,
   "sideBar": true,
   "skip_h1_title": false,
   "title_cell": "Table of Contents",
   "title_sidebar": "Contents",
   "toc_cell": false,
   "toc_position": {},
   "toc_section_display": true,
   "toc_window_display": false
  }
 },
 "nbformat": 4,
 "nbformat_minor": 2
}
