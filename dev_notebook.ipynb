{
 "cells": [
  {
   "cell_type": "code",
   "execution_count": 14,
   "metadata": {
    "ExecuteTime": {
     "end_time": "2021-10-04T02:10:13.094015Z",
     "start_time": "2021-10-04T02:10:13.077062Z"
    }
   },
   "outputs": [],
   "source": [
    "import argparse\n",
    "import numpy as np\n",
    "import pickle\n",
    "import time\n",
    "import torch\n",
    "import torch.nn as nn\n",
    "import torch.optim as optim\n",
    "from datetime import datetime\n",
    "\n",
    "\n",
    "from dataset import get_dataloader,EventData\n",
    "from tqdm import tqdm\n",
    "import random\n",
    "from models.gated_tpp import *\n",
    "import torch.nn.functional as F\n",
    "import seaborn as sns\n",
    "import matplotlib.pyplot as plt\n",
    "\n",
    "from models import sahp \n",
    "\n",
    "\n",
    "def load_data(name, dict_name):\n",
    "    with open(name, 'rb') as f:\n",
    "        data = pickle.load(f, encoding='latin-1')\n",
    "        num_types = data['dim_process']\n",
    "        data = data[dict_name]\n",
    "        return data, int(num_types)"
   ]
  },
  {
   "cell_type": "markdown",
   "metadata": {},
   "source": [
    "## Conditional GAN"
   ]
  },
  {
   "cell_type": "code",
   "execution_count": 80,
   "metadata": {
    "ExecuteTime": {
     "end_time": "2021-10-04T02:49:54.432969Z",
     "start_time": "2021-10-04T02:49:54.422962Z"
    }
   },
   "outputs": [
    {
     "data": {
      "text/plain": [
       "99"
      ]
     },
     "execution_count": 80,
     "metadata": {},
     "output_type": "execute_result"
    }
   ],
   "source": []
  },
  {
   "cell_type": "code",
   "execution_count": 74,
   "metadata": {
    "ExecuteTime": {
     "end_time": "2021-10-04T02:47:48.900962Z",
     "start_time": "2021-10-04T02:47:48.046214Z"
    },
    "scrolled": false
   },
   "outputs": [],
   "source": [
    "data = '../data/simulated/power_hawkes/'\n",
    "batch_size = 1\n",
    "\n",
    "\n",
    "\n",
    "train_data, num_types = load_data(data + 'train.pkl', 'train')\n",
    "dev_data, _ = load_data(data + 'dev.pkl', 'dev')\n",
    "test_data, _ = load_data(data + 'test.pkl', 'test')\n",
    "\n",
    "t_max = 1\n",
    "\n",
    "\n",
    "trainloader = get_dataloader(train_data, 10, shuffle=True,t_max =t_max)\n",
    "testloader = get_dataloader(test_data,1, shuffle=False,t_max = t_max)\n",
    "valloader = get_dataloader(dev_data, 1, shuffle=False,t_max =t_max)\n",
    "\n",
    "model = gated_tpp(num_types,16,32,dropout= 0.1,kernel_type='rational_quadratic',\n",
    "                  length_scale=0.2,alpha=0.6,sigma = 0.1,timetovec=True)\n",
    "device = 'cpu'\n",
    "# model.load_state_dict(torch.load('trained_models/20210929_033634.pt'))\n",
    "\n",
    "# stated_dict = torch.load('trained_embeddings/timetovec' +str(128)+  '.pt')\n",
    "# model.encoder.embedding.load_state_dict(stated_dict)\n"
   ]
  },
  {
   "cell_type": "code",
   "execution_count": 83,
   "metadata": {
    "ExecuteTime": {
     "end_time": "2021-10-04T02:51:57.320867Z",
     "start_time": "2021-10-04T02:51:57.305875Z"
    }
   },
   "outputs": [
    {
     "data": {
      "text/plain": [
       "21338"
      ]
     },
     "execution_count": 83,
     "metadata": {},
     "output_type": "execute_result"
    }
   ],
   "source": [
    "valid_events = 0\n",
    "train_events = 0\n",
    "for seq in valloader.dataset.event_type:\n",
    "    valid_events += len(seq)\n",
    "    \n",
    "for seq in trainloader.dataset.event_type:\n",
    "    train_events += len(seq)\n",
    "valid_events"
   ]
  },
  {
   "cell_type": "code",
   "execution_count": 82,
   "metadata": {
    "ExecuteTime": {
     "end_time": "2021-10-04T02:50:45.653869Z",
     "start_time": "2021-10-04T02:50:45.632926Z"
    }
   },
   "outputs": [
    {
     "data": {
      "text/plain": [
       "169435"
      ]
     },
     "execution_count": 82,
     "metadata": {},
     "output_type": "execute_result"
    }
   ],
   "source": [
    "train_events = 0\n",
    "\n",
    "for seq in train_data:\n",
    "    train_events += len(seq)\n",
    "train_events"
   ]
  },
  {
   "cell_type": "code",
   "execution_count": 88,
   "metadata": {
    "ExecuteTime": {
     "end_time": "2021-10-10T07:12:15.121759Z",
     "start_time": "2021-10-10T07:12:15.100815Z"
    }
   },
   "outputs": [
    {
     "data": {
      "text/plain": [
       "1633849935.1028097"
      ]
     },
     "execution_count": 88,
     "metadata": {},
     "output_type": "execute_result"
    }
   ],
   "source": [
    "time.time()"
   ]
  },
  {
   "cell_type": "markdown",
   "metadata": {},
   "source": [
    "### Add Loss"
   ]
  },
  {
   "cell_type": "code",
   "execution_count": 16,
   "metadata": {
    "ExecuteTime": {
     "end_time": "2021-10-04T02:10:15.339628Z",
     "start_time": "2021-10-04T02:10:15.210003Z"
    }
   },
   "outputs": [],
   "source": [
    "for batch in trainloader:\n",
    "    pass"
   ]
  },
  {
   "cell_type": "code",
   "execution_count": 17,
   "metadata": {
    "ExecuteTime": {
     "end_time": "2021-10-04T02:10:15.664618Z",
     "start_time": "2021-10-04T02:10:15.651692Z"
    }
   },
   "outputs": [],
   "source": [
    "scores, embeddings, _  = model.encoder(batch[2],batch[0],batch[1])\n",
    "hidden = torch.matmul(scores, embeddings)\n",
    "hidden = model.norm(hidden)"
   ]
  },
  {
   "cell_type": "code",
   "execution_count": 18,
   "metadata": {
    "ExecuteTime": {
     "end_time": "2021-10-04T02:10:16.010590Z",
     "start_time": "2021-10-04T02:10:15.997625Z"
    }
   },
   "outputs": [],
   "source": [
    "intensity = model.decoder.GAN\n",
    "intensity(hidden)"
   ]
  },
  {
   "cell_type": "code",
   "execution_count": 25,
   "metadata": {
    "ExecuteTime": {
     "end_time": "2021-10-04T02:10:56.011208Z",
     "start_time": "2021-10-04T02:10:55.987275Z"
    }
   },
   "outputs": [
    {
     "data": {
      "text/plain": [
       "tensor(1733.6035, grad_fn=<SumBackward0>)"
      ]
     },
     "execution_count": 25,
     "metadata": {},
     "output_type": "execute_result"
    }
   ],
   "source": [
    "dt_seq = batch[1]\n",
    "seq_types = batch[2]\n",
    "\n",
    "seq_onehot_types = seq_types -1\n",
    "seq_onehot_types[seq_onehot_types<0] = model.num_types\n",
    "seq_onehot_types = sahp.one_hot_embedding(seq_onehot_types,model.num_types+1)\n",
    "\n",
    "intensity._compute_loss(dt_seq,seq_onehot_types)"
   ]
  },
  {
   "cell_type": "code",
   "execution_count": 46,
   "metadata": {
    "ExecuteTime": {
     "end_time": "2021-10-04T02:16:08.787683Z",
     "start_time": "2021-10-04T02:16:08.779704Z"
    }
   },
   "outputs": [
    {
     "data": {
      "text/plain": [
       "tensor([1.4557e+01, 2.9407e-02, 1.5623e+00, 1.1958e+01, 1.6583e+01, 4.4800e+01,\n",
       "        9.3425e-01, 1.0270e+00, 5.2232e+00, 4.6612e+00, 5.7947e+00, 9.1721e+00,\n",
       "        3.6837e+00, 7.3817e-01, 1.7497e+00, 2.2048e+00, 1.0324e+00, 2.8561e+00,\n",
       "        5.8741e+00, 2.2691e-01, 1.2728e+01, 1.6174e+01, 1.7266e+01, 5.7581e-01,\n",
       "        1.5617e-01, 1.9155e+00, 1.4009e+00, 3.0396e-01, 3.0453e-02, 9.6356e+00,\n",
       "        2.9956e-01])"
      ]
     },
     "execution_count": 46,
     "metadata": {},
     "output_type": "execute_result"
    }
   ],
   "source": [
    "dt_seq =batch[1]\n",
    "dt_seq[0][:length]"
   ]
  },
  {
   "cell_type": "code",
   "execution_count": 49,
   "metadata": {
    "ExecuteTime": {
     "end_time": "2021-10-04T02:18:34.796945Z",
     "start_time": "2021-10-04T02:18:34.781986Z"
    }
   },
   "outputs": [
    {
     "data": {
      "text/plain": [
       "tensor([[1.4557e+01, 2.9407e-02, 1.5623e+00,  ..., 0.0000e+00, 0.0000e+00,\n",
       "         0.0000e+00],\n",
       "        [6.1242e+00, 3.5171e+01, 7.4125e-03,  ..., 0.0000e+00, 0.0000e+00,\n",
       "         0.0000e+00],\n",
       "        [5.2417e+00, 4.3349e+00, 2.1503e-01,  ..., 0.0000e+00, 0.0000e+00,\n",
       "         0.0000e+00],\n",
       "        ...,\n",
       "        [2.0992e+01, 4.2071e+00, 5.6258e+00,  ..., 0.0000e+00, 0.0000e+00,\n",
       "         0.0000e+00],\n",
       "        [1.9064e+00, 7.3811e+00, 1.2294e+01,  ..., 0.0000e+00, 0.0000e+00,\n",
       "         0.0000e+00],\n",
       "        [3.0977e+00, 1.0216e-01, 3.5453e-01,  ..., 1.3000e+00, 4.8703e-01,\n",
       "         5.4412e-02]])"
      ]
     },
     "execution_count": 49,
     "metadata": {},
     "output_type": "execute_result"
    }
   ],
   "source": [
    "dt_seq"
   ]
  },
  {
   "cell_type": "code",
   "execution_count": 61,
   "metadata": {
    "ExecuteTime": {
     "end_time": "2021-10-04T02:23:40.201642Z",
     "start_time": "2021-10-04T02:23:40.181693Z"
    }
   },
   "outputs": [
    {
     "ename": "TypeError",
     "evalue": "forward() missing 1 required positional argument: 'arrival_times'",
     "output_type": "error",
     "traceback": [
      "\u001b[1;31m---------------------------------------------------------------------------\u001b[0m",
      "\u001b[1;31mTypeError\u001b[0m                                 Traceback (most recent call last)",
      "\u001b[1;32m<ipython-input-61-89d0e8ba3b41>\u001b[0m in \u001b[0;36m<module>\u001b[1;34m\u001b[0m\n\u001b[0;32m     25\u001b[0m \u001b[1;32mwith\u001b[0m \u001b[0mtorch\u001b[0m\u001b[1;33m.\u001b[0m\u001b[0mno_grad\u001b[0m\u001b[1;33m(\u001b[0m\u001b[1;33m)\u001b[0m\u001b[1;33m:\u001b[0m\u001b[1;33m\u001b[0m\u001b[1;33m\u001b[0m\u001b[0m\n\u001b[0;32m     26\u001b[0m \u001b[1;33m\u001b[0m\u001b[0m\n\u001b[1;32m---> 27\u001b[1;33m     \u001b[0mmodel\u001b[0m\u001b[1;33m.\u001b[0m\u001b[0mforward\u001b[0m\u001b[1;33m(\u001b[0m\u001b[0mdt_seq_used\u001b[0m\u001b[1;33m,\u001b[0m \u001b[0mseq_types_used\u001b[0m\u001b[1;33m)\u001b[0m\u001b[1;33m\u001b[0m\u001b[1;33m\u001b[0m\u001b[0m\n\u001b[0m\u001b[0;32m     28\u001b[0m     \u001b[0mconverge_point\u001b[0m \u001b[1;33m=\u001b[0m \u001b[0mtorch\u001b[0m\u001b[1;33m.\u001b[0m\u001b[0msqueeze\u001b[0m\u001b[1;33m(\u001b[0m\u001b[0mintensity\u001b[0m\u001b[1;33m.\u001b[0m\u001b[0mconverge_point\u001b[0m\u001b[1;33m)\u001b[0m\u001b[1;33m[\u001b[0m\u001b[1;33m-\u001b[0m\u001b[1;36m1\u001b[0m\u001b[1;33m,\u001b[0m \u001b[1;33m:\u001b[0m\u001b[1;33m]\u001b[0m\u001b[1;33m\u001b[0m\u001b[1;33m\u001b[0m\u001b[0m\n\u001b[0;32m     29\u001b[0m     \u001b[0mstart_point\u001b[0m \u001b[1;33m=\u001b[0m \u001b[0mtorch\u001b[0m\u001b[1;33m.\u001b[0m\u001b[0msqueeze\u001b[0m\u001b[1;33m(\u001b[0m\u001b[0mintensity\u001b[0m\u001b[1;33m.\u001b[0m\u001b[0mstart_point\u001b[0m\u001b[1;33m)\u001b[0m\u001b[1;33m[\u001b[0m\u001b[1;33m-\u001b[0m\u001b[1;36m1\u001b[0m\u001b[1;33m,\u001b[0m \u001b[1;33m:\u001b[0m\u001b[1;33m]\u001b[0m\u001b[1;33m\u001b[0m\u001b[1;33m\u001b[0m\u001b[0m\n",
      "\u001b[1;31mTypeError\u001b[0m: forward() missing 1 required positional argument: 'arrival_times'"
     ]
    }
   ],
   "source": [
    "seq_lengths = (batch[2]!=0).sum(-1)\n",
    "dt_seq =batch[1]\n",
    "seq_types = batch[2]\n",
    "pad = 1\n",
    "hmax = 200\n",
    "n_samples = 100\n",
    "\n",
    "index = 0\n",
    "length = seq_lengths[index].item()  # exclude the first added event\n",
    "dt_seq =dt_seq[index]\n",
    "seq_types = seq_types[index]\n",
    "\n",
    "dt_seq_valid = dt_seq[:length]  # exclude the last timestamp\n",
    "dt_seq_used = dt_seq_valid[:length - 1]  # exclude the last timestamp\n",
    "next_dt = dt_seq_valid[length - 1]\n",
    "\n",
    "seq_types_valid = seq_types[:length + 1]  # include the first added event\n",
    "last_type = seq_types[length - 1]\n",
    "next_type = seq_types[length]\n",
    "\n",
    "seq_types_used = seq_types_valid[:-1]\n",
    "seq_types_valid_masked = sahp.MaskBatch(seq_types_used[None, :], pad, device)\n",
    "seq_types_used_mask = seq_types_valid_masked.src_mask\n",
    "\n",
    "with torch.no_grad():\n",
    "    \n",
    "    model.forward(dt_seq_used, seq_types_used)\n",
    "    converge_point = torch.squeeze(intensity.converge_point)[-1, :]\n",
    "    start_point = torch.squeeze(intensity.start_point)[-1, :]\n",
    "    omega = torch.squeeze(intensity.omega)[-1, :]\n",
    "    \n",
    "    \n",
    "    dt_vals = torch.linspace(0, hmax, n_samples + 1).to(device)\n",
    "    h_t_vals = intensity.state_decay(converge_point,\n",
    "                                start_point,\n",
    "                                omega,\n",
    "                                dt_vals[:, None])\n"
   ]
  },
  {
   "cell_type": "code",
   "execution_count": 62,
   "metadata": {
    "ExecuteTime": {
     "end_time": "2021-10-04T02:25:23.087787Z",
     "start_time": "2021-10-04T02:25:23.078807Z"
    }
   },
   "outputs": [
    {
     "data": {
      "text/plain": [
       "tensor([1.4557e+01, 2.9407e-02, 1.5623e+00, 1.1958e+01, 1.6583e+01, 4.4800e+01,\n",
       "        9.3425e-01, 1.0270e+00, 5.2232e+00, 4.6612e+00, 5.7947e+00, 9.1721e+00,\n",
       "        3.6837e+00, 7.3817e-01, 1.7497e+00, 2.2048e+00, 1.0324e+00, 2.8561e+00,\n",
       "        5.8741e+00, 2.2691e-01, 1.2728e+01, 1.6174e+01, 1.7266e+01, 5.7581e-01,\n",
       "        1.5617e-01, 1.9155e+00, 1.4009e+00, 3.0396e-01, 3.0453e-02, 9.6356e+00])"
      ]
     },
     "execution_count": 62,
     "metadata": {},
     "output_type": "execute_result"
    }
   ],
   "source": [
    "dt_seq_used"
   ]
  },
  {
   "cell_type": "code",
   "execution_count": 156,
   "metadata": {
    "ExecuteTime": {
     "end_time": "2021-10-04T01:50:38.954211Z",
     "start_time": "2021-10-04T01:50:38.937209Z"
    }
   },
   "outputs": [],
   "source": [
    "dt_seq = batch[1]\n",
    "seq_types = batch[2]\n",
    "\n",
    "seq_onehot_types = seq_types -1\n",
    "seq_onehot_types[seq_onehot_types<0] = model.num_types\n",
    "seq_onehot_types = sahp.one_hot_embedding(seq_onehot_types,model.num_types+1)\n",
    "\n",
    "seq_mask = seq_onehot_types[:,:,:-1]!=0\n",
    "\n",
    "n_mc_samples=20"
   ]
  },
  {
   "cell_type": "code",
   "execution_count": 173,
   "metadata": {
    "ExecuteTime": {
     "end_time": "2021-10-04T01:55:37.339215Z",
     "start_time": "2021-10-04T01:55:37.313284Z"
    }
   },
   "outputs": [],
   "source": [
    "cell_t = intensity.state_decay(intensity.converge_point, intensity.start_point, intensity.omega, dt_seq[:, :, None])\n",
    "\n",
    "\n",
    "n_batch = dt_seq.size(0)\n",
    "n_times = dt_seq.size(1)\n",
    "\n",
    "\n",
    "device = dt_seq.device\n",
    "# Get the intensity process\n",
    "intens_at_evs = intensity.intensity_layer(cell_t)\n",
    "log_intensities = intens_at_evs.log() \n",
    "log_intensities = log_intensities * seq_onehot_types.sum(dim=-1).unsqueeze(-1)\n",
    "\n",
    "log_sum = (log_intensities*seq_mask).sum(dim=(2, 1))\n",
    "\n",
    "taus = torch.rand(n_batch, n_times, 1, n_mc_samples).to(device)  # self.process_dim replaced 1\n",
    "taus = dt_seq[:, :, None, None] * taus  # inter-event times samples)\n",
    "\n",
    "cell_tau = intensity.state_decay(\n",
    "    intensity.converge_point[:, :, :, None],\n",
    "    intensity.start_point[:, :, :, None],\n",
    "    intensity.omega[:, :, :, None],\n",
    "    taus)\n",
    "cell_tau = cell_tau.transpose(2, 3)\n",
    "intens_at_samples = intensity.intensity_layer(cell_tau).transpose(2, 3)\n",
    "\n",
    "intens_at_samples = intens_at_samples * seq_onehot_types.sum(dim=-1).unsqueeze(-1).unsqueeze(-1)\n",
    "\n",
    "total_intens_samples = intens_at_samples.sum(dim=2)  # shape batch * N * MC\n",
    "partial_integrals = dt_seq * total_intens_samples.mean(dim=2)\n",
    "\n",
    "integral_ = partial_integrals.sum(dim=1)\n",
    "\n",
    "res = torch.sum(- log_sum + integral_)"
   ]
  },
  {
   "cell_type": "code",
   "execution_count": 174,
   "metadata": {
    "ExecuteTime": {
     "end_time": "2021-10-04T01:55:41.151207Z",
     "start_time": "2021-10-04T01:55:41.139240Z"
    }
   },
   "outputs": [
    {
     "data": {
      "text/plain": [
       "tensor(1376.9716, grad_fn=<SumBackward0>)"
      ]
     },
     "execution_count": 174,
     "metadata": {},
     "output_type": "execute_result"
    }
   ],
   "source": [
    "res"
   ]
  },
  {
   "cell_type": "code",
   "execution_count": 114,
   "metadata": {
    "ExecuteTime": {
     "end_time": "2021-10-04T01:39:25.751649Z",
     "start_time": "2021-10-04T01:39:25.744633Z"
    }
   },
   "outputs": [
    {
     "data": {
      "text/plain": [
       "tensor([-35.7117, -35.7199, -35.1815, -35.8361, -36.2106, -33.8285, -33.1584,\n",
       "        -34.4691, -35.6415, -35.4722], grad_fn=<SumBackward1>)"
      ]
     },
     "execution_count": 114,
     "metadata": {},
     "output_type": "execute_result"
    }
   ],
   "source": [
    "\n",
    "log_sum = (log_intensities * seq_onehot_types).sum(dim=(2, 1))  # shape batch\n"
   ]
  },
  {
   "cell_type": "code",
   "execution_count": 118,
   "metadata": {
    "ExecuteTime": {
     "end_time": "2021-10-04T01:40:33.178224Z",
     "start_time": "2021-10-04T01:40:33.170201Z"
    }
   },
   "outputs": [
    {
     "data": {
      "text/plain": [
       "tensor([-28.3778,  -7.3338], grad_fn=<SumBackward1>)"
      ]
     },
     "execution_count": 118,
     "metadata": {},
     "output_type": "execute_result"
    }
   ],
   "source": [
    "(seq_onehot_types[0]*log_intensities[0]).sum(0)\n"
   ]
  },
  {
   "cell_type": "code",
   "execution_count": 124,
   "metadata": {
    "ExecuteTime": {
     "end_time": "2021-10-04T01:42:47.004277Z",
     "start_time": "2021-10-04T01:42:46.986315Z"
    }
   },
   "outputs": [
    {
     "data": {
      "text/plain": [
       "torch.Size([10, 60])"
      ]
     },
     "execution_count": 124,
     "metadata": {},
     "output_type": "execute_result"
    }
   ],
   "source": [
    "seq_types.shape"
   ]
  },
  {
   "cell_type": "code",
   "execution_count": 119,
   "metadata": {
    "ExecuteTime": {
     "end_time": "2021-10-04T01:40:50.410431Z",
     "start_time": "2021-10-04T01:40:50.385497Z"
    }
   },
   "outputs": [
    {
     "ename": "IndexError",
     "evalue": "Dimension out of range (expected to be in range of [-2, 1], but got 2)",
     "output_type": "error",
     "traceback": [
      "\u001b[1;31m---------------------------------------------------------------------------\u001b[0m",
      "\u001b[1;31mIndexError\u001b[0m                                Traceback (most recent call last)",
      "\u001b[1;32m<ipython-input-119-4ed963e9c368>\u001b[0m in \u001b[0;36m<module>\u001b[1;34m\u001b[0m\n\u001b[1;32m----> 1\u001b[1;33m \u001b[1;33m(\u001b[0m\u001b[0mseq_onehot_types\u001b[0m\u001b[1;33m[\u001b[0m\u001b[1;36m0\u001b[0m\u001b[1;33m]\u001b[0m\u001b[1;33m*\u001b[0m\u001b[0mlog_intensities\u001b[0m\u001b[1;33m[\u001b[0m\u001b[1;36m0\u001b[0m\u001b[1;33m]\u001b[0m\u001b[1;33m)\u001b[0m\u001b[1;33m.\u001b[0m\u001b[0msum\u001b[0m\u001b[1;33m(\u001b[0m\u001b[0mdim\u001b[0m\u001b[1;33m=\u001b[0m\u001b[1;33m(\u001b[0m\u001b[1;36m2\u001b[0m\u001b[1;33m,\u001b[0m \u001b[1;36m1\u001b[0m\u001b[1;33m)\u001b[0m\u001b[1;33m)\u001b[0m\u001b[1;33m\u001b[0m\u001b[1;33m\u001b[0m\u001b[0m\n\u001b[0m",
      "\u001b[1;31mIndexError\u001b[0m: Dimension out of range (expected to be in range of [-2, 1], but got 2)"
     ]
    }
   ],
   "source": [
    "(seq_onehot_types[0]*log_intensities[0]).sum(dim=(2, 1))"
   ]
  },
  {
   "cell_type": "code",
   "execution_count": 125,
   "metadata": {
    "ExecuteTime": {
     "end_time": "2021-10-04T01:43:06.893784Z",
     "start_time": "2021-10-04T01:43:06.881814Z"
    }
   },
   "outputs": [
    {
     "data": {
      "text/plain": [
       "tensor([[[1., 0.],\n",
       "         [1., 0.],\n",
       "         [1., 0.],\n",
       "         ...,\n",
       "         [0., 1.],\n",
       "         [0., 1.],\n",
       "         [0., 1.]],\n",
       "\n",
       "        [[1., 0.],\n",
       "         [1., 0.],\n",
       "         [1., 0.],\n",
       "         ...,\n",
       "         [0., 1.],\n",
       "         [0., 1.],\n",
       "         [0., 1.]],\n",
       "\n",
       "        [[1., 0.],\n",
       "         [1., 0.],\n",
       "         [1., 0.],\n",
       "         ...,\n",
       "         [0., 1.],\n",
       "         [0., 1.],\n",
       "         [0., 1.]],\n",
       "\n",
       "        ...,\n",
       "\n",
       "        [[1., 0.],\n",
       "         [1., 0.],\n",
       "         [1., 0.],\n",
       "         ...,\n",
       "         [0., 1.],\n",
       "         [0., 1.],\n",
       "         [0., 1.]],\n",
       "\n",
       "        [[1., 0.],\n",
       "         [1., 0.],\n",
       "         [1., 0.],\n",
       "         ...,\n",
       "         [0., 1.],\n",
       "         [0., 1.],\n",
       "         [0., 1.]],\n",
       "\n",
       "        [[1., 0.],\n",
       "         [1., 0.],\n",
       "         [1., 0.],\n",
       "         ...,\n",
       "         [0., 1.],\n",
       "         [0., 1.],\n",
       "         [0., 1.]]])"
      ]
     },
     "execution_count": 125,
     "metadata": {},
     "output_type": "execute_result"
    }
   ],
   "source": [
    "[seq_onehot_types][0]"
   ]
  },
  {
   "cell_type": "code",
   "execution_count": 78,
   "metadata": {
    "ExecuteTime": {
     "end_time": "2021-10-04T01:27:55.813356Z",
     "start_time": "2021-10-04T01:27:55.799371Z"
    }
   },
   "outputs": [
    {
     "data": {
      "text/plain": [
       "tensor([[[0., 1.],\n",
       "         [0., 1.],\n",
       "         [0., 1.],\n",
       "         ...,\n",
       "         [1., 0.],\n",
       "         [1., 0.],\n",
       "         [1., 0.]],\n",
       "\n",
       "        [[0., 1.],\n",
       "         [0., 1.],\n",
       "         [0., 1.],\n",
       "         ...,\n",
       "         [1., 0.],\n",
       "         [1., 0.],\n",
       "         [1., 0.]],\n",
       "\n",
       "        [[0., 1.],\n",
       "         [0., 1.],\n",
       "         [0., 1.],\n",
       "         ...,\n",
       "         [1., 0.],\n",
       "         [1., 0.],\n",
       "         [1., 0.]],\n",
       "\n",
       "        ...,\n",
       "\n",
       "        [[0., 1.],\n",
       "         [0., 1.],\n",
       "         [0., 1.],\n",
       "         ...,\n",
       "         [1., 0.],\n",
       "         [1., 0.],\n",
       "         [1., 0.]],\n",
       "\n",
       "        [[0., 1.],\n",
       "         [0., 1.],\n",
       "         [0., 1.],\n",
       "         ...,\n",
       "         [1., 0.],\n",
       "         [1., 0.],\n",
       "         [1., 0.]],\n",
       "\n",
       "        [[0., 1.],\n",
       "         [0., 1.],\n",
       "         [0., 1.],\n",
       "         ...,\n",
       "         [1., 0.],\n",
       "         [1., 0.],\n",
       "         [1., 0.]]])"
      ]
     },
     "execution_count": 78,
     "metadata": {},
     "output_type": "execute_result"
    }
   ],
   "source": [
    "sahp.one_hot_embedding(batch[2],2)"
   ]
  },
  {
   "cell_type": "code",
   "execution_count": 27,
   "metadata": {
    "ExecuteTime": {
     "end_time": "2021-10-04T01:11:50.430954Z",
     "start_time": "2021-10-04T01:11:50.420982Z"
    }
   },
   "outputs": [
    {
     "data": {
      "text/plain": [
       "tensor([ 3.9398, 13.3482,  1.3325,  2.5086, 17.3264,  1.0585,  0.0804,  0.7130,\n",
       "        10.0187,  0.4091,  0.7611, 10.0527,  0.8724, 10.5322,  1.1079,  3.0732,\n",
       "         2.7017,  3.7527,  1.7931,  5.6196,  1.5199,  0.8446,  1.0398,  0.7404,\n",
       "         0.3761,  0.4201,  4.9036, 14.9053,  0.2449,  2.2392,  0.2570,  1.0658,\n",
       "         2.2649,  0.7213,  0.8230, 17.7064, 15.6817,  0.4546,  3.3991,  0.0316,\n",
       "         0.6112,  1.6714, 11.1630,  5.4092,  0.1624,  0.9543,  6.8788,  2.5249,\n",
       "         0.0000,  0.0000,  0.0000,  0.0000,  0.0000,  0.0000,  0.0000,  0.0000,\n",
       "         0.0000,  0.0000,  0.0000,  0.0000])"
      ]
     },
     "execution_count": 27,
     "metadata": {},
     "output_type": "execute_result"
    }
   ],
   "source": [
    "batch[1][0]"
   ]
  },
  {
   "cell_type": "code",
   "execution_count": 26,
   "metadata": {
    "ExecuteTime": {
     "end_time": "2021-10-04T01:11:30.047707Z",
     "start_time": "2021-10-04T01:11:30.020776Z"
    }
   },
   "outputs": [
    {
     "ename": "TypeError",
     "evalue": "_compute_loss() missing 1 required positional argument: 'seq_onehot_types'",
     "output_type": "error",
     "traceback": [
      "\u001b[1;31m---------------------------------------------------------------------------\u001b[0m",
      "\u001b[1;31mTypeError\u001b[0m                                 Traceback (most recent call last)",
      "\u001b[1;32m<ipython-input-26-5edb560e48e1>\u001b[0m in \u001b[0;36m<module>\u001b[1;34m\u001b[0m\n\u001b[1;32m----> 1\u001b[1;33m \u001b[0mmodel\u001b[0m\u001b[1;33m.\u001b[0m\u001b[0mdecoder\u001b[0m\u001b[1;33m.\u001b[0m\u001b[0mGAN\u001b[0m\u001b[1;33m.\u001b[0m\u001b[0m_compute_loss\u001b[0m\u001b[1;33m(\u001b[0m\u001b[0mbatch\u001b[0m\u001b[1;33m[\u001b[0m\u001b[1;36m0\u001b[0m\u001b[1;33m]\u001b[0m\u001b[1;33m)\u001b[0m\u001b[1;33m\u001b[0m\u001b[1;33m\u001b[0m\u001b[0m\n\u001b[0m",
      "\u001b[1;31mTypeError\u001b[0m: _compute_loss() missing 1 required positional argument: 'seq_onehot_types'"
     ]
    }
   ],
   "source": [
    "model.decoder.GAN._compute_loss(batch[0],batch[0])"
   ]
  },
  {
   "cell_type": "code",
   "execution_count": 5,
   "metadata": {
    "ExecuteTime": {
     "end_time": "2021-09-30T09:08:04.869497Z",
     "start_time": "2021-09-30T09:08:04.859524Z"
    }
   },
   "outputs": [],
   "source": [
    "    \n",
    "event_type = batch[2]\n",
    "length = event_type.sum()\n",
    "event_time = batch[0]\n",
    "arrival_time = batch[1]\n",
    "intensities = batch[-1][0]\n",
    "    "
   ]
  },
  {
   "cell_type": "code",
   "execution_count": 9,
   "metadata": {
    "ExecuteTime": {
     "end_time": "2021-09-30T09:10:51.542236Z",
     "start_time": "2021-09-30T09:10:51.522303Z"
    }
   },
   "outputs": [
    {
     "name": "stderr",
     "output_type": "stream",
     "text": [
      "util\\kernel_functions.py:66: UserWarning: Implicit dimension choice for softmax has been deprecated. Change the call to include dim=X as an argument.\n",
      "  alpha = F.softmax(self.alpha)\n"
     ]
    }
   ],
   "source": [
    "scores, embedding,t_diff = model.encoder(event_type,event_time,arrival_time)\n",
    "hidden = torch.matmul(scores, embedding)\n",
    "\n",
    "hidden = model.norm(hidden)\n",
    "b_n, s_n, h_n = hidden.size()"
   ]
  },
  {
   "cell_type": "code",
   "execution_count": 28,
   "metadata": {
    "ExecuteTime": {
     "end_time": "2021-09-30T09:15:14.900136Z",
     "start_time": "2021-09-30T09:15:14.887171Z"
    }
   },
   "outputs": [],
   "source": [
    "sample = 50\n",
    "noise = torch.rand((b_n, s_n,sample, h_n), device=hidden.device)"
   ]
  },
  {
   "cell_type": "code",
   "execution_count": 43,
   "metadata": {
    "ExecuteTime": {
     "end_time": "2021-09-30T09:17:50.731450Z",
     "start_time": "2021-09-30T09:17:50.713524Z"
    }
   },
   "outputs": [],
   "source": [
    "noise_sampled = model.decoder.GAN.noise_weights(noise)\n",
    "hidden_samples = torch.relu(noise_sampled +model.decoder.GAN.input_weights(hidden)[:,:,None,:])\n",
    "times = nn.functional.softplus(model.decoder.GAN.event_time_calculator(hidden_samples)).squeeze(-1).mean(-1)"
   ]
  },
  {
   "cell_type": "code",
   "execution_count": 39,
   "metadata": {
    "ExecuteTime": {
     "end_time": "2021-09-30T09:17:17.981709Z",
     "start_time": "2021-09-30T09:17:17.961797Z"
    }
   },
   "outputs": [
    {
     "data": {
      "text/plain": [
       "torch.Size([10, 87])"
      ]
     },
     "execution_count": 39,
     "metadata": {},
     "output_type": "execute_result"
    }
   ],
   "source": [
    "hidden_sample = torch.relu(model.decoder.GAN.input_weights(hidden))\n",
    "\n",
    "nn.functional.softplus(model.decoder.GAN.event_time_calculator(hidden_sample)).squeeze(-1).shape"
   ]
  },
  {
   "cell_type": "code",
   "execution_count": 3,
   "metadata": {
    "ExecuteTime": {
     "end_time": "2021-10-04T01:08:43.607394Z",
     "start_time": "2021-10-04T01:08:42.571213Z"
    }
   },
   "outputs": [],
   "source": [
    "kernel_values = []\n",
    "all_times = []\n",
    "all_intensities = []\n",
    "all_predicted_intensities = []\n",
    "\n",
    "model = model.to(device)\n",
    "\n",
    "for batch in testloader:\n",
    "    \n",
    "    event_type = batch[2]\n",
    "    length = event_type.sum()\n",
    "    event_time = batch[0]\n",
    "    arrival_time = batch[1]\n",
    "    intensities = batch[-1][0]\n",
    "    \n",
    "    \n",
    "    \n",
    "    event_time, arrival_time, event_type,_ = map(lambda x: x.to(device), batch)\n",
    "    scores, embedding,t_diff = model.encoder(event_type,event_time,arrival_time)\n",
    "    scores = model.encoder.scores\n",
    "        \n",
    "    predicted_intensities=scores.sum(-1)[0]\n",
    "        \n",
    "    masked_t_diff = (t_diff[0][:length,:length])\n",
    "    masked_scores = (scores[0][:length,:length])\n",
    "    row,column = masked_t_diff.size()\n",
    "    row,column = torch.tril_indices(row,column)\n",
    "    times = masked_t_diff[row,column]\n",
    "    triggering_values=  masked_scores[row,column]\n",
    "    \n",
    "    kernel_values.append(triggering_values.detach())\n",
    "    all_times.append(times.detach())\n",
    "    all_intensities.append(intensities.detach())\n",
    "    all_predicted_intensities.append(predicted_intensities.detach())\n",
    "    \n",
    "kernel_values = torch.cat(kernel_values)\n",
    "all_times = torch.cat(all_times)\n",
    "all_intensities = torch.cat(all_intensities)\n",
    "all_predicted_intensities = torch.cat(all_predicted_intensities)"
   ]
  },
  {
   "cell_type": "code",
   "execution_count": 87,
   "metadata": {
    "ExecuteTime": {
     "end_time": "2021-09-29T06:45:03.290246Z",
     "start_time": "2021-09-29T06:45:03.274243Z"
    }
   },
   "outputs": [
    {
     "data": {
      "text/plain": [
       "tensor(0.4237)"
      ]
     },
     "execution_count": 87,
     "metadata": {},
     "output_type": "execute_result"
    }
   ],
   "source": [
    "((all_predicted_intensities- all_intensities)**2).mean().sqrt()"
   ]
  },
  {
   "cell_type": "code",
   "execution_count": 83,
   "metadata": {
    "ExecuteTime": {
     "end_time": "2021-09-29T06:20:38.018483Z",
     "start_time": "2021-09-29T06:20:37.873870Z"
    }
   },
   "outputs": [
    {
     "data": {
      "text/plain": [
       "<matplotlib.collections.PathCollection at 0x196a5526248>"
      ]
     },
     "execution_count": 83,
     "metadata": {},
     "output_type": "execute_result"
    },
    {
     "data": {
      "image/png": "[encoded data removed]",
      "text/plain": [
       "<Figure size 432x288 with 1 Axes>"
      ]
     },
     "metadata": {
      "needs_background": "light"
     },
     "output_type": "display_data"
    }
   ],
   "source": [
    "plt.scatter(event_time[0],scores.sum(-1)[0])"
   ]
  },
  {
   "cell_type": "code",
   "execution_count": 88,
   "metadata": {
    "ExecuteTime": {
     "end_time": "2021-09-29T06:45:06.245457Z",
     "start_time": "2021-09-29T06:45:05.708892Z"
    }
   },
   "outputs": [
    {
     "data": {
      "text/plain": [
       "<matplotlib.legend.Legend at 0x19732b15988>"
      ]
     },
     "execution_count": 88,
     "metadata": {},
     "output_type": "execute_result"
    },
    {
     "data": {
      "image/png": "[encoded data removed]",
      "text/plain": [
       "<Figure size 1224x288 with 3 Axes>"
      ]
     },
     "metadata": {
      "needs_background": "light"
     },
     "output_type": "display_data"
    }
   ],
   "source": [
    "\n",
    "times = torch.arange(0,200,0.1).unsqueeze(0)\n",
    "\n",
    "\n",
    "types = torch.ones(times.size()).to(times.device).int()\n",
    "scores, embedding,t_diff = model.encoder(types,times,times)\n",
    "scores = scores[0][-1]\n",
    "t =t_diff[0][-1]\n",
    "fig, (ax1, ax2,ax3) = plt.subplots(1, 3,figsize=(17,4))\n",
    "actual_alpha =  power_law_kernel(t).squeeze()\n",
    "\n",
    "ax1.plot(t_diff[0][-1],scores,label='Estimated Kernel')\n",
    "ax1.plot(t,actual_alpha,label='Actual Kernel')\n",
    "ax1.set_xlim(0, 200)\n",
    "ax1.legend()\n",
    "\n",
    "ax2.plot(t_diff[0][-1],scores,label='Estimated Kernel')\n",
    "ax2.plot(t,actual_alpha,label='Actual Kernel')\n",
    "ax2.set_xlim(0, 50)\n",
    "ax2.legend()\n",
    "\n",
    "\n",
    "ax3.plot(t_diff[0][-1],scores,label='Estimated Kernel')\n",
    "ax3.plot(t,actual_alpha,label='Actual Kernel')\n",
    "ax3.set_xlim(0, 10)\n",
    "ax3.legend()"
   ]
  },
  {
   "cell_type": "code",
   "execution_count": 69,
   "metadata": {
    "ExecuteTime": {
     "end_time": "2021-09-29T06:16:15.181166Z",
     "start_time": "2021-09-29T06:16:15.171193Z"
    }
   },
   "outputs": [
    {
     "data": {
      "text/plain": [
       "tensor([1.9990e+02, 1.9980e+02, 1.9970e+02,  ..., 2.0000e-01, 9.9991e-02,\n",
       "        0.0000e+00])"
      ]
     },
     "execution_count": 69,
     "metadata": {},
     "output_type": "execute_result"
    }
   ],
   "source": [
    "t_diff[0][-1]"
   ]
  },
  {
   "cell_type": "code",
   "execution_count": 4,
   "metadata": {
    "ExecuteTime": {
     "end_time": "2021-09-30T09:07:50.305659Z",
     "start_time": "2021-09-30T09:07:50.170732Z"
    }
   },
   "outputs": [],
   "source": [
    "for batch in trainloader:\n",
    "    pass"
   ]
  },
  {
   "cell_type": "code",
   "execution_count": 70,
   "metadata": {
    "ExecuteTime": {
     "end_time": "2021-09-29T06:16:20.332534Z",
     "start_time": "2021-09-29T06:16:20.316577Z"
    }
   },
   "outputs": [
    {
     "data": {
      "text/plain": [
       "tensor([1.9990e+02, 1.9980e+02, 1.9970e+02,  ..., 2.0000e-01, 9.9991e-02,\n",
       "        0.0000e+00])"
      ]
     },
     "execution_count": 70,
     "metadata": {},
     "output_type": "execute_result"
    }
   ],
   "source": [
    "t"
   ]
  },
  {
   "cell_type": "code",
   "execution_count": 60,
   "metadata": {
    "ExecuteTime": {
     "end_time": "2021-09-29T06:13:42.825958Z",
     "start_time": "2021-09-29T06:13:42.796039Z"
    }
   },
   "outputs": [
    {
     "data": {
      "text/plain": [
       "tensor([3.0636e-04, 3.0667e-04, 3.0698e-04,  ..., 4.8922e-01, 4.8980e-01,\n",
       "        4.9000e-01])"
      ]
     },
     "execution_count": 60,
     "metadata": {},
     "output_type": "execute_result"
    }
   ],
   "source": [
    "scores"
   ]
  },
  {
   "cell_type": "code",
   "execution_count": 9,
   "metadata": {
    "ExecuteTime": {
     "end_time": "2021-09-29T05:52:32.005360Z",
     "start_time": "2021-09-29T05:52:15.660423Z"
    }
   },
   "outputs": [
    {
     "data": {
      "text/plain": [
       "[<matplotlib.lines.Line2D at 0x1969f514dc8>]"
      ]
     },
     "execution_count": 9,
     "metadata": {},
     "output_type": "execute_result"
    },
    {
     "name": "stdout",
     "output_type": "stream",
     "text": [
      "Error in callback <function install_repl_displayhook.<locals>.post_execute at 0x00000196A01285E8> (for post_execute):\n"
     ]
    },
    {
     "ename": "KeyboardInterrupt",
     "evalue": "",
     "output_type": "error",
     "traceback": [
      "\u001b[1;31m---------------------------------------------------------------------------\u001b[0m",
      "\u001b[1;31mKeyboardInterrupt\u001b[0m                         Traceback (most recent call last)",
      "\u001b[1;32m~\\AppData\\Roaming\\Python\\Python37\\site-packages\\matplotlib\\pyplot.py\u001b[0m in \u001b[0;36mpost_execute\u001b[1;34m()\u001b[0m\n\u001b[0;32m    137\u001b[0m             \u001b[1;32mdef\u001b[0m \u001b[0mpost_execute\u001b[0m\u001b[1;33m(\u001b[0m\u001b[1;33m)\u001b[0m\u001b[1;33m:\u001b[0m\u001b[1;33m\u001b[0m\u001b[1;33m\u001b[0m\u001b[0m\n\u001b[0;32m    138\u001b[0m                 \u001b[1;32mif\u001b[0m \u001b[0mmatplotlib\u001b[0m\u001b[1;33m.\u001b[0m\u001b[0mis_interactive\u001b[0m\u001b[1;33m(\u001b[0m\u001b[1;33m)\u001b[0m\u001b[1;33m:\u001b[0m\u001b[1;33m\u001b[0m\u001b[1;33m\u001b[0m\u001b[0m\n\u001b[1;32m--> 139\u001b[1;33m                     \u001b[0mdraw_all\u001b[0m\u001b[1;33m(\u001b[0m\u001b[1;33m)\u001b[0m\u001b[1;33m\u001b[0m\u001b[1;33m\u001b[0m\u001b[0m\n\u001b[0m\u001b[0;32m    140\u001b[0m \u001b[1;33m\u001b[0m\u001b[0m\n\u001b[0;32m    141\u001b[0m             \u001b[1;31m# IPython >= 2\u001b[0m\u001b[1;33m\u001b[0m\u001b[1;33m\u001b[0m\u001b[1;33m\u001b[0m\u001b[0m\n",
      "\u001b[1;32m~\\AppData\\Roaming\\Python\\Python37\\site-packages\\matplotlib\\_pylab_helpers.py\u001b[0m in \u001b[0;36mdraw_all\u001b[1;34m(cls, force)\u001b[0m\n\u001b[0;32m    135\u001b[0m         \u001b[1;32mfor\u001b[0m \u001b[0mmanager\u001b[0m \u001b[1;32min\u001b[0m \u001b[0mcls\u001b[0m\u001b[1;33m.\u001b[0m\u001b[0mget_all_fig_managers\u001b[0m\u001b[1;33m(\u001b[0m\u001b[1;33m)\u001b[0m\u001b[1;33m:\u001b[0m\u001b[1;33m\u001b[0m\u001b[1;33m\u001b[0m\u001b[0m\n\u001b[0;32m    136\u001b[0m             \u001b[1;32mif\u001b[0m \u001b[0mforce\u001b[0m \u001b[1;32mor\u001b[0m \u001b[0mmanager\u001b[0m\u001b[1;33m.\u001b[0m\u001b[0mcanvas\u001b[0m\u001b[1;33m.\u001b[0m\u001b[0mfigure\u001b[0m\u001b[1;33m.\u001b[0m\u001b[0mstale\u001b[0m\u001b[1;33m:\u001b[0m\u001b[1;33m\u001b[0m\u001b[1;33m\u001b[0m\u001b[0m\n\u001b[1;32m--> 137\u001b[1;33m                 \u001b[0mmanager\u001b[0m\u001b[1;33m.\u001b[0m\u001b[0mcanvas\u001b[0m\u001b[1;33m.\u001b[0m\u001b[0mdraw_idle\u001b[0m\u001b[1;33m(\u001b[0m\u001b[1;33m)\u001b[0m\u001b[1;33m\u001b[0m\u001b[1;33m\u001b[0m\u001b[0m\n\u001b[0m\u001b[0;32m    138\u001b[0m \u001b[1;33m\u001b[0m\u001b[0m\n\u001b[0;32m    139\u001b[0m \u001b[1;33m\u001b[0m\u001b[0m\n",
      "\u001b[1;32m~\\AppData\\Roaming\\Python\\Python37\\site-packages\\matplotlib\\backend_bases.py\u001b[0m in \u001b[0;36mdraw_idle\u001b[1;34m(self, *args, **kwargs)\u001b[0m\n\u001b[0;32m   2053\u001b[0m         \u001b[1;32mif\u001b[0m \u001b[1;32mnot\u001b[0m \u001b[0mself\u001b[0m\u001b[1;33m.\u001b[0m\u001b[0m_is_idle_drawing\u001b[0m\u001b[1;33m:\u001b[0m\u001b[1;33m\u001b[0m\u001b[1;33m\u001b[0m\u001b[0m\n\u001b[0;32m   2054\u001b[0m             \u001b[1;32mwith\u001b[0m \u001b[0mself\u001b[0m\u001b[1;33m.\u001b[0m\u001b[0m_idle_draw_cntx\u001b[0m\u001b[1;33m(\u001b[0m\u001b[1;33m)\u001b[0m\u001b[1;33m:\u001b[0m\u001b[1;33m\u001b[0m\u001b[1;33m\u001b[0m\u001b[0m\n\u001b[1;32m-> 2055\u001b[1;33m                 \u001b[0mself\u001b[0m\u001b[1;33m.\u001b[0m\u001b[0mdraw\u001b[0m\u001b[1;33m(\u001b[0m\u001b[1;33m*\u001b[0m\u001b[0margs\u001b[0m\u001b[1;33m,\u001b[0m \u001b[1;33m**\u001b[0m\u001b[0mkwargs\u001b[0m\u001b[1;33m)\u001b[0m\u001b[1;33m\u001b[0m\u001b[1;33m\u001b[0m\u001b[0m\n\u001b[0m\u001b[0;32m   2056\u001b[0m \u001b[1;33m\u001b[0m\u001b[0m\n\u001b[0;32m   2057\u001b[0m     \u001b[1;32mdef\u001b[0m \u001b[0mget_width_height\u001b[0m\u001b[1;33m(\u001b[0m\u001b[0mself\u001b[0m\u001b[1;33m)\u001b[0m\u001b[1;33m:\u001b[0m\u001b[1;33m\u001b[0m\u001b[1;33m\u001b[0m\u001b[0m\n",
      "\u001b[1;32m~\\AppData\\Roaming\\Python\\Python37\\site-packages\\matplotlib\\backends\\backend_agg.py\u001b[0m in \u001b[0;36mdraw\u001b[1;34m(self)\u001b[0m\n\u001b[0;32m    404\u001b[0m              (self.toolbar._wait_cursor_for_draw_cm() if self.toolbar\n\u001b[0;32m    405\u001b[0m               else nullcontext()):\n\u001b[1;32m--> 406\u001b[1;33m             \u001b[0mself\u001b[0m\u001b[1;33m.\u001b[0m\u001b[0mfigure\u001b[0m\u001b[1;33m.\u001b[0m\u001b[0mdraw\u001b[0m\u001b[1;33m(\u001b[0m\u001b[0mself\u001b[0m\u001b[1;33m.\u001b[0m\u001b[0mrenderer\u001b[0m\u001b[1;33m)\u001b[0m\u001b[1;33m\u001b[0m\u001b[1;33m\u001b[0m\u001b[0m\n\u001b[0m\u001b[0;32m    407\u001b[0m             \u001b[1;31m# A GUI class may be need to update a window using this draw, so\u001b[0m\u001b[1;33m\u001b[0m\u001b[1;33m\u001b[0m\u001b[1;33m\u001b[0m\u001b[0m\n\u001b[0;32m    408\u001b[0m             \u001b[1;31m# don't forget to call the superclass.\u001b[0m\u001b[1;33m\u001b[0m\u001b[1;33m\u001b[0m\u001b[1;33m\u001b[0m\u001b[0m\n",
      "\u001b[1;32m~\\AppData\\Roaming\\Python\\Python37\\site-packages\\matplotlib\\artist.py\u001b[0m in \u001b[0;36mdraw_wrapper\u001b[1;34m(artist, renderer, *args, **kwargs)\u001b[0m\n\u001b[0;32m     72\u001b[0m     \u001b[1;33m@\u001b[0m\u001b[0mwraps\u001b[0m\u001b[1;33m(\u001b[0m\u001b[0mdraw\u001b[0m\u001b[1;33m)\u001b[0m\u001b[1;33m\u001b[0m\u001b[1;33m\u001b[0m\u001b[0m\n\u001b[0;32m     73\u001b[0m     \u001b[1;32mdef\u001b[0m \u001b[0mdraw_wrapper\u001b[0m\u001b[1;33m(\u001b[0m\u001b[0martist\u001b[0m\u001b[1;33m,\u001b[0m \u001b[0mrenderer\u001b[0m\u001b[1;33m,\u001b[0m \u001b[1;33m*\u001b[0m\u001b[0margs\u001b[0m\u001b[1;33m,\u001b[0m \u001b[1;33m**\u001b[0m\u001b[0mkwargs\u001b[0m\u001b[1;33m)\u001b[0m\u001b[1;33m:\u001b[0m\u001b[1;33m\u001b[0m\u001b[1;33m\u001b[0m\u001b[0m\n\u001b[1;32m---> 74\u001b[1;33m         \u001b[0mresult\u001b[0m \u001b[1;33m=\u001b[0m \u001b[0mdraw\u001b[0m\u001b[1;33m(\u001b[0m\u001b[0martist\u001b[0m\u001b[1;33m,\u001b[0m \u001b[0mrenderer\u001b[0m\u001b[1;33m,\u001b[0m \u001b[1;33m*\u001b[0m\u001b[0margs\u001b[0m\u001b[1;33m,\u001b[0m \u001b[1;33m**\u001b[0m\u001b[0mkwargs\u001b[0m\u001b[1;33m)\u001b[0m\u001b[1;33m\u001b[0m\u001b[1;33m\u001b[0m\u001b[0m\n\u001b[0m\u001b[0;32m     75\u001b[0m         \u001b[1;32mif\u001b[0m \u001b[0mrenderer\u001b[0m\u001b[1;33m.\u001b[0m\u001b[0m_rasterizing\u001b[0m\u001b[1;33m:\u001b[0m\u001b[1;33m\u001b[0m\u001b[1;33m\u001b[0m\u001b[0m\n\u001b[0;32m     76\u001b[0m             \u001b[0mrenderer\u001b[0m\u001b[1;33m.\u001b[0m\u001b[0mstop_rasterizing\u001b[0m\u001b[1;33m(\u001b[0m\u001b[1;33m)\u001b[0m\u001b[1;33m\u001b[0m\u001b[1;33m\u001b[0m\u001b[0m\n",
      "\u001b[1;32m~\\AppData\\Roaming\\Python\\Python37\\site-packages\\matplotlib\\artist.py\u001b[0m in \u001b[0;36mdraw_wrapper\u001b[1;34m(artist, renderer, *args, **kwargs)\u001b[0m\n\u001b[0;32m     49\u001b[0m                 \u001b[0mrenderer\u001b[0m\u001b[1;33m.\u001b[0m\u001b[0mstart_filter\u001b[0m\u001b[1;33m(\u001b[0m\u001b[1;33m)\u001b[0m\u001b[1;33m\u001b[0m\u001b[1;33m\u001b[0m\u001b[0m\n\u001b[0;32m     50\u001b[0m \u001b[1;33m\u001b[0m\u001b[0m\n\u001b[1;32m---> 51\u001b[1;33m             \u001b[1;32mreturn\u001b[0m \u001b[0mdraw\u001b[0m\u001b[1;33m(\u001b[0m\u001b[0martist\u001b[0m\u001b[1;33m,\u001b[0m \u001b[0mrenderer\u001b[0m\u001b[1;33m,\u001b[0m \u001b[1;33m*\u001b[0m\u001b[0margs\u001b[0m\u001b[1;33m,\u001b[0m \u001b[1;33m**\u001b[0m\u001b[0mkwargs\u001b[0m\u001b[1;33m)\u001b[0m\u001b[1;33m\u001b[0m\u001b[1;33m\u001b[0m\u001b[0m\n\u001b[0m\u001b[0;32m     52\u001b[0m         \u001b[1;32mfinally\u001b[0m\u001b[1;33m:\u001b[0m\u001b[1;33m\u001b[0m\u001b[1;33m\u001b[0m\u001b[0m\n\u001b[0;32m     53\u001b[0m             \u001b[1;32mif\u001b[0m \u001b[0martist\u001b[0m\u001b[1;33m.\u001b[0m\u001b[0mget_agg_filter\u001b[0m\u001b[1;33m(\u001b[0m\u001b[1;33m)\u001b[0m \u001b[1;32mis\u001b[0m \u001b[1;32mnot\u001b[0m \u001b[1;32mNone\u001b[0m\u001b[1;33m:\u001b[0m\u001b[1;33m\u001b[0m\u001b[1;33m\u001b[0m\u001b[0m\n",
      "\u001b[1;32m~\\AppData\\Roaming\\Python\\Python37\\site-packages\\matplotlib\\figure.py\u001b[0m in \u001b[0;36mdraw\u001b[1;34m(self, renderer)\u001b[0m\n\u001b[0;32m   2789\u001b[0m             \u001b[0mself\u001b[0m\u001b[1;33m.\u001b[0m\u001b[0mpatch\u001b[0m\u001b[1;33m.\u001b[0m\u001b[0mdraw\u001b[0m\u001b[1;33m(\u001b[0m\u001b[0mrenderer\u001b[0m\u001b[1;33m)\u001b[0m\u001b[1;33m\u001b[0m\u001b[1;33m\u001b[0m\u001b[0m\n\u001b[0;32m   2790\u001b[0m             mimage._draw_list_compositing_images(\n\u001b[1;32m-> 2791\u001b[1;33m                 renderer, self, artists, self.suppressComposite)\n\u001b[0m\u001b[0;32m   2792\u001b[0m \u001b[1;33m\u001b[0m\u001b[0m\n\u001b[0;32m   2793\u001b[0m             \u001b[1;32mfor\u001b[0m \u001b[0msfig\u001b[0m \u001b[1;32min\u001b[0m \u001b[0mself\u001b[0m\u001b[1;33m.\u001b[0m\u001b[0msubfigs\u001b[0m\u001b[1;33m:\u001b[0m\u001b[1;33m\u001b[0m\u001b[1;33m\u001b[0m\u001b[0m\n",
      "\u001b[1;32m~\\AppData\\Roaming\\Python\\Python37\\site-packages\\matplotlib\\image.py\u001b[0m in \u001b[0;36m_draw_list_compositing_images\u001b[1;34m(renderer, parent, artists, suppress_composite)\u001b[0m\n\u001b[0;32m    130\u001b[0m     \u001b[1;32mif\u001b[0m \u001b[0mnot_composite\u001b[0m \u001b[1;32mor\u001b[0m \u001b[1;32mnot\u001b[0m \u001b[0mhas_images\u001b[0m\u001b[1;33m:\u001b[0m\u001b[1;33m\u001b[0m\u001b[1;33m\u001b[0m\u001b[0m\n\u001b[0;32m    131\u001b[0m         \u001b[1;32mfor\u001b[0m \u001b[0ma\u001b[0m \u001b[1;32min\u001b[0m \u001b[0martists\u001b[0m\u001b[1;33m:\u001b[0m\u001b[1;33m\u001b[0m\u001b[1;33m\u001b[0m\u001b[0m\n\u001b[1;32m--> 132\u001b[1;33m             \u001b[0ma\u001b[0m\u001b[1;33m.\u001b[0m\u001b[0mdraw\u001b[0m\u001b[1;33m(\u001b[0m\u001b[0mrenderer\u001b[0m\u001b[1;33m)\u001b[0m\u001b[1;33m\u001b[0m\u001b[1;33m\u001b[0m\u001b[0m\n\u001b[0m\u001b[0;32m    133\u001b[0m     \u001b[1;32melse\u001b[0m\u001b[1;33m:\u001b[0m\u001b[1;33m\u001b[0m\u001b[1;33m\u001b[0m\u001b[0m\n\u001b[0;32m    134\u001b[0m         \u001b[1;31m# Composite any adjacent images together\u001b[0m\u001b[1;33m\u001b[0m\u001b[1;33m\u001b[0m\u001b[1;33m\u001b[0m\u001b[0m\n",
      "\u001b[1;32m~\\AppData\\Roaming\\Python\\Python37\\site-packages\\matplotlib\\artist.py\u001b[0m in \u001b[0;36mdraw_wrapper\u001b[1;34m(artist, renderer, *args, **kwargs)\u001b[0m\n\u001b[0;32m     49\u001b[0m                 \u001b[0mrenderer\u001b[0m\u001b[1;33m.\u001b[0m\u001b[0mstart_filter\u001b[0m\u001b[1;33m(\u001b[0m\u001b[1;33m)\u001b[0m\u001b[1;33m\u001b[0m\u001b[1;33m\u001b[0m\u001b[0m\n\u001b[0;32m     50\u001b[0m \u001b[1;33m\u001b[0m\u001b[0m\n\u001b[1;32m---> 51\u001b[1;33m             \u001b[1;32mreturn\u001b[0m \u001b[0mdraw\u001b[0m\u001b[1;33m(\u001b[0m\u001b[0martist\u001b[0m\u001b[1;33m,\u001b[0m \u001b[0mrenderer\u001b[0m\u001b[1;33m,\u001b[0m \u001b[1;33m*\u001b[0m\u001b[0margs\u001b[0m\u001b[1;33m,\u001b[0m \u001b[1;33m**\u001b[0m\u001b[0mkwargs\u001b[0m\u001b[1;33m)\u001b[0m\u001b[1;33m\u001b[0m\u001b[1;33m\u001b[0m\u001b[0m\n\u001b[0m\u001b[0;32m     52\u001b[0m         \u001b[1;32mfinally\u001b[0m\u001b[1;33m:\u001b[0m\u001b[1;33m\u001b[0m\u001b[1;33m\u001b[0m\u001b[0m\n\u001b[0;32m     53\u001b[0m             \u001b[1;32mif\u001b[0m \u001b[0martist\u001b[0m\u001b[1;33m.\u001b[0m\u001b[0mget_agg_filter\u001b[0m\u001b[1;33m(\u001b[0m\u001b[1;33m)\u001b[0m \u001b[1;32mis\u001b[0m \u001b[1;32mnot\u001b[0m \u001b[1;32mNone\u001b[0m\u001b[1;33m:\u001b[0m\u001b[1;33m\u001b[0m\u001b[1;33m\u001b[0m\u001b[0m\n",
      "\u001b[1;32m~\\AppData\\Roaming\\Python\\Python37\\site-packages\\matplotlib\\_api\\deprecation.py\u001b[0m in \u001b[0;36mwrapper\u001b[1;34m(*inner_args, **inner_kwargs)\u001b[0m\n\u001b[0;32m    429\u001b[0m                          \u001b[1;32melse\u001b[0m \u001b[0mdeprecation_addendum\u001b[0m\u001b[1;33m,\u001b[0m\u001b[1;33m\u001b[0m\u001b[1;33m\u001b[0m\u001b[0m\n\u001b[0;32m    430\u001b[0m                 **kwargs)\n\u001b[1;32m--> 431\u001b[1;33m         \u001b[1;32mreturn\u001b[0m \u001b[0mfunc\u001b[0m\u001b[1;33m(\u001b[0m\u001b[1;33m*\u001b[0m\u001b[0minner_args\u001b[0m\u001b[1;33m,\u001b[0m \u001b[1;33m**\u001b[0m\u001b[0minner_kwargs\u001b[0m\u001b[1;33m)\u001b[0m\u001b[1;33m\u001b[0m\u001b[1;33m\u001b[0m\u001b[0m\n\u001b[0m\u001b[0;32m    432\u001b[0m \u001b[1;33m\u001b[0m\u001b[0m\n\u001b[0;32m    433\u001b[0m     \u001b[1;32mreturn\u001b[0m \u001b[0mwrapper\u001b[0m\u001b[1;33m\u001b[0m\u001b[1;33m\u001b[0m\u001b[0m\n",
      "\u001b[1;32m~\\AppData\\Roaming\\Python\\Python37\\site-packages\\matplotlib\\axes\\_base.py\u001b[0m in \u001b[0;36mdraw\u001b[1;34m(self, renderer, inframe)\u001b[0m\n\u001b[0;32m   2919\u001b[0m             \u001b[0mrenderer\u001b[0m\u001b[1;33m.\u001b[0m\u001b[0mstop_rasterizing\u001b[0m\u001b[1;33m(\u001b[0m\u001b[1;33m)\u001b[0m\u001b[1;33m\u001b[0m\u001b[1;33m\u001b[0m\u001b[0m\n\u001b[0;32m   2920\u001b[0m \u001b[1;33m\u001b[0m\u001b[0m\n\u001b[1;32m-> 2921\u001b[1;33m         \u001b[0mmimage\u001b[0m\u001b[1;33m.\u001b[0m\u001b[0m_draw_list_compositing_images\u001b[0m\u001b[1;33m(\u001b[0m\u001b[0mrenderer\u001b[0m\u001b[1;33m,\u001b[0m \u001b[0mself\u001b[0m\u001b[1;33m,\u001b[0m \u001b[0martists\u001b[0m\u001b[1;33m)\u001b[0m\u001b[1;33m\u001b[0m\u001b[1;33m\u001b[0m\u001b[0m\n\u001b[0m\u001b[0;32m   2922\u001b[0m \u001b[1;33m\u001b[0m\u001b[0m\n\u001b[0;32m   2923\u001b[0m         \u001b[0mrenderer\u001b[0m\u001b[1;33m.\u001b[0m\u001b[0mclose_group\u001b[0m\u001b[1;33m(\u001b[0m\u001b[1;34m'axes'\u001b[0m\u001b[1;33m)\u001b[0m\u001b[1;33m\u001b[0m\u001b[1;33m\u001b[0m\u001b[0m\n",
      "\u001b[1;32m~\\AppData\\Roaming\\Python\\Python37\\site-packages\\matplotlib\\image.py\u001b[0m in \u001b[0;36m_draw_list_compositing_images\u001b[1;34m(renderer, parent, artists, suppress_composite)\u001b[0m\n\u001b[0;32m    130\u001b[0m     \u001b[1;32mif\u001b[0m \u001b[0mnot_composite\u001b[0m \u001b[1;32mor\u001b[0m \u001b[1;32mnot\u001b[0m \u001b[0mhas_images\u001b[0m\u001b[1;33m:\u001b[0m\u001b[1;33m\u001b[0m\u001b[1;33m\u001b[0m\u001b[0m\n\u001b[0;32m    131\u001b[0m         \u001b[1;32mfor\u001b[0m \u001b[0ma\u001b[0m \u001b[1;32min\u001b[0m \u001b[0martists\u001b[0m\u001b[1;33m:\u001b[0m\u001b[1;33m\u001b[0m\u001b[1;33m\u001b[0m\u001b[0m\n\u001b[1;32m--> 132\u001b[1;33m             \u001b[0ma\u001b[0m\u001b[1;33m.\u001b[0m\u001b[0mdraw\u001b[0m\u001b[1;33m(\u001b[0m\u001b[0mrenderer\u001b[0m\u001b[1;33m)\u001b[0m\u001b[1;33m\u001b[0m\u001b[1;33m\u001b[0m\u001b[0m\n\u001b[0m\u001b[0;32m    133\u001b[0m     \u001b[1;32melse\u001b[0m\u001b[1;33m:\u001b[0m\u001b[1;33m\u001b[0m\u001b[1;33m\u001b[0m\u001b[0m\n\u001b[0;32m    134\u001b[0m         \u001b[1;31m# Composite any adjacent images together\u001b[0m\u001b[1;33m\u001b[0m\u001b[1;33m\u001b[0m\u001b[1;33m\u001b[0m\u001b[0m\n",
      "\u001b[1;32m~\\AppData\\Roaming\\Python\\Python37\\site-packages\\matplotlib\\artist.py\u001b[0m in \u001b[0;36mdraw_wrapper\u001b[1;34m(artist, renderer, *args, **kwargs)\u001b[0m\n\u001b[0;32m     49\u001b[0m                 \u001b[0mrenderer\u001b[0m\u001b[1;33m.\u001b[0m\u001b[0mstart_filter\u001b[0m\u001b[1;33m(\u001b[0m\u001b[1;33m)\u001b[0m\u001b[1;33m\u001b[0m\u001b[1;33m\u001b[0m\u001b[0m\n\u001b[0;32m     50\u001b[0m \u001b[1;33m\u001b[0m\u001b[0m\n\u001b[1;32m---> 51\u001b[1;33m             \u001b[1;32mreturn\u001b[0m \u001b[0mdraw\u001b[0m\u001b[1;33m(\u001b[0m\u001b[0martist\u001b[0m\u001b[1;33m,\u001b[0m \u001b[0mrenderer\u001b[0m\u001b[1;33m,\u001b[0m \u001b[1;33m*\u001b[0m\u001b[0margs\u001b[0m\u001b[1;33m,\u001b[0m \u001b[1;33m**\u001b[0m\u001b[0mkwargs\u001b[0m\u001b[1;33m)\u001b[0m\u001b[1;33m\u001b[0m\u001b[1;33m\u001b[0m\u001b[0m\n\u001b[0m\u001b[0;32m     52\u001b[0m         \u001b[1;32mfinally\u001b[0m\u001b[1;33m:\u001b[0m\u001b[1;33m\u001b[0m\u001b[1;33m\u001b[0m\u001b[0m\n\u001b[0;32m     53\u001b[0m             \u001b[1;32mif\u001b[0m \u001b[0martist\u001b[0m\u001b[1;33m.\u001b[0m\u001b[0mget_agg_filter\u001b[0m\u001b[1;33m(\u001b[0m\u001b[1;33m)\u001b[0m \u001b[1;32mis\u001b[0m \u001b[1;32mnot\u001b[0m \u001b[1;32mNone\u001b[0m\u001b[1;33m:\u001b[0m\u001b[1;33m\u001b[0m\u001b[1;33m\u001b[0m\u001b[0m\n",
      "\u001b[1;32m~\\AppData\\Roaming\\Python\\Python37\\site-packages\\matplotlib\\lines.py\u001b[0m in \u001b[0;36mdraw\u001b[1;34m(self, renderer)\u001b[0m\n\u001b[0;32m    794\u001b[0m \u001b[1;33m\u001b[0m\u001b[0m\n\u001b[0;32m    795\u001b[0m                 \u001b[0mgc\u001b[0m\u001b[1;33m.\u001b[0m\u001b[0mset_dashes\u001b[0m\u001b[1;33m(\u001b[0m\u001b[0mself\u001b[0m\u001b[1;33m.\u001b[0m\u001b[0m_dashOffset\u001b[0m\u001b[1;33m,\u001b[0m \u001b[0mself\u001b[0m\u001b[1;33m.\u001b[0m\u001b[0m_dashSeq\u001b[0m\u001b[1;33m)\u001b[0m\u001b[1;33m\u001b[0m\u001b[1;33m\u001b[0m\u001b[0m\n\u001b[1;32m--> 796\u001b[1;33m                 \u001b[0mrenderer\u001b[0m\u001b[1;33m.\u001b[0m\u001b[0mdraw_path\u001b[0m\u001b[1;33m(\u001b[0m\u001b[0mgc\u001b[0m\u001b[1;33m,\u001b[0m \u001b[0mtpath\u001b[0m\u001b[1;33m,\u001b[0m \u001b[0maffine\u001b[0m\u001b[1;33m.\u001b[0m\u001b[0mfrozen\u001b[0m\u001b[1;33m(\u001b[0m\u001b[1;33m)\u001b[0m\u001b[1;33m)\u001b[0m\u001b[1;33m\u001b[0m\u001b[1;33m\u001b[0m\u001b[0m\n\u001b[0m\u001b[0;32m    797\u001b[0m                 \u001b[0mgc\u001b[0m\u001b[1;33m.\u001b[0m\u001b[0mrestore\u001b[0m\u001b[1;33m(\u001b[0m\u001b[1;33m)\u001b[0m\u001b[1;33m\u001b[0m\u001b[1;33m\u001b[0m\u001b[0m\n\u001b[0;32m    798\u001b[0m \u001b[1;33m\u001b[0m\u001b[0m\n",
      "\u001b[1;32m~\\AppData\\Roaming\\Python\\Python37\\site-packages\\matplotlib\\backends\\backend_agg.py\u001b[0m in \u001b[0;36mdraw_path\u001b[1;34m(self, gc, path, transform, rgbFace)\u001b[0m\n\u001b[0;32m    159\u001b[0m         \u001b[1;32melse\u001b[0m\u001b[1;33m:\u001b[0m\u001b[1;33m\u001b[0m\u001b[1;33m\u001b[0m\u001b[0m\n\u001b[0;32m    160\u001b[0m             \u001b[1;32mtry\u001b[0m\u001b[1;33m:\u001b[0m\u001b[1;33m\u001b[0m\u001b[1;33m\u001b[0m\u001b[0m\n\u001b[1;32m--> 161\u001b[1;33m                 \u001b[0mself\u001b[0m\u001b[1;33m.\u001b[0m\u001b[0m_renderer\u001b[0m\u001b[1;33m.\u001b[0m\u001b[0mdraw_path\u001b[0m\u001b[1;33m(\u001b[0m\u001b[0mgc\u001b[0m\u001b[1;33m,\u001b[0m \u001b[0mpath\u001b[0m\u001b[1;33m,\u001b[0m \u001b[0mtransform\u001b[0m\u001b[1;33m,\u001b[0m \u001b[0mrgbFace\u001b[0m\u001b[1;33m)\u001b[0m\u001b[1;33m\u001b[0m\u001b[1;33m\u001b[0m\u001b[0m\n\u001b[0m\u001b[0;32m    162\u001b[0m             \u001b[1;32mexcept\u001b[0m \u001b[0mOverflowError\u001b[0m \u001b[1;32mas\u001b[0m \u001b[0merr\u001b[0m\u001b[1;33m:\u001b[0m\u001b[1;33m\u001b[0m\u001b[1;33m\u001b[0m\u001b[0m\n\u001b[0;32m    163\u001b[0m                 raise OverflowError(\"Exceeded cell block limit (set \"\n",
      "\u001b[1;31mKeyboardInterrupt\u001b[0m: "
     ]
    },
    {
     "data": {
      "image/png": "[encoded data removed]",
      "text/plain": [
       "<Figure size 432x288 with 1 Axes>"
      ]
     },
     "metadata": {
      "needs_background": "light"
     },
     "output_type": "display_data"
    }
   ],
   "source": [
    "plt.plot(all_times,kernel_values)"
   ]
  },
  {
   "cell_type": "code",
   "execution_count": 32,
   "metadata": {
    "ExecuteTime": {
     "end_time": "2021-09-28T07:31:56.230394Z",
     "start_time": "2021-09-28T07:31:56.221436Z"
    }
   },
   "outputs": [],
   "source": [
    "scores, embeddings,t_diff = model.encoder(event_type,event_time,arrival_time)\n",
    "hidden = torch.matmul(scores, embeddings)\n",
    "hidden = model.norm(hidden)\n",
    "scores = model.encoder.scores\n"
   ]
  },
  {
   "cell_type": "code",
   "execution_count": 70,
   "metadata": {
    "ExecuteTime": {
     "end_time": "2021-09-28T07:46:45.136236Z",
     "start_time": "2021-09-28T07:46:45.021531Z"
    }
   },
   "outputs": [
    {
     "data": {
      "text/plain": [
       "(0.0, 200.0)"
      ]
     },
     "execution_count": 70,
     "metadata": {},
     "output_type": "execute_result"
    },
    {
     "data": {
      "image/png": "[encoded data removed]",
      "text/plain": [
       "<Figure size 288x288 with 1 Axes>"
      ]
     },
     "metadata": {
      "needs_background": "light"
     },
     "output_type": "display_data"
    }
   ],
   "source": [
    "\n",
    "# times = torch.arange(0,200,0.01).unsqueeze(0)\n",
    "\n",
    "times = event_time\n",
    "time_0 = torch.zeros(times.size()).to(times.device)\n",
    "\n",
    "\n",
    "    \n",
    "embeddings =   model.encoder.embedding(None,times)\n",
    "s = torch.abs(embeddings[0] - embeddings[0][0]).sum(-1).detach()\n",
    "d = times[0] \n",
    "\n",
    "\n",
    "fig, ax1 = plt.subplots(1, 1,figsize=(4,4))\n",
    "ax1.plot(d,s)\n",
    "ax1.set_xlim(0, 200)\n",
    "ax1.set_ylim(0, 200)"
   ]
  },
  {
   "cell_type": "code",
   "execution_count": 86,
   "metadata": {
    "ExecuteTime": {
     "end_time": "2021-09-28T07:50:20.826068Z",
     "start_time": "2021-09-28T07:50:20.806156Z"
    }
   },
   "outputs": [
    {
     "data": {
      "text/plain": [
       "tensor([[[-7.4846e-02,  4.3890e-01,  3.5670e-01,  ...,  4.1202e-01,\n",
       "           3.5769e-01,  3.2186e-01],\n",
       "         [-3.2545e-01,  4.3638e-01,  3.5411e-01,  ...,  4.0947e-01,\n",
       "           3.5510e-01,  3.1925e-01],\n",
       "         [-2.0280e+00,  4.1916e-01,  3.3644e-01,  ...,  3.9209e-01,\n",
       "           3.3744e-01,  3.0144e-01],\n",
       "         ...,\n",
       "         [-8.0596e+01, -4.3180e-01, -5.0173e-01,  ..., -4.5531e-01,\n",
       "          -5.0092e-01, -5.2969e-01],\n",
       "         [-8.2031e+01, -4.4622e-01, -5.1539e-01,  ..., -4.6949e-01,\n",
       "          -5.1459e-01, -5.4301e-01],\n",
       "         [-8.2962e+01, -4.5552e-01, -5.2418e-01,  ..., -4.7863e-01,\n",
       "          -5.2339e-01, -5.5158e-01]]], grad_fn=<CopySlices>)"
      ]
     },
     "execution_count": 86,
     "metadata": {},
     "output_type": "execute_result"
    }
   ],
   "source": [
    "embeddings"
   ]
  },
  {
   "cell_type": "code",
   "execution_count": 83,
   "metadata": {
    "ExecuteTime": {
     "end_time": "2021-09-28T07:48:53.775018Z",
     "start_time": "2021-09-28T07:48:53.758061Z"
    }
   },
   "outputs": [
    {
     "data": {
      "text/plain": [
       "tensor(3.9238, grad_fn=<SumBackward0>)"
      ]
     },
     "execution_count": 83,
     "metadata": {},
     "output_type": "execute_result"
    }
   ],
   "source": [
    "torch.abs(embeddings[0][1] -embeddings[0][2]).sum()"
   ]
  },
  {
   "cell_type": "code",
   "execution_count": 85,
   "metadata": {
    "ExecuteTime": {
     "end_time": "2021-09-28T07:49:40.825129Z",
     "start_time": "2021-09-28T07:49:40.806183Z"
    }
   },
   "outputs": [
    {
     "data": {
      "text/plain": [
       "tensor([[  0.3487,   0.9439,   4.9879,   7.8555,   8.4748,  21.5842,  22.3889,\n",
       "          22.8649,  27.3166,  28.0844,  48.4917,  48.6421,  83.2685,  98.0624,\n",
       "          99.6606, 100.5524, 102.9888, 104.0684, 104.1318, 104.6314, 106.0621,\n",
       "         107.4788, 109.0570, 118.4745, 118.6092, 119.0385, 121.3596, 121.3907,\n",
       "         122.4604, 122.5845, 122.7878, 123.0429, 124.3421, 125.0073, 125.5275,\n",
       "         126.1483, 126.2327, 126.7296, 127.6744, 129.7685, 130.5333, 131.0835,\n",
       "         133.7563, 143.1940, 153.4572, 153.6021, 153.9515, 154.0334, 154.6132,\n",
       "         155.6522, 169.0870, 169.3333, 169.4405, 171.3086, 173.9252, 174.0391,\n",
       "         174.5800, 175.8798, 177.0236, 179.0844, 183.8156, 189.4532, 191.6038,\n",
       "         195.0111, 197.2229]])"
      ]
     },
     "execution_count": 85,
     "metadata": {},
     "output_type": "execute_result"
    }
   ],
   "source": [
    "times"
   ]
  },
  {
   "cell_type": "code",
   "execution_count": 61,
   "metadata": {
    "ExecuteTime": {
     "end_time": "2021-09-28T07:41:03.775574Z",
     "start_time": "2021-09-28T07:41:03.758587Z"
    }
   },
   "outputs": [
    {
     "data": {
      "text/plain": [
       "tensor([ 4.7632,  0.0533,  0.0527,  0.0531,  0.0534, -0.0524, -0.0527, -0.0523,\n",
       "        -0.0532, -0.0533,  0.0531, -0.0534, -0.0531, -0.0526, -0.0535,  0.0525,\n",
       "         0.0535,  0.0534, -0.0531, -0.0522, -0.0526,  0.0533,  0.0526, -0.0528,\n",
       "        -0.0527,  0.0532,  0.0529, -0.0532, -0.0528,  0.0521,  0.0525, -0.0527,\n",
       "        -0.0527, -0.0529,  0.0533,  0.0537,  0.0527,  0.0532,  0.0523, -0.0529,\n",
       "         0.0526,  0.0522,  0.0530, -0.0528, -0.0526,  0.0530,  0.0524,  0.0535,\n",
       "        -0.0532, -0.0520, -0.0533, -0.0526, -0.0524, -0.0527,  0.0530, -0.0534,\n",
       "         0.0531, -0.0533,  0.0526,  0.0531,  0.0526,  0.0524,  0.0533, -0.0529,\n",
       "         0.0523, -0.0534,  0.0536, -0.0526, -0.0523,  0.0530,  0.0529, -0.0531,\n",
       "        -0.0524, -0.0529, -0.0534, -0.0527,  0.0534, -0.0528, -0.0529, -0.0535,\n",
       "        -0.0525,  0.0526, -0.0534,  0.0531,  0.0529,  0.0520, -0.0529, -0.0528,\n",
       "        -0.0532,  0.0528,  0.0531, -0.0535, -0.0533, -0.0534, -0.0523,  0.0525,\n",
       "         0.0526, -0.0530, -0.0533,  0.0525, -0.0534, -0.0526, -0.0527,  0.0531,\n",
       "        -0.0528,  0.0534, -0.0529, -0.0524, -0.0528,  0.0532, -0.0533, -0.0529,\n",
       "         0.0527,  0.0532, -0.0529,  0.0526, -0.0533,  0.0523,  0.0532, -0.0523,\n",
       "        -0.0533,  0.0535, -0.0528, -0.0523, -0.0530,  0.0531,  0.0527,  0.0524],\n",
       "       grad_fn=<SubBackward0>)"
      ]
     },
     "execution_count": 61,
     "metadata": {},
     "output_type": "execute_result"
    }
   ],
   "source": [
    "model.encoder.embedding.Wt(torch.Tensor([0]))-model.encoder.embedding.Wt(torch.Tensor([1]))"
   ]
  },
  {
   "cell_type": "code",
   "execution_count": 55,
   "metadata": {
    "ExecuteTime": {
     "end_time": "2021-09-28T07:36:55.970263Z",
     "start_time": "2021-09-28T07:36:55.950351Z"
    }
   },
   "outputs": [
    {
     "data": {
      "text/plain": [
       "tensor(57.2658, grad_fn=<SumBackward0>)"
      ]
     },
     "execution_count": 55,
     "metadata": {},
     "output_type": "execute_result"
    }
   ],
   "source": [
    "torch.abs(model.encoder.embedding.Wt(torch.Tensor([0])) - model.encoder.embedding.Wt(torch.Tensor([4.9879]))).sum()"
   ]
  },
  {
   "cell_type": "code",
   "execution_count": 23,
   "metadata": {
    "ExecuteTime": {
     "end_time": "2021-09-28T07:29:58.007179Z",
     "start_time": "2021-09-28T07:29:57.996225Z"
    }
   },
   "outputs": [
    {
     "data": {
      "text/plain": [
       "tensor([[  0.3487,   0.9439,   4.9879,   7.8555,   8.4748,  21.5842,  22.3889,\n",
       "          22.8649,  27.3166,  28.0844,  48.4917,  48.6421,  83.2685,  98.0624,\n",
       "          99.6606, 100.5524, 102.9888, 104.0684, 104.1318, 104.6314, 106.0621,\n",
       "         107.4788, 109.0570, 118.4745, 118.6092, 119.0385, 121.3596, 121.3907,\n",
       "         122.4604, 122.5845, 122.7878, 123.0429, 124.3421, 125.0073, 125.5275,\n",
       "         126.1483, 126.2327, 126.7296, 127.6744, 129.7685, 130.5333, 131.0835,\n",
       "         133.7563, 143.1940, 153.4572, 153.6021, 153.9515, 154.0334, 154.6132,\n",
       "         155.6522, 169.0870, 169.3333, 169.4405, 171.3086, 173.9252, 174.0391,\n",
       "         174.5800, 175.8798, 177.0236, 179.0844, 183.8156, 189.4532, 191.6038,\n",
       "         195.0111, 197.2229]])"
      ]
     },
     "execution_count": 23,
     "metadata": {},
     "output_type": "execute_result"
    }
   ],
   "source": [
    "event_time"
   ]
  },
  {
   "cell_type": "code",
   "execution_count": 42,
   "metadata": {
    "ExecuteTime": {
     "end_time": "2021-08-25T22:52:34.952465Z",
     "start_time": "2021-08-25T22:52:34.933517Z"
    }
   },
   "outputs": [
    {
     "data": {
      "text/plain": [
       "tensor([ 4.4460e-01,  1.0000e+00, -1.0000e+10, -1.0000e+10, -1.0000e+10,\n",
       "        -1.0000e+10, -1.0000e+10, -1.0000e+10, -1.0000e+10, -1.0000e+10,\n",
       "        -1.0000e+10, -1.0000e+10, -1.0000e+10, -1.0000e+10, -1.0000e+10,\n",
       "        -1.0000e+10, -1.0000e+10, -1.0000e+10, -1.0000e+10, -1.0000e+10,\n",
       "        -1.0000e+10, -1.0000e+10, -1.0000e+10, -1.0000e+10, -1.0000e+10,\n",
       "        -1.0000e+10, -1.0000e+10, -1.0000e+10, -1.0000e+10, -1.0000e+10,\n",
       "        -1.0000e+10, -1.0000e+10, -1.0000e+10, -1.0000e+10, -1.0000e+10,\n",
       "        -1.0000e+10, -1.0000e+10, -1.0000e+10, -1.0000e+10, -1.0000e+10,\n",
       "        -1.0000e+10, -1.0000e+10, -1.0000e+10, -1.0000e+10, -1.0000e+10,\n",
       "        -1.0000e+10, -1.0000e+10, -1.0000e+10, -1.0000e+10, -1.0000e+10,\n",
       "        -1.0000e+10, -1.0000e+10, -1.0000e+10, -1.0000e+10, -1.0000e+10,\n",
       "        -1.0000e+10, -1.0000e+10, -1.0000e+10, -1.0000e+10, -1.0000e+10,\n",
       "        -1.0000e+10, -1.0000e+10, -1.0000e+10, -1.0000e+10, -1.0000e+10],\n",
       "       device='cuda:0', grad_fn=<SelectBackward>)"
      ]
     },
     "execution_count": 42,
     "metadata": {},
     "output_type": "execute_result"
    }
   ],
   "source": [
    "k_scores[0][1]"
   ]
  },
  {
   "cell_type": "code",
   "execution_count": 10,
   "metadata": {
    "ExecuteTime": {
     "end_time": "2021-09-28T07:28:42.489981Z",
     "start_time": "2021-09-28T07:28:41.901555Z"
    }
   },
   "outputs": [],
   "source": [
    "kernel_values = []\n",
    "all_times = []\n",
    "\n",
    "model = model.to(device)\n",
    "\n",
    "for batch in testloader:\n",
    "    \n",
    "    event_type = batch[2]\n",
    "    length = event_type.sum()\n",
    "    event_time = batch[0]\n",
    "    arrival_time = batch[1]\n",
    "    \n",
    "    event_time, arrival_time, event_type,_ = map(lambda x: x.to(device), batch)\n",
    "    scores, embedding,t_diff = model.encoder(event_type,event_time,arrival_time)\n",
    "    scores = model.encoder.scores\n",
    "        \n",
    "    masked_t_diff = (t_diff[0][:length,:length])\n",
    "    masked_scores = (scores[0][:length,:length])\n",
    "    row,column = masked_t_diff.size()\n",
    "    row,column = torch.tril_indices(row,column)\n",
    "    times = masked_t_diff[row,column]\n",
    "    triggering_values=  masked_scores[row,column]\n",
    "    \n",
    "    kernel_values.append(triggering_values.detach())\n",
    "    all_times.append(times.detach())\n",
    "    \n",
    "kernel_values = torch.cat(kernel_values)\n",
    "all_times = torch.cat(all_times)"
   ]
  },
  {
   "cell_type": "code",
   "execution_count": 11,
   "metadata": {
    "ExecuteTime": {
     "end_time": "2021-09-28T07:28:43.040592Z",
     "start_time": "2021-09-28T07:28:43.020646Z"
    }
   },
   "outputs": [
    {
     "data": {
      "text/plain": [
       "tensor([[  0.3487,   0.9439,   4.9879,   7.8555,   8.4748,  21.5842,  22.3889,\n",
       "          22.8649,  27.3166,  28.0844,  48.4917,  48.6421,  83.2685,  98.0624,\n",
       "          99.6606, 100.5524, 102.9888, 104.0684, 104.1318, 104.6314, 106.0621,\n",
       "         107.4788, 109.0570, 118.4745, 118.6092, 119.0385, 121.3596, 121.3907,\n",
       "         122.4604, 122.5845, 122.7878, 123.0429, 124.3421, 125.0073, 125.5275,\n",
       "         126.1483, 126.2327, 126.7296, 127.6744, 129.7685, 130.5333, 131.0835,\n",
       "         133.7563, 143.1940, 153.4572, 153.6021, 153.9515, 154.0334, 154.6132,\n",
       "         155.6522, 169.0870, 169.3333, 169.4405, 171.3086, 173.9252, 174.0391,\n",
       "         174.5800, 175.8798, 177.0236, 179.0844, 183.8156, 189.4532, 191.6038,\n",
       "         195.0111, 197.2229]])"
      ]
     },
     "execution_count": 11,
     "metadata": {},
     "output_type": "execute_result"
    }
   ],
   "source": [
    "event_time"
   ]
  },
  {
   "cell_type": "code",
   "execution_count": 16,
   "metadata": {
    "ExecuteTime": {
     "end_time": "2021-09-28T07:28:52.695516Z",
     "start_time": "2021-09-28T07:28:52.678526Z"
    }
   },
   "outputs": [
    {
     "data": {
      "text/plain": [
       "tensor(19.8724, grad_fn=<SumBackward0>)"
      ]
     },
     "execution_count": 16,
     "metadata": {},
     "output_type": "execute_result"
    }
   ],
   "source": [
    "torch.abs(embedding[0][0] -embedding[0][2]).sum()"
   ]
  },
  {
   "cell_type": "code",
   "execution_count": 17,
   "metadata": {
    "ExecuteTime": {
     "end_time": "2021-09-28T07:29:01.582621Z",
     "start_time": "2021-09-28T07:29:01.574611Z"
    }
   },
   "outputs": [
    {
     "data": {
      "text/plain": [
       "tensor([[[-0.0656, -0.0663, -0.1062,  ..., -0.0325,  0.0295, -0.0290],\n",
       "         [-0.0505, -0.0609, -0.1257,  ..., -0.0464,  0.0183, -0.0296],\n",
       "         [ 0.1597,  0.0146, -0.3910,  ..., -0.2383, -0.1386, -0.0381],\n",
       "         ...,\n",
       "         [ 0.0443, -0.0269, -0.2478,  ..., -0.1336, -0.0527, -0.0335],\n",
       "         [ 0.1209,  0.0007, -0.3437,  ..., -0.2033, -0.1098, -0.0365],\n",
       "         [ 0.0480, -0.0255, -0.2525,  ..., -0.1370, -0.0555, -0.0336]]],\n",
       "       grad_fn=<CopySlices>)"
      ]
     },
     "execution_count": 17,
     "metadata": {},
     "output_type": "execute_result"
    }
   ],
   "source": [
    "embedding"
   ]
  },
  {
   "cell_type": "code",
   "execution_count": 6,
   "metadata": {
    "ExecuteTime": {
     "end_time": "2021-08-23T20:52:27.628319Z",
     "start_time": "2021-08-23T20:52:27.099986Z"
    }
   },
   "outputs": [
    {
     "data": {
      "image/png": "[encoded data removed]",
      "text/plain": [
       "<Figure size 1224x288 with 3 Axes>"
      ]
     },
     "metadata": {
      "needs_background": "light"
     },
     "output_type": "display_data"
    }
   ],
   "source": [
    "x = all_times.detach()\n",
    "y = kernel_values.detach()\n",
    "\n",
    "sorted_indices = torch.argsort(x)\n",
    "\n",
    "x = x[sorted_indices]\n",
    "y = y[sorted_indices]\n",
    "\n",
    "\n",
    "## Moving Average\n",
    "\n",
    "step = 0.5\n",
    "\n",
    "t = []\n",
    "alpha = []\n",
    "\n",
    "for i in np.arange(step,200,step):\n",
    "    avg_index = (x<i) & ( x >i - step)\n",
    "    t.append(x[avg_index].mean().item())\n",
    "    alpha.append(y[avg_index].mean().item())\n",
    "alpha = np.array(alpha)\n",
    "alpha = (alpha - alpha.min())/(alpha.max()-alpha.min())\n",
    "actual_alpha = power_law_kernel(np.array(t))\n",
    "actual_alpha = (actual_alpha - actual_alpha.min())/(actual_alpha.max()-actual_alpha.min())\n",
    "\n",
    "fig, (ax1, ax2,ax3) = plt.subplots(1, 3,figsize=(17,4))\n",
    "\n",
    "ax1.plot(t,alpha,label='Estimated Kernel')\n",
    "ax1.plot(t,actual_alpha,label='Actual Kernel')\n",
    "ax1.set_xlim(0, 200)\n",
    "ax1.legend()\n",
    "\n",
    "ax2.plot(t,alpha,label='Estimated Kernel')\n",
    "ax2.plot(t,actual_alpha,label='Actual Kernel')\n",
    "ax2.set_xlim(0, 50)\n",
    "ax2.legend()\n",
    "\n",
    "\n",
    "ax3.plot(t,alpha,label='Estimated Kernel')\n",
    "ax3.plot(t,actual_alpha,label='Actual Kernel')\n",
    "ax3.set_xlim(0, 10)\n",
    "ax3.legend()\n",
    "\n",
    "plt.show()"
   ]
  },
  {
   "cell_type": "code",
   "execution_count": 189,
   "metadata": {
    "ExecuteTime": {
     "end_time": "2021-08-23T11:28:26.955133Z",
     "start_time": "2021-08-23T11:28:26.936182Z"
    }
   },
   "outputs": [
    {
     "ename": "TypeError",
     "evalue": "clone(): argument 'input' (position 1) must be Tensor, not Encoder",
     "output_type": "error",
     "traceback": [
      "\u001b[1;31m---------------------------------------------------------------------------\u001b[0m",
      "\u001b[1;31mTypeError\u001b[0m                                 Traceback (most recent call last)",
      "\u001b[1;32m<ipython-input-189-8a6a19acb617>\u001b[0m in \u001b[0;36m<module>\u001b[1;34m\u001b[0m\n\u001b[1;32m----> 1\u001b[1;33m \u001b[0mtorch\u001b[0m\u001b[1;33m.\u001b[0m\u001b[0mclone\u001b[0m\u001b[1;33m(\u001b[0m\u001b[0mmodel\u001b[0m\u001b[1;33m.\u001b[0m\u001b[0mencoder\u001b[0m\u001b[1;33m)\u001b[0m\u001b[1;33m\u001b[0m\u001b[1;33m\u001b[0m\u001b[0m\n\u001b[0m",
      "\u001b[1;31mTypeError\u001b[0m: clone(): argument 'input' (position 1) must be Tensor, not Encoder"
     ]
    }
   ],
   "source": [
    "torch.clone(model.encoder)"
   ]
  },
  {
   "cell_type": "code",
   "execution_count": 20,
   "metadata": {
    "ExecuteTime": {
     "end_time": "2021-09-29T05:56:58.576501Z",
     "start_time": "2021-09-29T05:56:58.554547Z"
    }
   },
   "outputs": [],
   "source": [
    "def power_law_kernel(t):  \n",
    "    \n",
    "    return 0.2 * (0.5 + t)**(-1.3)\n",
    "\n",
    "\n",
    "def get_moving_average(times,scores,step = 0.15,max_t = 200):\n",
    "    \n",
    "    t = []\n",
    "    alpha = []\n",
    "    \n",
    "    index= 0\n",
    "    for i in np.arange(step,max_t,step):\n",
    "        avg_index = (x<i) & ( x >i - step)\n",
    "        t.append(x[avg_index].mean().item())\n",
    "        alpha.append(y[avg_index].mean().item())\n",
    "    \n",
    "    zero_avg_index = x ==0\n",
    "    t.insert(0,x[zero_avg_index].mean().item())\n",
    "    alpha.insert(0,y[zero_avg_index].mean().item())\n",
    "    \n",
    "    \n",
    "    return np.array(t),np.array(alpha) \n",
    "\n",
    "\n",
    "def get_triggering_kernel_values(model,device ='cpu'):\n",
    "    \n",
    "    encoder = model.encoder.to(device)\n",
    "\n",
    "    normalized_event_time = torch.arange(0,200,0.1).unsqueeze(0).to(device)\n",
    "    event_type = torch.ones(normalized_event_time.size(-1)).long().unsqueeze(0).to(device)\n",
    "\n",
    "    type_embedding = encoder.type_emb(event_type) * math.sqrt(model.d_model)\n",
    "\n",
    "    subsequent_mask = get_subsequent_mask(event_type)\n",
    "\n",
    "    xt_bar = normalized_event_time.unsqueeze(1). \\\n",
    "        expand(normalized_event_time.size(0), normalized_event_time.size(1), normalized_event_time.size(1))\n",
    "    xt = xt_bar.transpose(1, 2)\n",
    "\n",
    "\n",
    "    xd_bar = type_embedding.unsqueeze(1).expand(type_embedding.size(\n",
    "        0), type_embedding.size(1), type_embedding.size(1), type_embedding.size(-1))\n",
    "    xd = xd_bar.transpose(1, 2)\n",
    "\n",
    "\n",
    "    scores = encoder.kernel((xt, xt_bar), (xd, xd_bar))* (encoder.sigmoid((xt, xt_bar), (xd, xd_bar)))\n",
    "\n",
    "    length = event_type.sum()\n",
    "    t_diff = torch.abs(xt - xt_bar)\n",
    "\n",
    "\n",
    "    masked_t_diff = (t_diff[0][:length,:length])\n",
    "    masked_scores = (scores[0][:length,:length])\n",
    "    row,column = masked_t_diff.size()\n",
    "    row,column = torch.tril_indices(row,column)\n",
    "    times = masked_t_diff[row,column]\n",
    "    triggering_values=  masked_scores[row,column]\n",
    "\n",
    "    x = times.detach()\n",
    "    y = triggering_values.detach()\n",
    "\n",
    "    sorted_indices = torch.argsort(x)\n",
    "\n",
    "    x = x[sorted_indices]\n",
    "    y = y[sorted_indices]\n",
    "    \n",
    "    return x,y\n",
    "\n",
    "\n",
    "\n",
    "def plot_triggering_kernel_vs_actual_kernels(model,kernel_function,device = 'cpu',step = 0.25 ):\n",
    "    \n",
    "    times, scores = get_triggering_kernel_values(model,device = 'cpu')\n",
    "    t,alpha = get_moving_average(times,scores,step = step)\n",
    "    \n",
    "    \n",
    "    alpha = (alpha - alpha.min())/(alpha.max()-alpha.min())\n",
    "    actual_alpha = kernel_function(np.array(t))\n",
    "    actual_alpha = (actual_alpha - actual_alpha.min())/(actual_alpha.max()-actual_alpha.min())\n",
    "    \n",
    "    \n",
    "    fig, (ax1, ax2,ax3) = plt.subplots(1, 3,figsize=(17,4))\n",
    "\n",
    "    ax1.plot(t,alpha,label='Estimated Kernel')\n",
    "    ax1.plot(t,actual_alpha,label='Actual Kernel')\n",
    "    ax1.set_xlim(0, 200)\n",
    "    ax1.legend()\n",
    "\n",
    "    ax2.plot(t,alpha,label='Estimated Kernel')\n",
    "    ax2.plot(t,actual_alpha,label='Actual Kernel')\n",
    "    ax2.set_xlim(0, 25)\n",
    "    ax2.legend()\n",
    "\n",
    "\n",
    "    ax3.plot(t,alpha,label='Estimated Kernel')\n",
    "    ax3.plot(t,actual_alpha,label='Actual Kernel')\n",
    "    ax3.set_xlim(0, 6)\n",
    "    ax3.legend()\n",
    "\n",
    "    plt.show()\n",
    "    "
   ]
  },
  {
   "cell_type": "code",
   "execution_count": 203,
   "metadata": {
    "ExecuteTime": {
     "end_time": "2021-08-23T11:32:52.967516Z",
     "start_time": "2021-08-23T11:32:51.648744Z"
    }
   },
   "outputs": [
    {
     "data": {
      "image/png": "[encoded data removed]",
      "text/plain": [
       "<Figure size 1224x288 with 3 Axes>"
      ]
     },
     "metadata": {
      "needs_background": "light"
     },
     "output_type": "display_data"
    }
   ],
   "source": []
  },
  {
   "cell_type": "code",
   "execution_count": 166,
   "metadata": {
    "ExecuteTime": {
     "end_time": "2021-08-23T11:24:01.733470Z",
     "start_time": "2021-08-23T11:23:51.791679Z"
    }
   },
   "outputs": [
    {
     "data": {
      "image/png": "[encoded data removed]",
      "text/plain": [
       "<Figure size 1224x288 with 3 Axes>"
      ]
     },
     "metadata": {
      "needs_background": "light"
     },
     "output_type": "display_data"
    }
   ],
   "source": [
    "## Moving Average\n",
    "\n",
    "\n",
    "alpha = (alpha - alpha.min())/(alpha.max()-alpha.min())\n",
    "actual_alpha = power_law_kernel(np.array(t))\n",
    "actual_alpha = (actual_alpha - actual_alpha.min())/(actual_alpha.max()-actual_alpha.min())\n",
    "\n",
    "fig, (ax1, ax2,ax3) = plt.subplots(1, 3,figsize=(17,4))\n",
    "\n",
    "ax1.plot(t,alpha,label='Estimated Kernel')\n",
    "ax1.plot(t,actual_alpha,label='Actual Kernel')\n",
    "ax1.set_xlim(0, 200)\n",
    "ax1.legend()\n",
    "\n",
    "ax2.plot(t,alpha,label='Estimated Kernel')\n",
    "ax2.plot(t,actual_alpha,label='Actual Kernel')\n",
    "ax2.set_xlim(0, 25)\n",
    "ax2.legend()\n",
    "\n",
    "\n",
    "ax3.plot(t,alpha,label='Estimated Kernel')\n",
    "ax3.plot(t,actual_alpha,label='Actual Kernel')\n",
    "ax3.set_xlim(0, 6)\n",
    "ax3.legend()\n",
    "\n",
    "plt.show()"
   ]
  },
  {
   "cell_type": "markdown",
   "metadata": {},
   "source": [
    "## Event Predictions"
   ]
  },
  {
   "cell_type": "markdown",
   "metadata": {},
   "source": [
    "### RMSE Calculations"
   ]
  },
  {
   "cell_type": "code",
   "execution_count": 167,
   "metadata": {
    "ExecuteTime": {
     "end_time": "2021-08-23T11:24:36.190724Z",
     "start_time": "2021-08-23T11:24:36.127881Z"
    }
   },
   "outputs": [
    {
     "ename": "RuntimeError",
     "evalue": "Expected all tensors to be on the same device, but found at least two devices, cpu and cuda:0! (when checking arugment for argument index in method wrapper_index_select)",
     "output_type": "error",
     "traceback": [
      "\u001b[1;31m---------------------------------------------------------------------------\u001b[0m",
      "\u001b[1;31mRuntimeError\u001b[0m                              Traceback (most recent call last)",
      "\u001b[1;32m<ipython-input-167-a4f15dc735c3>\u001b[0m in \u001b[0;36m<module>\u001b[1;34m\u001b[0m\n\u001b[0;32m     13\u001b[0m \u001b[1;33m\u001b[0m\u001b[0m\n\u001b[0;32m     14\u001b[0m \u001b[1;33m\u001b[0m\u001b[0m\n\u001b[1;32m---> 15\u001b[1;33m     \u001b[0mpredicted_times\u001b[0m \u001b[1;33m=\u001b[0m \u001b[0mmodel\u001b[0m\u001b[1;33m(\u001b[0m\u001b[0mevent_type\u001b[0m\u001b[1;33m,\u001b[0m\u001b[0mevent_time\u001b[0m\u001b[1;33m)\u001b[0m\u001b[1;33m\u001b[0m\u001b[1;33m\u001b[0m\u001b[0m\n\u001b[0m\u001b[0;32m     16\u001b[0m \u001b[1;33m\u001b[0m\u001b[0m\n\u001b[0;32m     17\u001b[0m \u001b[1;33m\u001b[0m\u001b[0m\n",
      "\u001b[1;32m~\\Anaconda3\\lib\\site-packages\\torch\\nn\\modules\\module.py\u001b[0m in \u001b[0;36m_call_impl\u001b[1;34m(self, *input, **kwargs)\u001b[0m\n\u001b[0;32m   1049\u001b[0m         if not (self._backward_hooks or self._forward_hooks or self._forward_pre_hooks or _global_backward_hooks\n\u001b[0;32m   1050\u001b[0m                 or _global_forward_hooks or _global_forward_pre_hooks):\n\u001b[1;32m-> 1051\u001b[1;33m             \u001b[1;32mreturn\u001b[0m \u001b[0mforward_call\u001b[0m\u001b[1;33m(\u001b[0m\u001b[1;33m*\u001b[0m\u001b[0minput\u001b[0m\u001b[1;33m,\u001b[0m \u001b[1;33m**\u001b[0m\u001b[0mkwargs\u001b[0m\u001b[1;33m)\u001b[0m\u001b[1;33m\u001b[0m\u001b[1;33m\u001b[0m\u001b[0m\n\u001b[0m\u001b[0;32m   1052\u001b[0m         \u001b[1;31m# Do not call functions when jit is used\u001b[0m\u001b[1;33m\u001b[0m\u001b[1;33m\u001b[0m\u001b[1;33m\u001b[0m\u001b[0m\n\u001b[0;32m   1053\u001b[0m         \u001b[0mfull_backward_hooks\u001b[0m\u001b[1;33m,\u001b[0m \u001b[0mnon_full_backward_hooks\u001b[0m \u001b[1;33m=\u001b[0m \u001b[1;33m[\u001b[0m\u001b[1;33m]\u001b[0m\u001b[1;33m,\u001b[0m \u001b[1;33m[\u001b[0m\u001b[1;33m]\u001b[0m\u001b[1;33m\u001b[0m\u001b[1;33m\u001b[0m\u001b[0m\n",
      "\u001b[1;32m~\\OneDrive\\Research\\TPP\\gated_kernel_tpp\\models\\gated_tpp.py\u001b[0m in \u001b[0;36mforward\u001b[1;34m(self, event_type, event_time)\u001b[0m\n\u001b[0;32m     18\u001b[0m \u001b[1;33m\u001b[0m\u001b[0m\n\u001b[0;32m     19\u001b[0m     \u001b[1;32mdef\u001b[0m \u001b[0mforward\u001b[0m\u001b[1;33m(\u001b[0m\u001b[0mself\u001b[0m\u001b[1;33m,\u001b[0m \u001b[0mevent_type\u001b[0m\u001b[1;33m,\u001b[0m \u001b[0mevent_time\u001b[0m\u001b[1;33m)\u001b[0m\u001b[1;33m:\u001b[0m\u001b[1;33m\u001b[0m\u001b[1;33m\u001b[0m\u001b[0m\n\u001b[1;32m---> 20\u001b[1;33m         \u001b[0mscores\u001b[0m\u001b[1;33m,\u001b[0m \u001b[0membeddings\u001b[0m\u001b[1;33m,\u001b[0m \u001b[0m_\u001b[0m \u001b[1;33m=\u001b[0m \u001b[0mself\u001b[0m\u001b[1;33m.\u001b[0m\u001b[0mencoder\u001b[0m\u001b[1;33m(\u001b[0m\u001b[0mevent_type\u001b[0m\u001b[1;33m,\u001b[0m \u001b[0mevent_time\u001b[0m\u001b[1;33m)\u001b[0m\u001b[1;33m\u001b[0m\u001b[1;33m\u001b[0m\u001b[0m\n\u001b[0m\u001b[0;32m     21\u001b[0m         \u001b[0mhidden\u001b[0m \u001b[1;33m=\u001b[0m \u001b[0mtorch\u001b[0m\u001b[1;33m.\u001b[0m\u001b[0mmatmul\u001b[0m\u001b[1;33m(\u001b[0m\u001b[0mscores\u001b[0m\u001b[1;33m,\u001b[0m \u001b[0membeddings\u001b[0m\u001b[1;33m)\u001b[0m\u001b[1;33m\u001b[0m\u001b[1;33m\u001b[0m\u001b[0m\n\u001b[0;32m     22\u001b[0m         \u001b[0mhidden\u001b[0m \u001b[1;33m=\u001b[0m \u001b[0mself\u001b[0m\u001b[1;33m.\u001b[0m\u001b[0mnorm\u001b[0m\u001b[1;33m(\u001b[0m\u001b[0mhidden\u001b[0m\u001b[1;33m)\u001b[0m\u001b[1;33m\u001b[0m\u001b[1;33m\u001b[0m\u001b[0m\n",
      "\u001b[1;32m~\\Anaconda3\\lib\\site-packages\\torch\\nn\\modules\\module.py\u001b[0m in \u001b[0;36m_call_impl\u001b[1;34m(self, *input, **kwargs)\u001b[0m\n\u001b[0;32m   1049\u001b[0m         if not (self._backward_hooks or self._forward_hooks or self._forward_pre_hooks or _global_backward_hooks\n\u001b[0;32m   1050\u001b[0m                 or _global_forward_hooks or _global_forward_pre_hooks):\n\u001b[1;32m-> 1051\u001b[1;33m             \u001b[1;32mreturn\u001b[0m \u001b[0mforward_call\u001b[0m\u001b[1;33m(\u001b[0m\u001b[1;33m*\u001b[0m\u001b[0minput\u001b[0m\u001b[1;33m,\u001b[0m \u001b[1;33m**\u001b[0m\u001b[0mkwargs\u001b[0m\u001b[1;33m)\u001b[0m\u001b[1;33m\u001b[0m\u001b[1;33m\u001b[0m\u001b[0m\n\u001b[0m\u001b[0;32m   1052\u001b[0m         \u001b[1;31m# Do not call functions when jit is used\u001b[0m\u001b[1;33m\u001b[0m\u001b[1;33m\u001b[0m\u001b[1;33m\u001b[0m\u001b[0m\n\u001b[0;32m   1053\u001b[0m         \u001b[0mfull_backward_hooks\u001b[0m\u001b[1;33m,\u001b[0m \u001b[0mnon_full_backward_hooks\u001b[0m \u001b[1;33m=\u001b[0m \u001b[1;33m[\u001b[0m\u001b[1;33m]\u001b[0m\u001b[1;33m,\u001b[0m \u001b[1;33m[\u001b[0m\u001b[1;33m]\u001b[0m\u001b[1;33m\u001b[0m\u001b[1;33m\u001b[0m\u001b[0m\n",
      "\u001b[1;32m~\\OneDrive\\Research\\TPP\\gated_kernel_tpp\\models\\gated_tpp.py\u001b[0m in \u001b[0;36mforward\u001b[1;34m(self, event_type, event_time)\u001b[0m\n\u001b[0;32m     67\u001b[0m \u001b[1;33m\u001b[0m\u001b[0m\n\u001b[0;32m     68\u001b[0m         \u001b[1;31m## Type Encoding\u001b[0m\u001b[1;33m\u001b[0m\u001b[1;33m\u001b[0m\u001b[1;33m\u001b[0m\u001b[0m\n\u001b[1;32m---> 69\u001b[1;33m         type_embedding = self.type_emb(event_type) * math.sqrt(\n\u001b[0m\u001b[0;32m     70\u001b[0m             self.d_model)  ## Scale the embedding with the hidden vector size\n\u001b[0;32m     71\u001b[0m         \u001b[0membedding\u001b[0m \u001b[1;33m=\u001b[0m \u001b[0mtemp_enc\u001b[0m\u001b[1;33m\u001b[0m\u001b[1;33m\u001b[0m\u001b[0m\n",
      "\u001b[1;32m~\\Anaconda3\\lib\\site-packages\\torch\\nn\\modules\\module.py\u001b[0m in \u001b[0;36m_call_impl\u001b[1;34m(self, *input, **kwargs)\u001b[0m\n\u001b[0;32m   1049\u001b[0m         if not (self._backward_hooks or self._forward_hooks or self._forward_pre_hooks or _global_backward_hooks\n\u001b[0;32m   1050\u001b[0m                 or _global_forward_hooks or _global_forward_pre_hooks):\n\u001b[1;32m-> 1051\u001b[1;33m             \u001b[1;32mreturn\u001b[0m \u001b[0mforward_call\u001b[0m\u001b[1;33m(\u001b[0m\u001b[1;33m*\u001b[0m\u001b[0minput\u001b[0m\u001b[1;33m,\u001b[0m \u001b[1;33m**\u001b[0m\u001b[0mkwargs\u001b[0m\u001b[1;33m)\u001b[0m\u001b[1;33m\u001b[0m\u001b[1;33m\u001b[0m\u001b[0m\n\u001b[0m\u001b[0;32m   1052\u001b[0m         \u001b[1;31m# Do not call functions when jit is used\u001b[0m\u001b[1;33m\u001b[0m\u001b[1;33m\u001b[0m\u001b[1;33m\u001b[0m\u001b[0m\n\u001b[0;32m   1053\u001b[0m         \u001b[0mfull_backward_hooks\u001b[0m\u001b[1;33m,\u001b[0m \u001b[0mnon_full_backward_hooks\u001b[0m \u001b[1;33m=\u001b[0m \u001b[1;33m[\u001b[0m\u001b[1;33m]\u001b[0m\u001b[1;33m,\u001b[0m \u001b[1;33m[\u001b[0m\u001b[1;33m]\u001b[0m\u001b[1;33m\u001b[0m\u001b[1;33m\u001b[0m\u001b[0m\n",
      "\u001b[1;32m~\\Anaconda3\\lib\\site-packages\\torch\\nn\\modules\\sparse.py\u001b[0m in \u001b[0;36mforward\u001b[1;34m(self, input)\u001b[0m\n\u001b[0;32m    158\u001b[0m         return F.embedding(\n\u001b[0;32m    159\u001b[0m             \u001b[0minput\u001b[0m\u001b[1;33m,\u001b[0m \u001b[0mself\u001b[0m\u001b[1;33m.\u001b[0m\u001b[0mweight\u001b[0m\u001b[1;33m,\u001b[0m \u001b[0mself\u001b[0m\u001b[1;33m.\u001b[0m\u001b[0mpadding_idx\u001b[0m\u001b[1;33m,\u001b[0m \u001b[0mself\u001b[0m\u001b[1;33m.\u001b[0m\u001b[0mmax_norm\u001b[0m\u001b[1;33m,\u001b[0m\u001b[1;33m\u001b[0m\u001b[1;33m\u001b[0m\u001b[0m\n\u001b[1;32m--> 160\u001b[1;33m             self.norm_type, self.scale_grad_by_freq, self.sparse)\n\u001b[0m\u001b[0;32m    161\u001b[0m \u001b[1;33m\u001b[0m\u001b[0m\n\u001b[0;32m    162\u001b[0m     \u001b[1;32mdef\u001b[0m \u001b[0mextra_repr\u001b[0m\u001b[1;33m(\u001b[0m\u001b[0mself\u001b[0m\u001b[1;33m)\u001b[0m \u001b[1;33m->\u001b[0m \u001b[0mstr\u001b[0m\u001b[1;33m:\u001b[0m\u001b[1;33m\u001b[0m\u001b[1;33m\u001b[0m\u001b[0m\n",
      "\u001b[1;32m~\\Anaconda3\\lib\\site-packages\\torch\\nn\\functional.py\u001b[0m in \u001b[0;36membedding\u001b[1;34m(input, weight, padding_idx, max_norm, norm_type, scale_grad_by_freq, sparse)\u001b[0m\n\u001b[0;32m   2041\u001b[0m         \u001b[1;31m# remove once script supports set_grad_enabled\u001b[0m\u001b[1;33m\u001b[0m\u001b[1;33m\u001b[0m\u001b[1;33m\u001b[0m\u001b[0m\n\u001b[0;32m   2042\u001b[0m         \u001b[0m_no_grad_embedding_renorm_\u001b[0m\u001b[1;33m(\u001b[0m\u001b[0mweight\u001b[0m\u001b[1;33m,\u001b[0m \u001b[0minput\u001b[0m\u001b[1;33m,\u001b[0m \u001b[0mmax_norm\u001b[0m\u001b[1;33m,\u001b[0m \u001b[0mnorm_type\u001b[0m\u001b[1;33m)\u001b[0m\u001b[1;33m\u001b[0m\u001b[1;33m\u001b[0m\u001b[0m\n\u001b[1;32m-> 2043\u001b[1;33m     \u001b[1;32mreturn\u001b[0m \u001b[0mtorch\u001b[0m\u001b[1;33m.\u001b[0m\u001b[0membedding\u001b[0m\u001b[1;33m(\u001b[0m\u001b[0mweight\u001b[0m\u001b[1;33m,\u001b[0m \u001b[0minput\u001b[0m\u001b[1;33m,\u001b[0m \u001b[0mpadding_idx\u001b[0m\u001b[1;33m,\u001b[0m \u001b[0mscale_grad_by_freq\u001b[0m\u001b[1;33m,\u001b[0m \u001b[0msparse\u001b[0m\u001b[1;33m)\u001b[0m\u001b[1;33m\u001b[0m\u001b[1;33m\u001b[0m\u001b[0m\n\u001b[0m\u001b[0;32m   2044\u001b[0m \u001b[1;33m\u001b[0m\u001b[0m\n\u001b[0;32m   2045\u001b[0m \u001b[1;33m\u001b[0m\u001b[0m\n",
      "\u001b[1;31mRuntimeError\u001b[0m: Expected all tensors to be on the same device, but found at least two devices, cpu and cuda:0! (when checking arugment for argument index in method wrapper_index_select)"
     ]
    }
   ],
   "source": [
    "last_errors = []\n",
    "all_errors = []\n",
    "all_predictions = []\n",
    "all_arrivals = []\n",
    "for batch in testloader:\n",
    "    \n",
    "\n",
    "    event_type = batch[2]\n",
    "    event_time = batch[0]\n",
    "    arrival_time = batch[1]\n",
    "    \n",
    "    event_time, arrival_time, event_type,_ = map(lambda x: x.to(device), batch)\n",
    "\n",
    "    \n",
    "    predicted_times = model(event_type,event_time)\n",
    "\n",
    "\n",
    "    last_event_index = event_type.sum(-1)-2\n",
    "    errors = predicted_times[:, :-1] - arrival_time[:, 1:]\n",
    "    seq_index = 0\n",
    "    for idx in last_event_index:\n",
    "        last_errors.append(errors[seq_index][idx].unsqueeze(-1))\n",
    "        all_errors.append(errors[seq_index][:idx+1])\n",
    "        all_predictions.append(predicted_times[:, :-1][:idx+1].squeeze(0))\n",
    "        all_arrivals.append(arrival_time[:, :-1][:idx+1].squeeze(0))\n",
    "last_errors = torch.cat(last_errors)\n",
    "last_RMSE =(last_errors**2).mean().sqrt()\n",
    "\n",
    "all_predictions = torch.cat(all_predictions)\n",
    "all_arrivals = torch.cat(all_arrivals)\n",
    "\n",
    "\n",
    "all_errors = torch.cat(all_errors)\n",
    "all_RMSE = (all_errors**2).mean().sqrt()\n",
    "\n"
   ]
  },
  {
   "cell_type": "code",
   "execution_count": 8,
   "metadata": {
    "ExecuteTime": {
     "end_time": "2021-08-19T17:58:57.607200Z",
     "start_time": "2021-08-19T17:58:57.429964Z"
    }
   },
   "outputs": [
    {
     "data": {
      "text/plain": [
       "<matplotlib.axes._subplots.AxesSubplot at 0x1ba5c440bc8>"
      ]
     },
     "execution_count": 8,
     "metadata": {},
     "output_type": "execute_result"
    },
    {
     "data": {
      "image/png": "[encoded data removed]",
      "text/plain": [
       "<Figure size 432x288 with 1 Axes>"
      ]
     },
     "metadata": {
      "needs_background": "light"
     },
     "output_type": "display_data"
    }
   ],
   "source": [
    "sns.distplot(all_predictions.cpu().detach())"
   ]
  },
  {
   "cell_type": "code",
   "execution_count": 9,
   "metadata": {
    "ExecuteTime": {
     "end_time": "2021-08-19T17:58:59.291505Z",
     "start_time": "2021-08-19T17:58:59.118277Z"
    }
   },
   "outputs": [
    {
     "data": {
      "text/plain": [
       "<matplotlib.axes._subplots.AxesSubplot at 0x1ba5c645688>"
      ]
     },
     "execution_count": 9,
     "metadata": {},
     "output_type": "execute_result"
    },
    {
     "data": {
      "image/png": "[encoded data removed]",
      "text/plain": [
       "<Figure size 432x288 with 1 Axes>"
      ]
     },
     "metadata": {
      "needs_background": "light"
     },
     "output_type": "display_data"
    }
   ],
   "source": [
    "sns.distplot(all_arrivals.cpu().detach())"
   ]
  },
  {
   "cell_type": "code",
   "execution_count": 10,
   "metadata": {
    "ExecuteTime": {
     "end_time": "2021-08-19T17:58:59.873435Z",
     "start_time": "2021-08-19T17:58:59.687160Z"
    }
   },
   "outputs": [
    {
     "data": {
      "text/plain": [
       "<matplotlib.axes._subplots.AxesSubplot at 0x1ba5c95a048>"
      ]
     },
     "execution_count": 10,
     "metadata": {},
     "output_type": "execute_result"
    },
    {
     "data": {
      "image/png": "[encoded data removed]",
      "text/plain": [
       "<Figure size 432x288 with 1 Axes>"
      ]
     },
     "metadata": {
      "needs_background": "light"
     },
     "output_type": "display_data"
    }
   ],
   "source": [
    "sns.distplot(np.abs(all_errors.to('cpu').detach()))"
   ]
  },
  {
   "cell_type": "code",
   "execution_count": null,
   "metadata": {
    "ExecuteTime": {
     "end_time": "2021-08-18T15:26:04.601649Z",
     "start_time": "2021-08-18T15:26:04.559764Z"
    }
   },
   "outputs": [],
   "source": [
    "(tensor(0.2037, grad_fn=<SelectBackward>),\n",
    " tensor(0.6250, grad_fn=<SelectBackward>))"
   ]
  },
  {
   "cell_type": "markdown",
   "metadata": {},
   "source": [
    "## Sin Hawkes"
   ]
  },
  {
   "cell_type": "code",
   "execution_count": 16,
   "metadata": {
    "ExecuteTime": {
     "end_time": "2021-08-19T18:54:26.489084Z",
     "start_time": "2021-08-19T18:54:25.649653Z"
    }
   },
   "outputs": [
    {
     "data": {
      "text/plain": [
       "<All keys matched successfully>"
      ]
     },
     "execution_count": 16,
     "metadata": {},
     "output_type": "execute_result"
    }
   ],
   "source": [
    "data = '../data/simulated/sin_hawkes/'\n",
    "batch_size = 1\n",
    "def load_data(name, dict_name):\n",
    "    with open(name, 'rb') as f:\n",
    "        data = pickle.load(f, encoding='latin-1')\n",
    "        num_types = data['dim_process']\n",
    "        data = data[dict_name]\n",
    "        return data, int(num_types)\n",
    "\n",
    "train_data, num_types = load_data(data + 'train.pkl', 'train')\n",
    "dev_data, _ = load_data(data + 'dev.pkl', 'dev')\n",
    "test_data, _ = load_data(data + 'test.pkl', 'test')\n",
    "\n",
    "\n",
    "trainloader = get_dataloader(train_data, batch_size, shuffle=True)\n",
    "testloader = get_dataloader(test_data, 1, shuffle=False)\n",
    "valloader = get_dataloader(dev_data, 1, shuffle=False)\n",
    "\n",
    "t_max = max(max(max(valloader.dataset.time)), max(max(testloader.dataset.time)), max(max(trainloader.dataset.time)))\n",
    "\n",
    "model = gated_TPP(num_types,32, t_max=t_max,dropout= 0.1)\n",
    "device = 'cuda'\n",
    "model.load_state_dict(torch.load('trained_models/sin_hawkesdebug_model.pt'))"
   ]
  },
  {
   "cell_type": "code",
   "execution_count": 17,
   "metadata": {
    "ExecuteTime": {
     "end_time": "2021-08-19T18:54:27.313092Z",
     "start_time": "2021-08-19T18:54:27.306113Z"
    }
   },
   "outputs": [
    {
     "data": {
      "text/plain": [
       "tensor([2.2018], grad_fn=<SelectBackward>)"
      ]
     },
     "execution_count": 17,
     "metadata": {},
     "output_type": "execute_result"
    }
   ],
   "source": [
    "model.encoder.kernel.length_scale(model.encoder.type_emb.weight)[-1]"
   ]
  },
  {
   "cell_type": "code",
   "execution_count": 18,
   "metadata": {
    "ExecuteTime": {
     "end_time": "2021-08-19T18:54:28.792189Z",
     "start_time": "2021-08-19T18:54:28.786174Z"
    }
   },
   "outputs": [
    {
     "data": {
      "text/plain": [
       "tensor([0.9698, 0.0782], grad_fn=<SelectBackward>)"
      ]
     },
     "execution_count": 18,
     "metadata": {},
     "output_type": "execute_result"
    }
   ],
   "source": [
    "model.encoder.sigmoid.params(model.encoder.type_emb.weight)[-1]"
   ]
  },
  {
   "cell_type": "code",
   "execution_count": 19,
   "metadata": {
    "ExecuteTime": {
     "end_time": "2021-08-19T18:54:30.647852Z",
     "start_time": "2021-08-19T18:54:30.025054Z"
    }
   },
   "outputs": [],
   "source": [
    "kernel_values = []\n",
    "all_times = []\n",
    "\n",
    "model = model.to(device)\n",
    "\n",
    "for batch in testloader:\n",
    "    \n",
    "    event_type = batch[2]\n",
    "    length = event_type.sum()\n",
    "    event_time = batch[0]\n",
    "    arrival_time = batch[1]\n",
    "    \n",
    "    event_time, arrival_time, event_type,_ = map(lambda x: x.to(device), batch)\n",
    "    scores, embedding,t_diff = model.encoder(event_type,event_time)\n",
    "    scores = model.encoder.scores\n",
    "\n",
    "    masked_t_diff = (t_diff[0][:length,:length])\n",
    "    masked_scores = (scores[0][:length,:length])\n",
    "    row,column = masked_t_diff.size()\n",
    "    row,column = torch.tril_indices(row,column)\n",
    "    times = masked_t_diff[row,column]\n",
    "    triggering_values=  masked_scores[row,column]\n",
    "    \n",
    "    kernel_values.append(triggering_values.detach())\n",
    "    all_times.append(times.detach())\n",
    "    \n",
    "kernel_values = torch.cat(kernel_values)\n",
    "all_times = torch.cat(all_times)"
   ]
  },
  {
   "cell_type": "code",
   "execution_count": 32,
   "metadata": {
    "ExecuteTime": {
     "end_time": "2021-08-19T18:56:39.937898Z",
     "start_time": "2021-08-19T18:56:39.424972Z"
    }
   },
   "outputs": [
    {
     "data": {
      "image/png": "[encoded data removed]",
      "text/plain": [
       "<Figure size 1224x288 with 3 Axes>"
      ]
     },
     "metadata": {
      "needs_background": "light"
     },
     "output_type": "display_data"
    }
   ],
   "source": [
    "x = all_times.detach()\n",
    "y = kernel_values.detach()\n",
    "\n",
    "sorted_indices = torch.argsort(x)\n",
    "\n",
    "x = x[sorted_indices]\n",
    "y = y[sorted_indices]\n",
    "\n",
    "\n",
    "def sin_kernel(t):\n",
    "    \n",
    "\n",
    "    t_c = np.copy(t)\n",
    "    t_c[t_c>4] =0\n",
    "    sin = np.sin(t_c)/8\n",
    "    sin[sin <0] =0\n",
    "    return sin\n",
    "\n",
    "\n",
    "## Moving Average\n",
    "\n",
    "step = 0.5\n",
    "\n",
    "t = []\n",
    "alpha = []\n",
    "\n",
    "for i in np.arange(step,200,step):\n",
    "    avg_index = (x<i) & ( x >i - step)\n",
    "    t.append(x[avg_index].mean().item())\n",
    "    alpha.append(y[avg_index].mean().item())\n",
    "alpha = np.array(alpha)\n",
    "alpha = alpha/alpha.max()\n",
    "actual_alpha = sin_kernel(np.array(t))\n",
    "actual_alpha = (actual_alpha - actual_alpha.min())/(actual_alpha.max()-actual_alpha.min())\n",
    "\n",
    "fig, (ax1, ax2,ax3) = plt.subplots(1, 3,figsize=(17,4))\n",
    "\n",
    "ax1.plot(t,alpha,label='Estimated Kernel')\n",
    "ax1.plot(t,actual_alpha,label='Actual Kernel')\n",
    "ax1.set_xlim(0, 200)\n",
    "ax1.legend()\n",
    "\n",
    "ax2.plot(t,alpha,label='Estimated Kernel')\n",
    "ax2.plot(t,actual_alpha,label='Actual Kernel')\n",
    "ax2.set_xlim(0, 50)\n",
    "ax2.legend()\n",
    "\n",
    "\n",
    "ax3.plot(t,alpha,label='Estimated Kernel')\n",
    "ax3.plot(t,actual_alpha,label='Actual Kernel')\n",
    "ax3.set_xlim(0, 5)\n",
    "ax3.legend()\n",
    "\n",
    "plt.show()"
   ]
  },
  {
   "cell_type": "code",
   "execution_count": 31,
   "metadata": {
    "ExecuteTime": {
     "end_time": "2021-08-19T18:56:14.198163Z",
     "start_time": "2021-08-19T18:56:14.193145Z"
    }
   },
   "outputs": [
    {
     "data": {
      "text/plain": [
       "1.2903988361358643"
      ]
     },
     "execution_count": 31,
     "metadata": {},
     "output_type": "execute_result"
    }
   ],
   "source": [
    "alpha.max()"
   ]
  },
  {
   "cell_type": "code",
   "execution_count": 40,
   "metadata": {
    "ExecuteTime": {
     "end_time": "2021-08-19T18:24:39.108468Z",
     "start_time": "2021-08-19T18:24:38.329504Z"
    }
   },
   "outputs": [],
   "source": [
    "last_errors = []\n",
    "all_errors = []\n",
    "all_predictions = []\n",
    "all_arrivals = []\n",
    "for batch in testloader:\n",
    "    \n",
    "\n",
    "    event_type = batch[2]\n",
    "    event_time = batch[0]\n",
    "    arrival_time = batch[1]\n",
    "    \n",
    "    event_time, arrival_time, event_type,_ = map(lambda x: x.to(device), batch)\n",
    "\n",
    "    \n",
    "    predicted_times = model(event_type,event_time)\n",
    "\n",
    "\n",
    "    last_event_index = event_type.sum(-1)-2\n",
    "    errors = predicted_times[:, :-1] - arrival_time[:, 1:]\n",
    "    seq_index = 0\n",
    "    for idx in last_event_index:\n",
    "        last_errors.append(errors[seq_index][idx].unsqueeze(-1))\n",
    "        all_errors.append(errors[seq_index][:idx+1])\n",
    "        all_predictions.append(predicted_times[:, :-1][:idx+1].squeeze(0))\n",
    "        all_arrivals.append(arrival_time[:, :-1][:idx+1].squeeze(0))\n",
    "last_errors = torch.cat(last_errors)\n",
    "last_RMSE =(last_errors**2).mean().sqrt()\n",
    "\n",
    "all_predictions = torch.cat(all_predictions)\n",
    "all_arrivals = torch.cat(all_arrivals)\n",
    "\n",
    "\n",
    "all_errors = torch.cat(all_errors)\n",
    "all_RMSE = (all_errors**2).mean().sqrt()\n",
    "\n"
   ]
  },
  {
   "cell_type": "code",
   "execution_count": 41,
   "metadata": {
    "ExecuteTime": {
     "end_time": "2021-08-19T18:24:49.122879Z",
     "start_time": "2021-08-19T18:24:48.943419Z"
    }
   },
   "outputs": [
    {
     "data": {
      "text/plain": [
       "<matplotlib.axes._subplots.AxesSubplot at 0x1a44b728408>"
      ]
     },
     "execution_count": 41,
     "metadata": {},
     "output_type": "execute_result"
    },
    {
     "data": {
      "image/png": "[encoded data removed]",
      "text/plain": [
       "<Figure size 432x288 with 1 Axes>"
      ]
     },
     "metadata": {
      "needs_background": "light"
     },
     "output_type": "display_data"
    }
   ],
   "source": [
    "sns.distplot(all_predictions.cpu().detach())"
   ]
  },
  {
   "cell_type": "code",
   "execution_count": 42,
   "metadata": {
    "ExecuteTime": {
     "end_time": "2021-08-19T18:25:07.140377Z",
     "start_time": "2021-08-19T18:25:06.945651Z"
    }
   },
   "outputs": [
    {
     "data": {
      "text/plain": [
       "<matplotlib.axes._subplots.AxesSubplot at 0x1a450809b48>"
      ]
     },
     "execution_count": 42,
     "metadata": {},
     "output_type": "execute_result"
    },
    {
     "data": {
      "image/png": "[encoded data removed]",
      "text/plain": [
       "<Figure size 432x288 with 1 Axes>"
      ]
     },
     "metadata": {
      "needs_background": "light"
     },
     "output_type": "display_data"
    }
   ],
   "source": [
    "sns.distplot(all_arrivals.cpu().detach())"
   ]
  },
  {
   "cell_type": "code",
   "execution_count": null,
   "metadata": {},
   "outputs": [],
   "source": []
  },
  {
   "cell_type": "markdown",
   "metadata": {},
   "source": [
    "## Gate Experiments"
   ]
  },
  {
   "cell_type": "code",
   "execution_count": null,
   "metadata": {
    "ExecuteTime": {
     "end_time": "2021-08-18T15:26:04.603673Z",
     "start_time": "2021-08-18T15:26:03.680Z"
    }
   },
   "outputs": [],
   "source": [
    "nn.ModuleList([nn.Parameter(),nn.Parameter()])"
   ]
  },
  {
   "cell_type": "code",
   "execution_count": 51,
   "metadata": {
    "ExecuteTime": {
     "end_time": "2021-08-19T14:36:53.750676Z",
     "start_time": "2021-08-19T14:36:53.742701Z"
    }
   },
   "outputs": [
    {
     "data": {
      "text/plain": [
       "tensor([1.0000, 1.0000, 1.0000,  ..., 2.9397, 2.9406, 2.9415])"
      ]
     },
     "execution_count": 51,
     "metadata": {},
     "output_type": "execute_result"
    }
   ],
   "source": [
    "val_s"
   ]
  },
  {
   "cell_type": "code",
   "execution_count": null,
   "metadata": {
    "ExecuteTime": {
     "end_time": "2021-08-18T10:02:46.619420Z",
     "start_time": "2021-08-18T10:02:46.603463Z"
    }
   },
   "outputs": [],
   "source": [
    "nn.Parameter(torch.tensor(-0.1))"
   ]
  },
  {
   "cell_type": "code",
   "execution_count": null,
   "metadata": {
    "ExecuteTime": {
     "end_time": "2021-08-18T12:10:51.843818Z",
     "start_time": "2021-08-18T12:10:51.826865Z"
    }
   },
   "outputs": [],
   "source": [
    "nn.Sequential(nn.Parameter(torch.tensor([ 0.1] )), nn.Softplus())"
   ]
  },
  {
   "cell_type": "code",
   "execution_count": null,
   "metadata": {
    "ExecuteTime": {
     "end_time": "2021-08-18T12:15:55.173707Z",
     "start_time": "2021-08-18T12:15:55.156717Z"
    }
   },
   "outputs": [],
   "source": [
    "torch.softplus"
   ]
  },
  {
   "cell_type": "code",
   "execution_count": null,
   "metadata": {},
   "outputs": [],
   "source": []
  },
  {
   "cell_type": "code",
   "execution_count": 13,
   "metadata": {
    "ExecuteTime": {
     "end_time": "2021-08-19T17:59:28.787467Z",
     "start_time": "2021-08-19T17:59:28.774502Z"
    }
   },
   "outputs": [],
   "source": [
    "\n",
    "def squared_exponential_kernel(x, sigma=10, lambd=0.01, norm=2):\n",
    "    d = x ** norm\n",
    "\n",
    "    return (sigma ** 2) * torch.exp(-(d ** 2) / lambd ** 2)\n",
    "\n",
    "\n",
    "def sigmoid(x,l=0.1,s=0.1,b = 0.1,norm =2):\n",
    "    d = x**norm\n",
    "    return 1+torch.tanh((d-l)/s)\n",
    "\n",
    "t =torch.arange(0,200,0.1)\n",
    "val = squared_exponential_kernel(t,sigma = 2,lambd=2.1269,norm = 1)\n",
    "val_s = sigmoid((t/200),l =0.000001,s= 0.000000111,norm =1)\n",
    "\n",
    "plt.plot(t,F.softmax(val_s*val))\n",
    "plt.xlim(0, 4)\n"
   ]
  },
  {
   "cell_type": "code",
   "execution_count": 16,
   "metadata": {
    "ExecuteTime": {
     "end_time": "2021-08-19T17:59:42.242911Z",
     "start_time": "2021-08-19T17:59:42.078716Z"
    },
    "scrolled": true
   },
   "outputs": [
    {
     "name": "stderr",
     "output_type": "stream",
     "text": [
      "C:\\Users\\yamac\\Anaconda3\\lib\\site-packages\\ipykernel_launcher.py:5: UserWarning: Implicit dimension choice for softmax has been deprecated. Change the call to include dim=X as an argument.\n",
      "  \"\"\"\n"
     ]
    },
    {
     "data": {
      "text/plain": [
       "(0, 4)"
      ]
     },
     "execution_count": 16,
     "metadata": {},
     "output_type": "execute_result"
    },
    {
     "data": {
      "image/png": "[encoded data removed]",
      "text/plain": [
       "<Figure size 432x288 with 1 Axes>"
      ]
     },
     "metadata": {
      "needs_background": "light"
     },
     "output_type": "display_data"
    }
   ],
   "source": [
    "t =torch.arange(0,200,0.1)\n",
    "val = squared_exponential_kernel(t,sigma = 2,lambd=2.1269,norm = 1)\n",
    "val_s = sigmoid((t/200),l =0.000001,s= 0.000000111,norm =1)\n",
    "\n",
    "plt.plot(t,F.softmax(val_s*val))\n",
    "plt.xlim(0, 4)\n"
   ]
  },
  {
   "cell_type": "code",
   "execution_count": 7,
   "metadata": {
    "ExecuteTime": {
     "end_time": "2021-08-26T16:00:54.126145Z",
     "start_time": "2021-08-26T16:00:54.113169Z"
    }
   },
   "outputs": [],
   "source": [
    "\n",
    "\n",
    "def squared_exponential_kernel(x, sigma=1, lengthscale=0.01, norm=1):\n",
    "    d = x ** norm\n",
    "\n",
    "    return (sigma ** 2) * torch.exp(-(d ** 2) / lengthscale ** 2)\n",
    "\n",
    "\n",
    "def rational_quadratic_kernel(x, sigma =1, alpha= 0.1, lengthscale = 0.01,norm = 1):\n",
    "    d = x ** norm\n",
    "    return (sigma ** 2) *(1+((d**2)/(alpha*lengthscale)))**(-alpha)\n",
    "\n",
    "\n",
    "def power_law_kernel(t):  \n",
    "    \n",
    "    return 0.2 * (0.5 + t)**(-1.3)"
   ]
  },
  {
   "cell_type": "code",
   "execution_count": 8,
   "metadata": {
    "ExecuteTime": {
     "end_time": "2021-08-26T16:00:54.457249Z",
     "start_time": "2021-08-26T16:00:54.443287Z"
    }
   },
   "outputs": [],
   "source": [
    "t = torch.arange(0,200,0.1)"
   ]
  },
  {
   "cell_type": "code",
   "execution_count": 1,
   "metadata": {
    "ExecuteTime": {
     "end_time": "2021-08-30T23:47:51.912748Z",
     "start_time": "2021-08-30T23:47:51.816007Z"
    }
   },
   "outputs": [
    {
     "ename": "NameError",
     "evalue": "name 'rational_quadratic_kernel' is not defined",
     "output_type": "error",
     "traceback": [
      "\u001b[1;31m---------------------------------------------------------------------------\u001b[0m",
      "\u001b[1;31mNameError\u001b[0m                                 Traceback (most recent call last)",
      "\u001b[1;32m<ipython-input-1-7f5efc9609aa>\u001b[0m in \u001b[0;36m<module>\u001b[1;34m\u001b[0m\n\u001b[0;32m      1\u001b[0m \u001b[1;31m# values = squared_exponential_kernel(t,sigma= 1.0, lengthscale =  9.629205704)\u001b[0m\u001b[1;33m\u001b[0m\u001b[1;33m\u001b[0m\u001b[1;33m\u001b[0m\u001b[0m\n\u001b[1;32m----> 2\u001b[1;33m \u001b[0mvalues\u001b[0m \u001b[1;33m=\u001b[0m \u001b[0mrational_quadratic_kernel\u001b[0m\u001b[1;33m(\u001b[0m\u001b[0mt\u001b[0m\u001b[1;33m,\u001b[0m\u001b[0msigma\u001b[0m\u001b[1;33m=\u001b[0m \u001b[1;36m1.0\u001b[0m\u001b[1;33m,\u001b[0m \u001b[0mlengthscale\u001b[0m \u001b[1;33m=\u001b[0m  \u001b[1;36m0.7\u001b[0m\u001b[1;33m,\u001b[0m \u001b[0malpha\u001b[0m \u001b[1;33m=\u001b[0m \u001b[1;36m0.99\u001b[0m\u001b[1;33m)\u001b[0m\u001b[1;33m\u001b[0m\u001b[1;33m\u001b[0m\u001b[0m\n\u001b[0m\u001b[0;32m      3\u001b[0m \u001b[1;33m\u001b[0m\u001b[0m\n\u001b[0;32m      4\u001b[0m \u001b[1;33m\u001b[0m\u001b[0m\n\u001b[0;32m      5\u001b[0m \u001b[0mvalues_sig\u001b[0m \u001b[1;33m=\u001b[0m \u001b[0msig\u001b[0m\u001b[1;33m(\u001b[0m\u001b[0mt\u001b[0m\u001b[1;33m,\u001b[0m\u001b[0ml\u001b[0m\u001b[1;33m=\u001b[0m  \u001b[1;36m0.1501\u001b[0m\u001b[1;33m,\u001b[0m \u001b[0ms\u001b[0m \u001b[1;33m=\u001b[0m \u001b[1;36m2.0866\u001b[0m\u001b[1;33m)\u001b[0m\u001b[1;33m\u001b[0m\u001b[1;33m\u001b[0m\u001b[0m\n",
      "\u001b[1;31mNameError\u001b[0m: name 'rational_quadratic_kernel' is not defined"
     ]
    }
   ],
   "source": [
    "# values = squared_exponential_kernel(t,sigma= 1.0, lengthscale =  9.629205704)\n",
    "values = rational_quadratic_kernel(t,sigma= 1.0, lengthscale =  0.7, alpha = 0.99)\n",
    "\n",
    "\n",
    "values_sig = sig(t,l=  0.1501, s = 2.0866)\n",
    "\n",
    "\n",
    "fig, (ax1, ax2,ax3) = plt.subplots(1, 3,figsize=(17,4))\n",
    "\n",
    "\n",
    "ax1.plot(t,values)\n",
    "ax1.set_xlim(0, 100)\n",
    "\n",
    "ax2.plot(t,values)\n",
    "ax2.set_xlim(0, 25)\n",
    "\n",
    "ax3.plot(t,values)\n",
    "ax3.set_xlim(0, 3)\n",
    "\n",
    "\n",
    "# final_scores =values_sig*values\n",
    "# actual_scores = power_law_kernel(t)\n",
    "# ax3.plot(t,final_scores/final_scores.max())\n",
    "# ax3.plot(t,actual_scores/actual_scores.max())\n",
    "\n",
    "\n",
    "\n",
    "\n",
    "\n"
   ]
  },
  {
   "cell_type": "code",
   "execution_count": 79,
   "metadata": {
    "ExecuteTime": {
     "end_time": "2021-08-25T16:53:51.424177Z",
     "start_time": "2021-08-25T16:53:50.694996Z"
    }
   },
   "outputs": [
    {
     "data": {
      "text/plain": [
       "(0, 10)"
      ]
     },
     "execution_count": 79,
     "metadata": {},
     "output_type": "execute_result"
    },
    {
     "data": {
      "image/png": "[encoded data removed]",
      "text/plain": [
       "<Figure size 1224x288 with 3 Axes>"
      ]
     },
     "metadata": {
      "needs_background": "light"
     },
     "output_type": "display_data"
    }
   ],
   "source": [
    "values = squared_exponential_kernel(t,sigma= 1.0, lengthscale =  0.7)\n",
    "# values = rational_quadratic_kernel(t,sigma= 1.0, lengthscale =  0.1, alpha = 1.0)\n",
    "values_sig = sig(t,l=  100, s = 100)\n",
    "\n",
    "\n",
    "fig, (ax1, ax2,ax3) = plt.subplots(1, 3,figsize=(17,4))\n",
    "\n",
    "limit = 10\n",
    "\n",
    "ax1.plot(t,values)\n",
    "ax1.set_xlim(0, limit)\n",
    "ax1.plot(t,actual_scores/actual_scores.max())\n",
    "\n",
    "\n",
    "ax2.plot(t,values_sig)\n",
    "ax2.set_xlim(0, limit)\n",
    "\n",
    "\n",
    "final_scores =values_sig*values\n",
    "actual_scores = power_law_kernel(t)\n",
    "ax3.plot(t,final_scores/final_scores.max())\n",
    "ax3.plot(t,actual_scores/actual_scores.max())\n",
    "\n",
    "\n",
    "ax3.set_xlim(0, limit)\n",
    "\n",
    "\n",
    "\n"
   ]
  },
  {
   "cell_type": "code",
   "execution_count": 27,
   "metadata": {
    "ExecuteTime": {
     "end_time": "2021-08-26T18:55:08.056337Z",
     "start_time": "2021-08-26T18:55:07.102595Z"
    }
   },
   "outputs": [
    {
     "data": {
      "text/plain": [
       "(0, 5)"
      ]
     },
     "execution_count": 27,
     "metadata": {},
     "output_type": "execute_result"
    },
    {
     "data": {
      "image/png": "[encoded data removed]",
      "text/plain": [
       "<Figure size 1224x288 with 3 Axes>"
      ]
     },
     "metadata": {
      "needs_background": "light"
     },
     "output_type": "display_data"
    }
   ],
   "source": [
    "def sig(d,l,s):\n",
    "    return 0.5+0.5*torch.tanh((d - l) / s)\n",
    "\n",
    "\n",
    "\n",
    "values = squared_exponential_kernel(t,sigma= 1.0, lengthscale = 0.521527051925659)\n",
    "# values = rational_quadratic_kernel(t,sigma= 1.0, lengthscale =0.768, alpha = 0.99)\n",
    "values_sig = sig(t,l=  0.01, s = 0.1)\n",
    "\n",
    "\n",
    "fig, (ax1, ax2,ax3) = plt.subplots(1, 3,figsize=(17,4))\n",
    "\n",
    "limit = 5\n",
    "\n",
    "ax1.plot(t,values)\n",
    "ax1.set_xlim(0, limit)\n",
    "ax1.plot(t,actual_scores/actual_scores.max())\n",
    "\n",
    "\n",
    "ax2.plot(t,values_sig)\n",
    "ax2.set_xlim(0, limit)\n",
    "\n",
    "\n",
    "final_scores =values_sig*values\n",
    "actual_scores = power_law_kernel(t)\n",
    "ax3.plot(t,final_scores/final_scores.max())\n",
    "ax3.plot(t,actual_scores/actual_scores.max())\n",
    "\n",
    "\n",
    "ax3.set_xlim(0, limit)\n",
    "\n",
    "\n",
    "\n"
   ]
  },
  {
   "cell_type": "code",
   "execution_count": 95,
   "metadata": {
    "ExecuteTime": {
     "end_time": "2021-08-25T21:39:30.382105Z",
     "start_time": "2021-08-25T21:39:30.362159Z"
    }
   },
   "outputs": [
    {
     "data": {
      "text/plain": [
       "tensor([-5.0000e-01, -4.9357e-01, -4.7525e-01,  ...,  1.0627e-05,\n",
       "         1.0616e-05,  1.0606e-05])"
      ]
     },
     "execution_count": 95,
     "metadata": {},
     "output_type": "execute_result"
    }
   ],
   "source": [
    "final_scores"
   ]
  },
  {
   "cell_type": "markdown",
   "metadata": {
    "ExecuteTime": {
     "end_time": "2021-08-25T22:00:03.656354Z",
     "start_time": "2021-08-25T22:00:03.643390Z"
    }
   },
   "source": [
    "## Finding Fixed Embeddings"
   ]
  },
  {
   "cell_type": "code",
   "execution_count": null,
   "metadata": {},
   "outputs": [],
   "source": [
    "\n",
    "class BiasedPositionalEmbedding(nn.Module):\n",
    "    def __init__(self, d_model, max_len=4096):\n",
    "        super().__init__()\n",
    "\n",
    "        position = torch.arange(0, max_len).float().unsqueeze(1)\n",
    "        div_term = (torch.arange(0, d_model, 2).float() * -(math.log(10000.0) / d_model)).exp()\n",
    "        self.register_buffer('position', position)\n",
    "        self.register_buffer('div_term', div_term)\n",
    "\n",
    "        self.Wt = nn.Linear(1, d_model // 2, bias=False)\n",
    "\n",
    "    def forward(self, x, interval):\n",
    "        phi = self.Wt(interval.unsqueeze(-1))\n",
    "        aa = len(x.size())\n",
    "        if aa > 1:\n",
    "            length = x.size(1)\n",
    "        else:\n",
    "            length = x.size(0)\n",
    "\n",
    "        # pe = torch.zeros(length, len(self.Wt.weight)).float()\n",
    "        arc = (self.position[:length] * self.div_term).unsqueeze(0)\n",
    "        pe_sin = torch.sin(arc + phi)\n",
    "        pe_cos = torch.cos(arc + phi)\n",
    "        pe = torch.cat([pe_sin, pe_cos], dim=-1)\n",
    "\n",
    "        return pe\n"
   ]
  },
  {
   "cell_type": "code",
   "execution_count": 163,
   "metadata": {
    "ExecuteTime": {
     "end_time": "2021-09-22T07:15:53.867705Z",
     "start_time": "2021-09-22T07:11:36.845144Z"
    }
   },
   "outputs": [
    {
     "name": "stdout",
     "output_type": "stream",
     "text": [
      " Epoch:0, Loss:33.047489166259766\n",
      " Epoch:50, Loss:13.886917114257812\n",
      " Epoch:100, Loss:12.121674537658691\n",
      " Epoch:150, Loss:10.625414848327637\n",
      " Epoch:200, Loss:9.341994285583496\n",
      " Epoch:250, Loss:8.241207122802734\n",
      " Epoch:300, Loss:7.294740676879883\n",
      " Epoch:350, Loss:6.477621555328369\n",
      " Epoch:400, Loss:5.768611431121826\n",
      " Epoch:450, Loss:5.150003433227539\n",
      " Epoch:500, Loss:4.607209205627441\n",
      " Epoch:550, Loss:4.128270149230957\n",
      " Epoch:600, Loss:3.703411817550659\n",
      " Epoch:650, Loss:3.3246519565582275\n",
      " Epoch:700, Loss:2.989368438720703\n",
      " Epoch:750, Loss:2.6823253631591797\n",
      " Epoch:800, Loss:2.404254674911499\n",
      " Epoch:850, Loss:2.1543092727661133\n",
      " Epoch:900, Loss:1.9279117584228516\n",
      " Epoch:950, Loss:1.7239999771118164\n",
      " Epoch:1000, Loss:1.5547057390213013\n",
      " Epoch:1050, Loss:1.4073302745819092\n",
      " Epoch:1100, Loss:1.25567626953125\n",
      " Epoch:1150, Loss:1.117702603340149\n",
      " Epoch:1200, Loss:1.0104221105575562\n",
      " Epoch:1250, Loss:0.9182982444763184\n",
      " Epoch:1300, Loss:0.8399124145507812\n",
      " Epoch:1350, Loss:0.7755144834518433\n",
      " Epoch:1400, Loss:0.7603277564048767\n",
      " Epoch:1450, Loss:0.7116315364837646\n",
      " Epoch:1500, Loss:0.6211449503898621\n",
      " Epoch:1550, Loss:0.6269343495368958\n",
      " Epoch:1600, Loss:0.5725479125976562\n",
      " Epoch:1650, Loss:0.5455335974693298\n",
      " Epoch:1700, Loss:0.5118235349655151\n",
      " Epoch:1750, Loss:0.5373671650886536\n",
      " Epoch:1800, Loss:0.47062045335769653\n",
      " Epoch:1850, Loss:0.48305371403694153\n",
      " Epoch:1900, Loss:0.5501068234443665\n",
      " Epoch:1950, Loss:0.4454761743545532\n",
      " Epoch:2000, Loss:0.4256132245063782\n",
      " Epoch:2050, Loss:0.42204803228378296\n",
      " Epoch:2100, Loss:0.42184287309646606\n",
      " Epoch:2150, Loss:0.42502886056900024\n",
      " Epoch:2200, Loss:0.43205395340919495\n",
      " Epoch:2250, Loss:0.4317753314971924\n",
      " Epoch:2300, Loss:0.42837241291999817\n",
      " Epoch:2350, Loss:0.423496812582016\n",
      " Epoch:2400, Loss:0.4126429259777069\n",
      " Epoch:2450, Loss:0.3949693739414215\n"
     ]
    },
    {
     "data": {
      "text/plain": [
       "(0.0, 200.0)"
      ]
     },
     "execution_count": 163,
     "metadata": {},
     "output_type": "execute_result"
    },
    {
     "data": {
      "image/png": "[encoded data removed]",
      "text/plain": [
       "<Figure size 288x288 with 1 Axes>"
      ]
     },
     "metadata": {
      "needs_background": "light"
     },
     "output_type": "display_data"
    }
   ],
   "source": [
    "class TimetoVec(nn.Module):\n",
    "    def __init__(self, d_model):\n",
    "        super().__init__()\n",
    "\n",
    "        self.Wt = nn.Linear(1, d_model, bias=True)\n",
    "        self.d_model = d_model\n",
    "\n",
    "    def forward(self, eventype, time):\n",
    "        t2v = self.Wt(time.unsqueeze(-1))/math.sqrt(self.d_model)\n",
    "        t2v[:, :, 1:] = torch.sin(t2v[:, :, 1:].clone())\n",
    "\n",
    "        return t2v\n",
    "    \n",
    "t2v = TimetoVec(128)\n",
    "for p in t2v.parameters():\n",
    "    if p.dim() > 1:\n",
    "        nn.init.xavier_uniform_(p)\n",
    "\n",
    "times = torch.arange(0,200,0.01).unsqueeze(0)\n",
    "time_0 = torch.zeros(times.size()).to(times.device)\n",
    "\n",
    "optimizer = optim.Adam(filter(lambda x: x.requires_grad, t2v.parameters()),\n",
    "0.005, betas=(0.9, 0.999), eps=1e-05, weight_decay=0)\n",
    "\n",
    "\n",
    "losses = []\n",
    "epochs =[]\n",
    "for i in range(2500):\n",
    "    \n",
    "    optimizer.zero_grad()\n",
    "    enc_0 = t2v(None,time_0)\n",
    "    embeddings =   t2v(None,times)\n",
    "    embedding_distances =torch.abs(embeddings-enc_0 ).sum(dim=-1)\n",
    "    time_distances = torch.abs(times - time_0)\n",
    "\n",
    "    linearity_loss = torch.abs(embedding_distances -time_distances)\n",
    "    linearity_loss = linearity_loss.mean()\n",
    "    \n",
    "    if i % 50 ==0:\n",
    "        print(f' Epoch:{i}, Loss:{linearity_loss}')\n",
    "\n",
    "    losses.append(linearity_loss)\n",
    "    epochs.append(i)\n",
    "    linearity_loss.backward()\n",
    "    optimizer.step()\n",
    "    \n",
    "    \n",
    "embeddings =   t2v(None,times)\n",
    "s = torch.abs(embeddings[0] - embeddings[0][0]).sum(-1).detach()\n",
    "d = times[0] \n",
    "\n",
    "\n",
    "fig, ax1 = plt.subplots(1, 1,figsize=(4,4))\n",
    "ax1.plot(d,s)\n",
    "ax1.set_xlim(0, 200)\n",
    "ax1.set_ylim(0, 200)"
   ]
  },
  {
   "cell_type": "code",
   "execution_count": 165,
   "metadata": {
    "ExecuteTime": {
     "end_time": "2021-09-22T07:16:04.182673Z",
     "start_time": "2021-09-22T07:16:04.171703Z"
    }
   },
   "outputs": [],
   "source": [
    "torch.save(t2v.state_dict(),'trained_embeddings/timetovec128.pt')"
   ]
  },
  {
   "cell_type": "code",
   "execution_count": 166,
   "metadata": {
    "ExecuteTime": {
     "end_time": "2021-09-22T07:18:31.225422Z",
     "start_time": "2021-09-22T07:16:19.401973Z"
    }
   },
   "outputs": [
    {
     "name": "stdout",
     "output_type": "stream",
     "text": [
      " Epoch:0, Loss:63.541656494140625\n",
      " Epoch:50, Loss:50.00931930541992\n",
      " Epoch:100, Loss:46.01958084106445\n",
      " Epoch:150, Loss:41.79099655151367\n",
      " Epoch:200, Loss:38.08133316040039\n",
      " Epoch:250, Loss:34.354881286621094\n",
      " Epoch:300, Loss:30.60275650024414\n",
      " Epoch:350, Loss:26.82326889038086\n",
      " Epoch:400, Loss:23.01772689819336\n",
      " Epoch:450, Loss:19.18914794921875\n",
      " Epoch:500, Loss:15.341670036315918\n",
      " Epoch:550, Loss:11.516496658325195\n",
      " Epoch:600, Loss:8.468400001525879\n",
      " Epoch:650, Loss:6.2836408615112305\n",
      " Epoch:700, Loss:4.644222259521484\n",
      " Epoch:750, Loss:3.7207698822021484\n",
      " Epoch:800, Loss:3.0934152603149414\n",
      " Epoch:850, Loss:2.555903911590576\n",
      " Epoch:900, Loss:2.099543571472168\n",
      " Epoch:950, Loss:1.8438771963119507\n",
      " Epoch:1000, Loss:1.8034240007400513\n",
      " Epoch:1050, Loss:1.3248558044433594\n",
      " Epoch:1100, Loss:1.0275154113769531\n",
      " Epoch:1150, Loss:1.0226480960845947\n",
      " Epoch:1200, Loss:0.7578374147415161\n",
      " Epoch:1250, Loss:0.7804187536239624\n",
      " Epoch:1300, Loss:0.5601692795753479\n",
      " Epoch:1350, Loss:0.5732160210609436\n",
      " Epoch:1400, Loss:0.4095984697341919\n",
      " Epoch:1450, Loss:0.4765680134296417\n",
      " Epoch:1500, Loss:0.45257169008255005\n",
      " Epoch:1550, Loss:0.278736412525177\n",
      " Epoch:1600, Loss:0.33939483761787415\n",
      " Epoch:1650, Loss:0.44177427887916565\n",
      " Epoch:1700, Loss:0.35649096965789795\n",
      " Epoch:1750, Loss:0.20686762034893036\n",
      " Epoch:1800, Loss:0.21513022482395172\n",
      " Epoch:1850, Loss:0.18062300980091095\n",
      " Epoch:1900, Loss:0.19976218044757843\n",
      " Epoch:1950, Loss:0.2892936170101166\n",
      " Epoch:2000, Loss:0.5185540914535522\n",
      " Epoch:2050, Loss:0.17985528707504272\n",
      " Epoch:2100, Loss:0.21976909041404724\n",
      " Epoch:2150, Loss:0.22540226578712463\n",
      " Epoch:2200, Loss:0.20834940671920776\n",
      " Epoch:2250, Loss:0.19460861384868622\n",
      " Epoch:2300, Loss:0.2095898985862732\n",
      " Epoch:2350, Loss:0.6278861165046692\n",
      " Epoch:2400, Loss:0.2777056396007538\n",
      " Epoch:2450, Loss:0.1380777657032013\n"
     ]
    },
    {
     "data": {
      "text/plain": [
       "(0.0, 200.0)"
      ]
     },
     "execution_count": 166,
     "metadata": {},
     "output_type": "execute_result"
    },
    {
     "data": {
      "image/png": "[encoded data removed]",
      "text/plain": [
       "<Figure size 288x288 with 1 Axes>"
      ]
     },
     "metadata": {
      "needs_background": "light"
     },
     "output_type": "display_data"
    }
   ],
   "source": [
    "class TimetoVec(nn.Module):\n",
    "    def __init__(self, d_model):\n",
    "        super().__init__()\n",
    "\n",
    "        self.Wt = nn.Linear(1, d_model, bias=True)\n",
    "        self.d_model = d_model\n",
    "\n",
    "    def forward(self, eventype, time):\n",
    "        t2v = self.Wt(time.unsqueeze(-1))/math.sqrt(self.d_model)\n",
    "        t2v[:, :, 1:] = torch.sin(t2v[:, :, 1:].clone())\n",
    "\n",
    "        return t2v\n",
    "    \n",
    "t2v = TimetoVec(64)\n",
    "for p in t2v.parameters():\n",
    "    if p.dim() > 1:\n",
    "        nn.init.xavier_uniform_(p)\n",
    "\n",
    "times = torch.arange(0,200,0.01).unsqueeze(0)\n",
    "time_0 = torch.zeros(times.size()).to(times.device)\n",
    "\n",
    "optimizer = optim.Adam(filter(lambda x: x.requires_grad, t2v.parameters()),\n",
    "0.005, betas=(0.9, 0.999), eps=1e-05, weight_decay=0)\n",
    "\n",
    "\n",
    "losses = []\n",
    "epochs =[]\n",
    "for i in range(2500):\n",
    "    \n",
    "    optimizer.zero_grad()\n",
    "    enc_0 = t2v(None,time_0)\n",
    "    embeddings =   t2v(None,times)\n",
    "    embedding_distances =torch.abs(embeddings-enc_0 ).sum(dim=-1)\n",
    "    time_distances = torch.abs(times - time_0)\n",
    "\n",
    "    linearity_loss = torch.abs(embedding_distances -time_distances)\n",
    "    linearity_loss = linearity_loss.mean()\n",
    "    \n",
    "    if i % 50 ==0:\n",
    "        print(f' Epoch:{i}, Loss:{linearity_loss}')\n",
    "\n",
    "    losses.append(linearity_loss)\n",
    "    epochs.append(i)\n",
    "    linearity_loss.backward()\n",
    "    optimizer.step()\n",
    "    \n",
    "    \n",
    "embeddings =   t2v(None,times)\n",
    "s = torch.abs(embeddings[0] - embeddings[0][0]).sum(-1).detach()\n",
    "d = times[0] \n",
    "\n",
    "\n",
    "fig, ax1 = plt.subplots(1, 1,figsize=(4,4))\n",
    "ax1.plot(d,s)\n",
    "ax1.set_xlim(0, 200)\n",
    "ax1.set_ylim(0, 200)"
   ]
  },
  {
   "cell_type": "code",
   "execution_count": 167,
   "metadata": {
    "ExecuteTime": {
     "end_time": "2021-09-22T07:18:33.904934Z",
     "start_time": "2021-09-22T07:18:33.898984Z"
    }
   },
   "outputs": [],
   "source": [
    "torch.save(t2v.state_dict(),'trained_embeddings/timetovec64.pt')"
   ]
  },
  {
   "cell_type": "code",
   "execution_count": 169,
   "metadata": {
    "ExecuteTime": {
     "end_time": "2021-09-22T07:20:27.187299Z",
     "start_time": "2021-09-22T07:19:15.415322Z"
    }
   },
   "outputs": [
    {
     "name": "stdout",
     "output_type": "stream",
     "text": [
      " Epoch:0, Loss:82.15733337402344\n",
      " Epoch:50, Loss:73.96256256103516\n",
      " Epoch:100, Loss:69.16724395751953\n",
      " Epoch:150, Loss:64.0753173828125\n",
      " Epoch:200, Loss:58.86579513549805\n",
      " Epoch:250, Loss:53.90190124511719\n",
      " Epoch:300, Loss:48.94499206542969\n",
      " Epoch:350, Loss:43.71575927734375\n",
      " Epoch:400, Loss:38.7224235534668\n",
      " Epoch:450, Loss:33.95943069458008\n",
      " Epoch:500, Loss:29.725631713867188\n",
      " Epoch:550, Loss:25.756858825683594\n",
      " Epoch:600, Loss:22.116703033447266\n",
      " Epoch:650, Loss:18.800579071044922\n",
      " Epoch:700, Loss:15.712026596069336\n",
      " Epoch:750, Loss:12.793140411376953\n",
      " Epoch:800, Loss:10.004809379577637\n",
      " Epoch:850, Loss:7.395219326019287\n",
      " Epoch:900, Loss:5.303285121917725\n",
      " Epoch:950, Loss:3.988701581954956\n",
      " Epoch:1000, Loss:3.531954288482666\n",
      " Epoch:1050, Loss:3.4026577472686768\n",
      " Epoch:1100, Loss:3.1800992488861084\n",
      " Epoch:1150, Loss:3.091186046600342\n",
      " Epoch:1200, Loss:3.0558698177337646\n",
      " Epoch:1250, Loss:2.9520766735076904\n",
      " Epoch:1300, Loss:2.885136604309082\n",
      " Epoch:1350, Loss:2.8611509799957275\n",
      " Epoch:1400, Loss:2.8181188106536865\n",
      " Epoch:1450, Loss:2.7662246227264404\n",
      " Epoch:1500, Loss:2.7316770553588867\n",
      " Epoch:1550, Loss:2.6884031295776367\n",
      " Epoch:1600, Loss:2.661505699157715\n",
      " Epoch:1650, Loss:2.63649582862854\n",
      " Epoch:1700, Loss:2.612593412399292\n",
      " Epoch:1750, Loss:2.5552873611450195\n",
      " Epoch:1800, Loss:2.556049108505249\n",
      " Epoch:1850, Loss:2.510740280151367\n",
      " Epoch:1900, Loss:2.505772113800049\n",
      " Epoch:1950, Loss:2.447723388671875\n",
      " Epoch:2000, Loss:2.4240071773529053\n",
      " Epoch:2050, Loss:2.3113789558410645\n",
      " Epoch:2100, Loss:2.1958670616149902\n",
      " Epoch:2150, Loss:2.105116367340088\n",
      " Epoch:2200, Loss:2.0129590034484863\n",
      " Epoch:2250, Loss:1.952606201171875\n",
      " Epoch:2300, Loss:1.8725011348724365\n",
      " Epoch:2350, Loss:1.7784916162490845\n",
      " Epoch:2400, Loss:1.6532973051071167\n",
      " Epoch:2450, Loss:1.5932449102401733\n"
     ]
    },
    {
     "data": {
      "text/plain": [
       "(0.0, 200.0)"
      ]
     },
     "execution_count": 169,
     "metadata": {},
     "output_type": "execute_result"
    },
    {
     "data": {
      "image/png": "[encoded data removed]",
      "text/plain": [
       "<Figure size 288x288 with 1 Axes>"
      ]
     },
     "metadata": {
      "needs_background": "light"
     },
     "output_type": "display_data"
    }
   ],
   "source": [
    "class TimetoVec(nn.Module):\n",
    "    def __init__(self, d_model):\n",
    "        super().__init__()\n",
    "\n",
    "        self.Wt = nn.Linear(1, d_model, bias=True)\n",
    "        self.d_model = d_model\n",
    "\n",
    "    def forward(self, eventype, time):\n",
    "        t2v = self.Wt(time.unsqueeze(-1))/math.sqrt(self.d_model)\n",
    "        t2v[:, :, 1:] = torch.sin(t2v[:, :, 1:].clone())\n",
    "\n",
    "        return t2v\n",
    "    \n",
    "t2v = TimetoVec(32)\n",
    "for p in t2v.parameters():\n",
    "    if p.dim() > 1:\n",
    "        nn.init.xavier_uniform_(p)\n",
    "\n",
    "times = torch.arange(0,200,0.01).unsqueeze(0)\n",
    "time_0 = torch.zeros(times.size()).to(times.device)\n",
    "\n",
    "optimizer = optim.Adam(filter(lambda x: x.requires_grad, t2v.parameters()),\n",
    "0.005, betas=(0.9, 0.999), eps=1e-05, weight_decay=0)\n",
    "\n",
    "\n",
    "losses = []\n",
    "epochs =[]\n",
    "for i in range(2500):\n",
    "    \n",
    "    optimizer.zero_grad()\n",
    "    enc_0 = t2v(None,time_0)\n",
    "    embeddings =   t2v(None,times)\n",
    "    embedding_distances =torch.abs(embeddings-enc_0 ).sum(dim=-1)\n",
    "    time_distances = torch.abs(times - time_0)\n",
    "\n",
    "    linearity_loss = torch.abs(embedding_distances -time_distances)\n",
    "    linearity_loss = linearity_loss.mean()\n",
    "    \n",
    "    if i % 50 ==0:\n",
    "        print(f' Epoch:{i}, Loss:{linearity_loss}')\n",
    "\n",
    "    losses.append(linearity_loss)\n",
    "    epochs.append(i)\n",
    "    linearity_loss.backward()\n",
    "    optimizer.step()\n",
    "    \n",
    "    \n",
    "embeddings =   t2v(None,times)\n",
    "s = torch.abs(embeddings[0] - embeddings[0][0]).sum(-1).detach()\n",
    "d = times[0] \n",
    "\n",
    "\n",
    "fig, ax1 = plt.subplots(1, 1,figsize=(4,4))\n",
    "ax1.plot(d,s)\n",
    "ax1.set_xlim(0, 200)\n",
    "ax1.set_ylim(0, 200)"
   ]
  },
  {
   "cell_type": "code",
   "execution_count": 170,
   "metadata": {
    "ExecuteTime": {
     "end_time": "2021-09-22T07:20:31.443735Z",
     "start_time": "2021-09-22T07:20:31.431803Z"
    }
   },
   "outputs": [],
   "source": [
    "torch.save(t2v.state_dict(),'trained_embeddings/timetovec32.pt')"
   ]
  },
  {
   "cell_type": "code",
   "execution_count": 171,
   "metadata": {
    "ExecuteTime": {
     "end_time": "2021-09-22T07:21:33.586575Z",
     "start_time": "2021-09-22T07:20:47.296789Z"
    }
   },
   "outputs": [
    {
     "name": "stdout",
     "output_type": "stream",
     "text": [
      " Epoch:0, Loss:80.89544677734375\n",
      " Epoch:50, Loss:74.4186019897461\n",
      " Epoch:100, Loss:67.9933090209961\n",
      " Epoch:150, Loss:61.410526275634766\n",
      " Epoch:200, Loss:54.89236068725586\n",
      " Epoch:250, Loss:48.51838302612305\n",
      " Epoch:300, Loss:42.332637786865234\n",
      " Epoch:350, Loss:36.34716033935547\n",
      " Epoch:400, Loss:30.508075714111328\n",
      " Epoch:450, Loss:24.779260635375977\n",
      " Epoch:500, Loss:19.18301010131836\n",
      " Epoch:550, Loss:13.793835639953613\n",
      " Epoch:600, Loss:9.045117378234863\n",
      " Epoch:650, Loss:6.0162787437438965\n",
      " Epoch:700, Loss:4.834778308868408\n",
      " Epoch:750, Loss:4.662786483764648\n",
      " Epoch:800, Loss:4.5789265632629395\n",
      " Epoch:850, Loss:4.49665641784668\n",
      " Epoch:900, Loss:4.418323993682861\n",
      " Epoch:950, Loss:4.353588104248047\n",
      " Epoch:1000, Loss:4.27760648727417\n",
      " Epoch:1050, Loss:4.202138423919678\n",
      " Epoch:1100, Loss:4.137216567993164\n",
      " Epoch:1150, Loss:4.089880466461182\n",
      " Epoch:1200, Loss:4.027767181396484\n",
      " Epoch:1250, Loss:3.9700026512145996\n",
      " Epoch:1300, Loss:3.9021081924438477\n",
      " Epoch:1350, Loss:3.8408491611480713\n",
      " Epoch:1400, Loss:3.7956671714782715\n",
      " Epoch:1450, Loss:3.7563862800598145\n",
      " Epoch:1500, Loss:3.7282698154449463\n",
      " Epoch:1550, Loss:3.6933672428131104\n",
      " Epoch:1600, Loss:3.668642282485962\n",
      " Epoch:1650, Loss:3.645963191986084\n",
      " Epoch:1700, Loss:3.6233105659484863\n",
      " Epoch:1750, Loss:3.6032233238220215\n",
      " Epoch:1800, Loss:3.583364725112915\n",
      " Epoch:1850, Loss:3.5683836936950684\n",
      " Epoch:1900, Loss:3.555201530456543\n",
      " Epoch:1950, Loss:3.536858558654785\n",
      " Epoch:2000, Loss:3.5229485034942627\n",
      " Epoch:2050, Loss:3.511918067932129\n",
      " Epoch:2100, Loss:3.4976015090942383\n",
      " Epoch:2150, Loss:3.4905409812927246\n",
      " Epoch:2200, Loss:3.484358549118042\n",
      " Epoch:2250, Loss:3.4733622074127197\n",
      " Epoch:2300, Loss:3.4601757526397705\n",
      " Epoch:2350, Loss:3.4549317359924316\n",
      " Epoch:2400, Loss:3.460524559020996\n",
      " Epoch:2450, Loss:3.451117515563965\n"
     ]
    },
    {
     "data": {
      "text/plain": [
       "(0.0, 200.0)"
      ]
     },
     "execution_count": 171,
     "metadata": {},
     "output_type": "execute_result"
    },
    {
     "data": {
      "image/png": "[encoded data removed]",
      "text/plain": [
       "<Figure size 288x288 with 1 Axes>"
      ]
     },
     "metadata": {
      "needs_background": "light"
     },
     "output_type": "display_data"
    }
   ],
   "source": [
    "class TimetoVec(nn.Module):\n",
    "    def __init__(self, d_model):\n",
    "        super().__init__()\n",
    "\n",
    "        self.Wt = nn.Linear(1, d_model, bias=True)\n",
    "        self.d_model = d_model\n",
    "\n",
    "    def forward(self, eventype, time):\n",
    "        t2v = self.Wt(time.unsqueeze(-1))/math.sqrt(self.d_model)\n",
    "        t2v[:, :, 1:] = torch.sin(t2v[:, :, 1:].clone())\n",
    "\n",
    "        return t2v\n",
    "    \n",
    "t2v = TimetoVec(16)\n",
    "for p in t2v.parameters():\n",
    "    if p.dim() > 1:\n",
    "        nn.init.xavier_uniform_(p)\n",
    "\n",
    "times = torch.arange(0,200,0.01).unsqueeze(0)\n",
    "time_0 = torch.zeros(times.size()).to(times.device)\n",
    "\n",
    "optimizer = optim.Adam(filter(lambda x: x.requires_grad, t2v.parameters()),\n",
    "0.005, betas=(0.9, 0.999), eps=1e-05, weight_decay=0)\n",
    "\n",
    "\n",
    "losses = []\n",
    "epochs =[]\n",
    "for i in range(2500):\n",
    "    \n",
    "    optimizer.zero_grad()\n",
    "    enc_0 = t2v(None,time_0)\n",
    "    embeddings =   t2v(None,times)\n",
    "    embedding_distances =torch.abs(embeddings-enc_0 ).sum(dim=-1)\n",
    "    time_distances = torch.abs(times - time_0)\n",
    "\n",
    "    linearity_loss = torch.abs(embedding_distances -time_distances)\n",
    "    linearity_loss = linearity_loss.mean()\n",
    "    \n",
    "    if i % 50 ==0:\n",
    "        print(f' Epoch:{i}, Loss:{linearity_loss}')\n",
    "\n",
    "    losses.append(linearity_loss)\n",
    "    epochs.append(i)\n",
    "    linearity_loss.backward()\n",
    "    optimizer.step()\n",
    "    \n",
    "    \n",
    "embeddings =   t2v(None,times)\n",
    "s = torch.abs(embeddings[0] - embeddings[0][0]).sum(-1).detach()\n",
    "d = times[0] \n",
    "\n",
    "\n",
    "fig, ax1 = plt.subplots(1, 1,figsize=(4,4))\n",
    "ax1.plot(d,s)\n",
    "ax1.set_xlim(0, 200)\n",
    "ax1.set_ylim(0, 200)"
   ]
  },
  {
   "cell_type": "code",
   "execution_count": 172,
   "metadata": {
    "ExecuteTime": {
     "end_time": "2021-09-22T07:21:38.798996Z",
     "start_time": "2021-09-22T07:21:38.557920Z"
    }
   },
   "outputs": [
    {
     "data": {
      "text/plain": [
       "(0.0, 5.0)"
      ]
     },
     "execution_count": 172,
     "metadata": {},
     "output_type": "execute_result"
    },
    {
     "data": {
      "image/png": "[encoded data removed]",
      "text/plain": [
       "<Figure size 288x288 with 1 Axes>"
      ]
     },
     "metadata": {
      "needs_background": "light"
     },
     "output_type": "display_data"
    }
   ],
   "source": [
    "fig, ax1 = plt.subplots(1, 1,figsize=(4,4))\n",
    "ax1.plot(d,s)\n",
    "ax1.set_xlim(0, 5)\n",
    "ax1.set_ylim(0, 5)"
   ]
  },
  {
   "cell_type": "code",
   "execution_count": 173,
   "metadata": {
    "ExecuteTime": {
     "end_time": "2021-09-22T07:23:10.530867Z",
     "start_time": "2021-09-22T07:23:10.521890Z"
    }
   },
   "outputs": [],
   "source": [
    "torch.save(t2v.state_dict(),'trained_embeddings/timetovec16.pt')"
   ]
  },
  {
   "cell_type": "code",
   "execution_count": null,
   "metadata": {},
   "outputs": [],
   "source": [
    "embeddings =   t2v(None,times)\n",
    "s = torch.abs(embeddings[0] - embeddings[0][0]).sum(-1).detach()\n",
    "d = times[0] \n",
    "\n",
    "\n",
    "fig, ax1 = plt.subplots(1, 1,figsize=(4,4))\n",
    "ax1.plot(d,s)\n",
    "ax1.set_xlim(0, 200)\n",
    "ax1.set_ylim(0, 200)"
   ]
  },
  {
   "cell_type": "code",
   "execution_count": 150,
   "metadata": {
    "ExecuteTime": {
     "end_time": "2021-09-22T06:46:45.231446Z",
     "start_time": "2021-09-22T06:46:45.109806Z"
    }
   },
   "outputs": [
    {
     "data": {
      "text/plain": [
       "[<matplotlib.lines.Line2D at 0x20b968ddcc8>]"
      ]
     },
     "execution_count": 150,
     "metadata": {},
     "output_type": "execute_result"
    },
    {
     "data": {
      "image/png": "[encoded data removed]",
      "text/plain": [
       "<Figure size 432x288 with 1 Axes>"
      ]
     },
     "metadata": {
      "needs_background": "light"
     },
     "output_type": "display_data"
    }
   ],
   "source": [
    "plt.plot(epochs,losses)"
   ]
  },
  {
   "cell_type": "code",
   "execution_count": 151,
   "metadata": {
    "ExecuteTime": {
     "end_time": "2021-09-22T06:46:51.334509Z",
     "start_time": "2021-09-22T06:46:51.315593Z"
    }
   },
   "outputs": [],
   "source": [
    "torch.save(t2v.state_dict(),'trained_embeddings/timetovec.pt')"
   ]
  },
  {
   "cell_type": "code",
   "execution_count": 5,
   "metadata": {
    "ExecuteTime": {
     "end_time": "2021-09-22T05:07:17.016987Z",
     "start_time": "2021-09-22T05:07:16.870378Z"
    }
   },
   "outputs": [
    {
     "data": {
      "text/plain": [
       "(0.0, 200.0)"
      ]
     },
     "execution_count": 5,
     "metadata": {},
     "output_type": "execute_result"
    },
    {
     "data": {
      "image/png": "[encoded data removed]",
      "text/plain": [
       "<Figure size 288x288 with 1 Axes>"
      ]
     },
     "metadata": {
      "needs_background": "light"
     },
     "output_type": "display_data"
    }
   ],
   "source": [
    "times = torch.arange(0,200,1.0).unsqueeze(0)\n"
   ]
  },
  {
   "cell_type": "code",
   "execution_count": 22,
   "metadata": {
    "ExecuteTime": {
     "end_time": "2021-09-22T05:11:12.299295Z",
     "start_time": "2021-09-22T05:11:12.029460Z"
    }
   },
   "outputs": [
    {
     "data": {
      "text/plain": [
       "(0.0, 5.0)"
      ]
     },
     "execution_count": 22,
     "metadata": {},
     "output_type": "execute_result"
    },
    {
     "data": {
      "image/png": "[encoded data removed]",
      "text/plain": [
       "<Figure size 288x288 with 1 Axes>"
      ]
     },
     "metadata": {
      "needs_background": "light"
     },
     "output_type": "display_data"
    }
   ],
   "source": [
    "\n",
    "embeddings =   t2v(None,times)\n",
    "s = torch.abs(embeddings[0] - embeddings[0][0]).sum(-1).detach()\n",
    "d = times[0] \n",
    "\n",
    "\n",
    "fig, ax1 = plt.subplots(1, 1,figsize=(4,4))\n",
    "ax1.plot(d,s)\n",
    "ax1.set_xlim(0, 5)\n",
    "ax1.set_ylim(0, 5)"
   ]
  },
  {
   "cell_type": "markdown",
   "metadata": {},
   "source": [
    "## Intensity + Kernel Gate"
   ]
  },
  {
   "cell_type": "code",
   "execution_count": 5,
   "metadata": {
    "ExecuteTime": {
     "end_time": "2021-10-04T00:59:30.027561Z",
     "start_time": "2021-10-04T00:59:29.849035Z"
    }
   },
   "outputs": [
    {
     "ename": "NameError",
     "evalue": "name 'batch_seq_types' is not defined",
     "output_type": "error",
     "traceback": [
      "\u001b[1;31m---------------------------------------------------------------------------\u001b[0m",
      "\u001b[1;31mNameError\u001b[0m                                 Traceback (most recent call last)",
      "\u001b[1;32m<ipython-input-5-c2a12171c791>\u001b[0m in \u001b[0;36m<module>\u001b[1;34m\u001b[0m\n\u001b[1;32m----> 1\u001b[1;33m \u001b[0msahp\u001b[0m\u001b[1;33m.\u001b[0m\u001b[0mone_hot_embedding\u001b[0m\u001b[1;33m(\u001b[0m\u001b[0mbatch_seq_types\u001b[0m\u001b[1;33m,\u001b[0m \u001b[0mmodel\u001b[0m\u001b[1;33m.\u001b[0m\u001b[0minput_size\u001b[0m\u001b[1;33m)\u001b[0m\u001b[1;33m\u001b[0m\u001b[1;33m\u001b[0m\u001b[0m\n\u001b[0m",
      "\u001b[1;31mNameError\u001b[0m: name 'batch_seq_types' is not defined"
     ]
    }
   ],
   "source": [
    "sahp.one_hot_embedding(batch_seq_types, model.input_size)"
   ]
  },
  {
   "cell_type": "code",
   "execution_count": null,
   "metadata": {},
   "outputs": [],
   "source": []
  }
 ],
 "metadata": {
  "kernelspec": {
   "display_name": "Python 3",
   "language": "python",
   "name": "python3"
  },
  "language_info": {
   "codemirror_mode": {
    "name": "ipython",
    "version": 3
   },
   "file_extension": ".py",
   "mimetype": "text/x-python",
   "name": "python",
   "nbconvert_exporter": "python",
   "pygments_lexer": "ipython3",
   "version": "3.7.4"
  },
  "latex_envs": {
   "LaTeX_envs_menu_present": true,
   "autoclose": false,
   "autocomplete": true,
   "bibliofile": "biblio.bib",
   "cite_by": "apalike",
   "current_citInitial": 1,
   "eqLabelWithNumbers": true,
   "eqNumInitial": 1,
   "hotkeys": {
    "equation": "Ctrl-E",
    "itemize": "Ctrl-I"
   },
   "labels_anchors": false,
   "latex_user_defs": false,
   "report_style_numbering": false,
   "user_envs_cfg": false
  },
  "toc": {
   "base_numbering": 1,
   "nav_menu": {},
   "number_sections": true,
   "sideBar": true,
   "skip_h1_title": false,
   "title_cell": "Table of Contents",
   "title_sidebar": "Contents",
   "toc_cell": false,
   "toc_position": {
    "height": "calc(100% - 180px)",
    "left": "10px",
    "top": "150px",
    "width": "303.825px"
   },
   "toc_section_display": true,
   "toc_window_display": true
  }
 },
 "nbformat": 4,
 "nbformat_minor": 2
}
