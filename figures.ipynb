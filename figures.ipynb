{
 "cells": [
  {
   "cell_type": "code",
   "execution_count": 1,
   "metadata": {
    "ExecuteTime": {
     "end_time": "2022-05-12T04:01:54.379905Z",
     "start_time": "2022-05-12T04:01:52.913050Z"
    }
   },
   "outputs": [
    {
     "ename": "ModuleNotFoundError",
     "evalue": "No module named 'models.gated_tpp'",
     "output_type": "error",
     "traceback": [
      "\u001b[1;31m---------------------------------------------------------------------------\u001b[0m",
      "\u001b[1;31mModuleNotFoundError\u001b[0m                       Traceback (most recent call last)",
      "\u001b[1;32m<ipython-input-1-84b8841979d9>\u001b[0m in \u001b[0;36m<module>\u001b[1;34m\u001b[0m\n\u001b[0;32m     12\u001b[0m \u001b[1;32mfrom\u001b[0m \u001b[0mtqdm\u001b[0m \u001b[1;32mimport\u001b[0m \u001b[0mtqdm\u001b[0m\u001b[1;33m\u001b[0m\u001b[1;33m\u001b[0m\u001b[0m\n\u001b[0;32m     13\u001b[0m \u001b[1;32mimport\u001b[0m \u001b[0mrandom\u001b[0m\u001b[1;33m\u001b[0m\u001b[1;33m\u001b[0m\u001b[0m\n\u001b[1;32m---> 14\u001b[1;33m \u001b[1;32mfrom\u001b[0m \u001b[0mmodels\u001b[0m\u001b[1;33m.\u001b[0m\u001b[0mgated_tpp\u001b[0m \u001b[1;32mimport\u001b[0m \u001b[1;33m*\u001b[0m\u001b[1;33m\u001b[0m\u001b[1;33m\u001b[0m\u001b[0m\n\u001b[0m\u001b[0;32m     15\u001b[0m \u001b[1;32mimport\u001b[0m \u001b[0mtorch\u001b[0m\u001b[1;33m.\u001b[0m\u001b[0mnn\u001b[0m\u001b[1;33m.\u001b[0m\u001b[0mfunctional\u001b[0m \u001b[1;32mas\u001b[0m \u001b[0mF\u001b[0m\u001b[1;33m\u001b[0m\u001b[1;33m\u001b[0m\u001b[0m\n\u001b[0;32m     16\u001b[0m \u001b[1;32mimport\u001b[0m \u001b[0mseaborn\u001b[0m \u001b[1;32mas\u001b[0m \u001b[0msns\u001b[0m\u001b[1;33m\u001b[0m\u001b[1;33m\u001b[0m\u001b[0m\n",
      "\u001b[1;31mModuleNotFoundError\u001b[0m: No module named 'models.gated_tpp'"
     ]
    }
   ],
   "source": [
    "import argparse\n",
    "import numpy as np\n",
    "import pickle\n",
    "import time\n",
    "import torch\n",
    "import torch.nn as nn\n",
    "import torch.optim as optim\n",
    "from datetime import datetime\n",
    "import pandas as pd\n",
    "\n",
    "from dataset import get_dataloader\n",
    "from tqdm import tqdm\n",
    "import random\n",
    "from models.gated_tpp import *\n",
    "import torch.nn.functional as F\n",
    "import seaborn as sns\n",
    "import matplotlib.pyplot as plt\n",
    "from matplotlib import ticker\n",
    "\n",
    "def triggering_kernel(t,n_kernel = 0):\n",
    "    \n",
    "    if n_kernel ==0:\n",
    "        return 0.2*(0.5+t)**(-1.3)\n",
    "    elif n_kernel ==1:\n",
    "        return 0.03*np.exp(-0.3*t)\n",
    "    elif n_kernel ==2:\n",
    "        return 0.05*np.exp(-0.2*t) + 0.16*np.exp(-0.8*t)\n",
    "    else:\n",
    "        t_c = np.copy(t)\n",
    "        t_c[t_c>4] =0\n",
    "        sin = np.sin(t_c)/8\n",
    "        sin[sin <0] =0\n",
    "        return sin\n",
    "\n",
    "def magic_kernel(x, sigma=1, lengthscale=5, s=1):\n",
    "    \n",
    "    d = x\n",
    "    k1 = (1 + torch.exp(-d))**(-s)  ## Took out 2\n",
    "    alpha = 1\n",
    "    k2 =  (1 + (d ** 2) / (2*alpha * lengthscale ** 2)) ** (-alpha) ## Added 2\n",
    "    # k2 =  (1 + (d) / (alpha * lengthscale ** 2)) ** (-alpha)\n",
    "\n",
    "    scores = (sigma)*(k1)*(k2)\n",
    "\n",
    "\n",
    "    return scores   \n"
   ]
  },
  {
   "cell_type": "code",
   "execution_count": 27,
   "metadata": {
    "ExecuteTime": {
     "end_time": "2022-05-09T09:35:19.842703Z",
     "start_time": "2022-05-09T09:35:19.805801Z"
    }
   },
   "outputs": [
    {
     "data": {
      "text/html": [
       "<div>\n",
       "<style scoped>\n",
       "    .dataframe tbody tr th:only-of-type {\n",
       "        vertical-align: middle;\n",
       "    }\n",
       "\n",
       "    .dataframe tbody tr th {\n",
       "        vertical-align: top;\n",
       "    }\n",
       "\n",
       "    .dataframe thead th {\n",
       "        text-align: right;\n",
       "    }\n",
       "</style>\n",
       "<table border=\"1\" class=\"dataframe\">\n",
       "  <thead>\n",
       "    <tr style=\"text-align: right;\">\n",
       "      <th></th>\n",
       "      <th>Model_ID</th>\n",
       "      <th>L11</th>\n",
       "      <th>L21</th>\n",
       "      <th>L12</th>\n",
       "      <th>L22</th>\n",
       "      <th>Sigma 11</th>\n",
       "      <th>Sigma 21</th>\n",
       "      <th>Sigma 12</th>\n",
       "      <th>Sigma 21.1</th>\n",
       "      <th>s 11</th>\n",
       "      <th>s12</th>\n",
       "      <th>s21</th>\n",
       "      <th>s22</th>\n",
       "      <th>beta_1</th>\n",
       "      <th>beta_2</th>\n",
       "      <th>beta_3</th>\n",
       "    </tr>\n",
       "  </thead>\n",
       "  <tbody>\n",
       "    <tr>\n",
       "      <td>51</td>\n",
       "      <td>e7fbcb7633</td>\n",
       "      <td>0.666146</td>\n",
       "      <td>0.862110</td>\n",
       "      <td>0.386061</td>\n",
       "      <td>0.511707</td>\n",
       "      <td>0.521843</td>\n",
       "      <td>0.362078</td>\n",
       "      <td>0.107848</td>\n",
       "      <td>0.070985</td>\n",
       "      <td>1.702722</td>\n",
       "      <td>2.120452</td>\n",
       "      <td>3.563339e+00</td>\n",
       "      <td>4.043324</td>\n",
       "      <td>0.6</td>\n",
       "      <td>1.0</td>\n",
       "      <td>0.8</td>\n",
       "    </tr>\n",
       "    <tr>\n",
       "      <td>52</td>\n",
       "      <td>3b9cac209c</td>\n",
       "      <td>0.903901</td>\n",
       "      <td>1.281981</td>\n",
       "      <td>0.341032</td>\n",
       "      <td>0.518804</td>\n",
       "      <td>1.136001</td>\n",
       "      <td>0.790626</td>\n",
       "      <td>0.243315</td>\n",
       "      <td>0.155292</td>\n",
       "      <td>1.302129</td>\n",
       "      <td>1.717279</td>\n",
       "      <td>3.792632e+00</td>\n",
       "      <td>4.317887</td>\n",
       "      <td>0.6</td>\n",
       "      <td>1.0</td>\n",
       "      <td>0.6</td>\n",
       "    </tr>\n",
       "    <tr>\n",
       "      <td>53</td>\n",
       "      <td>ef202e83f8</td>\n",
       "      <td>0.890178</td>\n",
       "      <td>1.246511</td>\n",
       "      <td>0.311312</td>\n",
       "      <td>0.467353</td>\n",
       "      <td>1.387923</td>\n",
       "      <td>1.006736</td>\n",
       "      <td>0.434830</td>\n",
       "      <td>0.294495</td>\n",
       "      <td>1.369200</td>\n",
       "      <td>1.876314</td>\n",
       "      <td>4.192675e+00</td>\n",
       "      <td>4.819877</td>\n",
       "      <td>0.6</td>\n",
       "      <td>1.0</td>\n",
       "      <td>0.5</td>\n",
       "    </tr>\n",
       "    <tr>\n",
       "      <td>54</td>\n",
       "      <td>65aaa709c2</td>\n",
       "      <td>1.605641</td>\n",
       "      <td>1.493792</td>\n",
       "      <td>1.864251</td>\n",
       "      <td>1.739891</td>\n",
       "      <td>0.342485</td>\n",
       "      <td>0.707486</td>\n",
       "      <td>0.361914</td>\n",
       "      <td>0.741218</td>\n",
       "      <td>2.570319</td>\n",
       "      <td>2.511505</td>\n",
       "      <td>2.011961e+00</td>\n",
       "      <td>1.962445</td>\n",
       "      <td>0.4</td>\n",
       "      <td>0.3</td>\n",
       "      <td>1.0</td>\n",
       "    </tr>\n",
       "    <tr>\n",
       "      <td>55</td>\n",
       "      <td>83d9c900fb</td>\n",
       "      <td>1.520247</td>\n",
       "      <td>2.386564</td>\n",
       "      <td>1.795953</td>\n",
       "      <td>2.751986</td>\n",
       "      <td>1.311028</td>\n",
       "      <td>1.744399</td>\n",
       "      <td>0.285732</td>\n",
       "      <td>0.455109</td>\n",
       "      <td>1.755395</td>\n",
       "      <td>2.413724</td>\n",
       "      <td>2.114812e+00</td>\n",
       "      <td>2.860086</td>\n",
       "      <td>0.4</td>\n",
       "      <td>0.3</td>\n",
       "      <td>1.0</td>\n",
       "    </tr>\n",
       "    <tr>\n",
       "      <td>56</td>\n",
       "      <td>fc118a6840</td>\n",
       "      <td>0.969602</td>\n",
       "      <td>0.642567</td>\n",
       "      <td>0.260298</td>\n",
       "      <td>0.164185</td>\n",
       "      <td>2.221107</td>\n",
       "      <td>6.465029</td>\n",
       "      <td>0.003814</td>\n",
       "      <td>0.260984</td>\n",
       "      <td>0.042054</td>\n",
       "      <td>3.094671</td>\n",
       "      <td>1.738334e-01</td>\n",
       "      <td>6.695501</td>\n",
       "      <td>0.4</td>\n",
       "      <td>0.3</td>\n",
       "      <td>1.0</td>\n",
       "    </tr>\n",
       "    <tr>\n",
       "      <td>57</td>\n",
       "      <td>2383f7d51d</td>\n",
       "      <td>0.863700</td>\n",
       "      <td>0.684729</td>\n",
       "      <td>0.506632</td>\n",
       "      <td>0.395751</td>\n",
       "      <td>3.310601</td>\n",
       "      <td>6.993940</td>\n",
       "      <td>0.055517</td>\n",
       "      <td>1.210362</td>\n",
       "      <td>0.093143</td>\n",
       "      <td>3.000814</td>\n",
       "      <td>1.854754e-01</td>\n",
       "      <td>4.577819</td>\n",
       "      <td>0.4</td>\n",
       "      <td>0.3</td>\n",
       "      <td>1.0</td>\n",
       "    </tr>\n",
       "    <tr>\n",
       "      <td>58</td>\n",
       "      <td>e7ec12e23d</td>\n",
       "      <td>0.932576</td>\n",
       "      <td>5.952375</td>\n",
       "      <td>0.257166</td>\n",
       "      <td>3.023897</td>\n",
       "      <td>0.695924</td>\n",
       "      <td>0.034664</td>\n",
       "      <td>3.387331</td>\n",
       "      <td>0.694512</td>\n",
       "      <td>0.187886</td>\n",
       "      <td>0.050451</td>\n",
       "      <td>6.908724e-01</td>\n",
       "      <td>0.196028</td>\n",
       "      <td>0.4</td>\n",
       "      <td>0.3</td>\n",
       "      <td>1.0</td>\n",
       "    </tr>\n",
       "    <tr>\n",
       "      <td>59</td>\n",
       "      <td>09735dfae1</td>\n",
       "      <td>0.718933</td>\n",
       "      <td>0.524893</td>\n",
       "      <td>0.364017</td>\n",
       "      <td>0.260684</td>\n",
       "      <td>3.041941</td>\n",
       "      <td>7.637842</td>\n",
       "      <td>0.037213</td>\n",
       "      <td>1.597934</td>\n",
       "      <td>0.008122</td>\n",
       "      <td>2.627335</td>\n",
       "      <td>1.957383e-02</td>\n",
       "      <td>4.532781</td>\n",
       "      <td>0.4</td>\n",
       "      <td>0.3</td>\n",
       "      <td>1.0</td>\n",
       "    </tr>\n",
       "    <tr>\n",
       "      <td>60</td>\n",
       "      <td>c3ec6babaa</td>\n",
       "      <td>2.570659</td>\n",
       "      <td>208.529160</td>\n",
       "      <td>0.709739</td>\n",
       "      <td>204.280334</td>\n",
       "      <td>0.676265</td>\n",
       "      <td>0.024413</td>\n",
       "      <td>0.904707</td>\n",
       "      <td>0.036927</td>\n",
       "      <td>0.000017</td>\n",
       "      <td>0.000503</td>\n",
       "      <td>4.149618e-08</td>\n",
       "      <td>0.000001</td>\n",
       "      <td>0.4</td>\n",
       "      <td>0.3</td>\n",
       "      <td>1.0</td>\n",
       "    </tr>\n",
       "    <tr>\n",
       "      <td>61</td>\n",
       "      <td>9843b9d844</td>\n",
       "      <td>0.697712</td>\n",
       "      <td>0.544362</td>\n",
       "      <td>0.380004</td>\n",
       "      <td>0.292356</td>\n",
       "      <td>3.152362</td>\n",
       "      <td>7.271940</td>\n",
       "      <td>0.042799</td>\n",
       "      <td>1.337355</td>\n",
       "      <td>0.010040</td>\n",
       "      <td>2.269452</td>\n",
       "      <td>2.803736e-02</td>\n",
       "      <td>4.389563</td>\n",
       "      <td>0.4</td>\n",
       "      <td>0.3</td>\n",
       "      <td>1.0</td>\n",
       "    </tr>\n",
       "    <tr>\n",
       "      <td>62</td>\n",
       "      <td>e3f53c9268</td>\n",
       "      <td>1.246328</td>\n",
       "      <td>2.092988</td>\n",
       "      <td>2.695167</td>\n",
       "      <td>3.988255</td>\n",
       "      <td>1.622440</td>\n",
       "      <td>3.175560</td>\n",
       "      <td>0.147735</td>\n",
       "      <td>0.640990</td>\n",
       "      <td>0.744690</td>\n",
       "      <td>2.972302</td>\n",
       "      <td>3.914872e-01</td>\n",
       "      <td>1.800956</td>\n",
       "      <td>0.4</td>\n",
       "      <td>0.3</td>\n",
       "      <td>1.0</td>\n",
       "    </tr>\n",
       "  </tbody>\n",
       "</table>\n",
       "</div>"
      ],
      "text/plain": [
       "      Model_ID       L11         L21       L12         L22  Sigma 11  \\\n",
       "51  e7fbcb7633  0.666146    0.862110  0.386061    0.511707  0.521843   \n",
       "52  3b9cac209c  0.903901    1.281981  0.341032    0.518804  1.136001   \n",
       "53  ef202e83f8  0.890178    1.246511  0.311312    0.467353  1.387923   \n",
       "54  65aaa709c2  1.605641    1.493792  1.864251    1.739891  0.342485   \n",
       "55  83d9c900fb  1.520247    2.386564  1.795953    2.751986  1.311028   \n",
       "56  fc118a6840  0.969602    0.642567  0.260298    0.164185  2.221107   \n",
       "57  2383f7d51d  0.863700    0.684729  0.506632    0.395751  3.310601   \n",
       "58  e7ec12e23d  0.932576    5.952375  0.257166    3.023897  0.695924   \n",
       "59  09735dfae1  0.718933    0.524893  0.364017    0.260684  3.041941   \n",
       "60  c3ec6babaa  2.570659  208.529160  0.709739  204.280334  0.676265   \n",
       "61  9843b9d844  0.697712    0.544362  0.380004    0.292356  3.152362   \n",
       "62  e3f53c9268  1.246328    2.092988  2.695167    3.988255  1.622440   \n",
       "\n",
       "    Sigma 21  Sigma 12  Sigma 21.1      s 11       s12           s21  \\\n",
       "51  0.362078  0.107848    0.070985  1.702722  2.120452  3.563339e+00   \n",
       "52  0.790626  0.243315    0.155292  1.302129  1.717279  3.792632e+00   \n",
       "53  1.006736  0.434830    0.294495  1.369200  1.876314  4.192675e+00   \n",
       "54  0.707486  0.361914    0.741218  2.570319  2.511505  2.011961e+00   \n",
       "55  1.744399  0.285732    0.455109  1.755395  2.413724  2.114812e+00   \n",
       "56  6.465029  0.003814    0.260984  0.042054  3.094671  1.738334e-01   \n",
       "57  6.993940  0.055517    1.210362  0.093143  3.000814  1.854754e-01   \n",
       "58  0.034664  3.387331    0.694512  0.187886  0.050451  6.908724e-01   \n",
       "59  7.637842  0.037213    1.597934  0.008122  2.627335  1.957383e-02   \n",
       "60  0.024413  0.904707    0.036927  0.000017  0.000503  4.149618e-08   \n",
       "61  7.271940  0.042799    1.337355  0.010040  2.269452  2.803736e-02   \n",
       "62  3.175560  0.147735    0.640990  0.744690  2.972302  3.914872e-01   \n",
       "\n",
       "         s22  beta_1  beta_2  beta_3  \n",
       "51  4.043324     0.6     1.0     0.8  \n",
       "52  4.317887     0.6     1.0     0.6  \n",
       "53  4.819877     0.6     1.0     0.5  \n",
       "54  1.962445     0.4     0.3     1.0  \n",
       "55  2.860086     0.4     0.3     1.0  \n",
       "56  6.695501     0.4     0.3     1.0  \n",
       "57  4.577819     0.4     0.3     1.0  \n",
       "58  0.196028     0.4     0.3     1.0  \n",
       "59  4.532781     0.4     0.3     1.0  \n",
       "60  0.000001     0.4     0.3     1.0  \n",
       "61  4.389563     0.4     0.3     1.0  \n",
       "62  1.800956     0.4     0.3     1.0  "
      ]
     },
     "execution_count": 27,
     "metadata": {},
     "output_type": "execute_result"
    }
   ],
   "source": [
    "params = pd.read_csv('learned_params_2.csv')\n",
    "params.tail(12)"
   ]
  },
  {
   "cell_type": "code",
   "execution_count": 29,
   "metadata": {
    "ExecuteTime": {
     "end_time": "2022-05-09T09:36:15.332401Z",
     "start_time": "2022-05-09T09:36:14.787857Z"
    }
   },
   "outputs": [
    {
     "data": {
      "text/plain": [
       "Text(0, 0.5, '$\\\\mathregular{\\\\phi_{22}}$')"
      ]
     },
     "execution_count": 29,
     "metadata": {},
     "output_type": "execute_result"
    },
    {
     "data": {
      "image/png": "[encoded data removed]",
      "text/plain": [
       "<Figure size 360x648 with 4 Axes>"
      ]
     },
     "metadata": {
      "needs_background": "light"
     },
     "output_type": "display_data"
    }
   ],
   "source": [
    "model_id  = '9843b9d844'\n",
    "\n",
    "# model_id  = '2383f7d51d'\n",
    "\n",
    "lengtscales = params.loc[params.Model_ID ==model_id].values[0][1:5]\n",
    "sigmas = params.loc[params.Model_ID ==model_id].values[0][5:9]\n",
    "ss = params.loc[params.Model_ID ==model_id].values[0][9:13]\n",
    "# ss = params.loc[params.Model_ID ==model_id].values[0][13:17]\n",
    "\n",
    "all_times = np.load('other_model_times.npy')\n",
    "all_results = np.load('other_model_kernels.npy')\n",
    "\n",
    "fig, axes = plt.subplots(4, 1,figsize=(5,9),sharex=True,sharey=False)\n",
    "axes = axes.flatten()\n",
    "plot_times = torch.arange(0,200,0.3)\n",
    "names = ['LogNormal-Attention','SAHP','THP']\n",
    "plot_index = 0\n",
    "for i in range(len(axes)):\n",
    "    \n",
    "    \n",
    "    values = magic_kernel(plot_times,sigma = sigmas[plot_index], lengthscale = lengtscales[plot_index], s = ss[plot_index])\n",
    "    values = (values - values.min())/(values.max()-values.min())\n",
    "\n",
    "    real_values = triggering_kernel(plot_times,plot_index)\n",
    "    real_values = (real_values - real_values.min())/(real_values.max()-real_values.min())\n",
    "    \n",
    "    axes[i].plot(plot_times,real_values,linewidth=4,c ='gray',label ='Actual Kernel')\n",
    "    axes[i].plot(plot_times,values,linewidth=3,c ='red',label ='Sigmoid Gated Kernel')\n",
    "\n",
    "    axes[i].set_xlim(0,20)\n",
    "    \n",
    "\n",
    "    for j in range(3):\n",
    "\n",
    "        times =all_times[j][plot_index]\n",
    "        kernels = all_results[j][plot_index]\n",
    "        kernels = (kernels - kernels.min())/(kernels.max()-kernels.min())\n",
    "        axes[i].plot(times,kernels,label = names[j])\n",
    "#         axes[i].set_xlim(0,20)\n",
    "        \n",
    "#     axes[i].plot(plot_times,values,linewidth=4,c ='red',label ='Sigmoid Gated Kernel')\n",
    "#     axes[i].set_xlabel('t',size = 15)\n",
    "\n",
    "    plot_index+=1\n",
    "\n",
    "axes[0].legend(prop={'size': 7})\n",
    "axes[0].set_ylabel('$\\mathregular{\\phi_{11}}$',size = 15)\n",
    "\n",
    "axes[1].set_ylabel('$\\mathregular{\\phi_{12}}$',size = 15)\n",
    "axes[2].set_ylabel('$\\mathregular{\\phi_{21}}$',size = 15)\n",
    "axes[3].set_ylabel('$\\mathregular{\\phi_{22}}$',size = 15)"
   ]
  },
  {
   "cell_type": "markdown",
   "metadata": {},
   "source": [
    "## Plotting the Triggering Kernels"
   ]
  },
  {
   "cell_type": "code",
   "execution_count": 6,
   "metadata": {
    "ExecuteTime": {
     "end_time": "2022-05-09T09:16:31.365465Z",
     "start_time": "2022-05-09T09:16:31.067245Z"
    }
   },
   "outputs": [
    {
     "ename": "TypeError",
     "evalue": "magic_kernel() got an unexpected keyword argument 'alpha'",
     "output_type": "error",
     "traceback": [
      "\u001b[1;31m---------------------------------------------------------------------------\u001b[0m",
      "\u001b[1;31mTypeError\u001b[0m                                 Traceback (most recent call last)",
      "\u001b[1;32m<ipython-input-6-f522726c6628>\u001b[0m in \u001b[0;36m<module>\u001b[1;34m\u001b[0m\n\u001b[0;32m     10\u001b[0m \u001b[1;33m\u001b[0m\u001b[0m\n\u001b[0;32m     11\u001b[0m \u001b[1;33m\u001b[0m\u001b[0m\n\u001b[1;32m---> 12\u001b[1;33m     \u001b[0mvalues\u001b[0m \u001b[1;33m=\u001b[0m \u001b[0mmagic_kernel\u001b[0m\u001b[1;33m(\u001b[0m\u001b[0mplot_times\u001b[0m\u001b[1;33m,\u001b[0m\u001b[0msigma\u001b[0m \u001b[1;33m=\u001b[0m \u001b[0msigmas\u001b[0m\u001b[1;33m[\u001b[0m\u001b[0mplot_index\u001b[0m\u001b[1;33m]\u001b[0m\u001b[1;33m,\u001b[0m \u001b[0mlengthscale\u001b[0m \u001b[1;33m=\u001b[0m \u001b[0mlengtscales\u001b[0m\u001b[1;33m[\u001b[0m\u001b[0mplot_index\u001b[0m\u001b[1;33m]\u001b[0m\u001b[1;33m,\u001b[0m \u001b[0malpha\u001b[0m \u001b[1;33m=\u001b[0m \u001b[0malphas\u001b[0m\u001b[1;33m[\u001b[0m\u001b[0mplot_index\u001b[0m\u001b[1;33m]\u001b[0m\u001b[1;33m)\u001b[0m\u001b[1;33m\u001b[0m\u001b[1;33m\u001b[0m\u001b[0m\n\u001b[0m\u001b[0;32m     13\u001b[0m     \u001b[0mvalues\u001b[0m \u001b[1;33m=\u001b[0m \u001b[1;33m(\u001b[0m\u001b[0mvalues\u001b[0m \u001b[1;33m-\u001b[0m \u001b[0mvalues\u001b[0m\u001b[1;33m.\u001b[0m\u001b[0mmin\u001b[0m\u001b[1;33m(\u001b[0m\u001b[1;33m)\u001b[0m\u001b[1;33m)\u001b[0m\u001b[1;33m/\u001b[0m\u001b[1;33m(\u001b[0m\u001b[0mvalues\u001b[0m\u001b[1;33m.\u001b[0m\u001b[0mmax\u001b[0m\u001b[1;33m(\u001b[0m\u001b[1;33m)\u001b[0m\u001b[1;33m-\u001b[0m\u001b[0mvalues\u001b[0m\u001b[1;33m.\u001b[0m\u001b[0mmin\u001b[0m\u001b[1;33m(\u001b[0m\u001b[1;33m)\u001b[0m\u001b[1;33m)\u001b[0m\u001b[1;33m\u001b[0m\u001b[1;33m\u001b[0m\u001b[0m\n\u001b[0;32m     14\u001b[0m \u001b[1;33m\u001b[0m\u001b[0m\n",
      "\u001b[1;31mTypeError\u001b[0m: magic_kernel() got an unexpected keyword argument 'alpha'"
     ]
    },
    {
     "data": {
      "image/png": "[encoded data removed]",
      "text/plain": [
       "<Figure size 360x648 with 4 Axes>"
      ]
     },
     "metadata": {
      "needs_background": "light"
     },
     "output_type": "display_data"
    }
   ],
   "source": [
    "all_times = np.load('other_model_times.npy')\n",
    "all_results = np.load('other_model_kernels.npy')\n",
    "\n",
    "fig, axes = plt.subplots(4, 1,figsize=(5,9),sharex=True,sharey=False)\n",
    "axes = axes.flatten()\n",
    "plot_times = torch.arange(0,200,0.3)\n",
    "names = ['LogNormal-Attention','SAHP','THP']\n",
    "plot_index = 0\n",
    "for i in range(len(axes)):\n",
    "    \n",
    "    \n",
    "    values = magic_kernel(plot_times,sigma = sigmas[plot_index], lengthscale = lengtscales[plot_index], alpha = alphas[plot_index])\n",
    "    values = (values - values.min())/(values.max()-values.min())\n",
    "\n",
    "    real_values = triggering_kernel(plot_times,plot_index)\n",
    "    real_values = (real_values - real_values.min())/(real_values.max()-real_values.min())\n",
    "    \n",
    "    axes[i].plot(plot_times,real_values,linewidth=4,c ='gray',label ='Actual Kernel')\n",
    "    axes[i].plot(plot_times,values,linewidth=3,c ='red',label ='Sigmoid Gated Kernel')\n",
    "\n",
    "    axes[i].set_xlim(0,20)\n",
    "    \n",
    "\n",
    "    for j in range(3):\n",
    "\n",
    "        times =all_times[j][plot_index]\n",
    "        kernels = all_results[j][plot_index]\n",
    "        kernels = (kernels - kernels.min())/(kernels.max()-kernels.min())\n",
    "        axes[i].plot(times,kernels,label = names[j])\n",
    "#         axes[i].set_xlim(0,20)\n",
    "        \n",
    "#     axes[i].plot(plot_times,values,linewidth=4,c ='red',label ='Sigmoid Gated Kernel')\n",
    "#     axes[i].set_xlabel('t',size = 15)\n",
    "\n",
    "    plot_index+=1\n",
    "\n",
    "axes[0].legend(prop={'size': 7})\n",
    "axes[0].set_ylabel('$\\mathregular{\\phi_{11}}$',size = 15)\n",
    "\n",
    "axes[1].set_ylabel('$\\mathregular{\\phi_{12}}$',size = 15)\n",
    "axes[2].set_ylabel('$\\mathregular{\\phi_{21}}$',size = 15)\n",
    "axes[3].set_ylabel('$\\mathregular{\\phi_{22}}$',size = 15)"
   ]
  },
  {
   "cell_type": "code",
   "execution_count": 5,
   "metadata": {
    "ExecuteTime": {
     "end_time": "2022-05-09T09:16:25.602743Z",
     "start_time": "2022-05-09T09:16:25.136527Z"
    }
   },
   "outputs": [
    {
     "data": {
      "image/png": "[encoded data removed]",
      "text/plain": [
       "<Figure size 1080x504 with 4 Axes>"
      ]
     },
     "metadata": {
      "needs_background": "light"
     },
     "output_type": "display_data"
    }
   ],
   "source": [
    "model_id  = '3b9cac209c'\n",
    "lengtscales = params.loc[params.Model_ID ==model_id].values[0][1:5]\n",
    "sigmas = params.loc[params.Model_ID ==model_id].values[0][5:9]\n",
    "alphas = params.loc[params.Model_ID ==model_id].values[0][9:13]\n",
    "# ss = params.loc[params.Model_ID ==model_id].values[0][13:17]\n",
    "\n",
    "t =torch.arange(0,200,0.1)+0.000001\n",
    "\n",
    "\n",
    "fig, axes = plt.subplots(2, 2,figsize=(15,7),sharex=True)\n",
    "axes = axes.flatten()\n",
    "for i in range(len(axes)):\n",
    "\n",
    "#     values = magic_kernel(t,sigma = sigmas[i], lengthscale = lengtscales[i], alpha = alphas[i])\n",
    "#     values = (values - values.min())/(values.max()-values.min())\n",
    "    real_values = triggering_kernel(t,i)\n",
    "#     real_values = (real_values - real_values.min())/(real_values.max()-real_values.min())\n",
    "\n",
    "#     axes[i].plot(t,values)\n",
    "    axes[i].plot(t,real_values)\n",
    "    axes[i].set_xlim(0, 10)\n",
    "    axes[i].set_ylim(0, 0.5)    \n",
    "    axes[i].set_xlabel('t',size = 15)\n",
    "    \n",
    "axes[0].set_ylabel('$\\mathregular{\\phi_{11}}$',size = 22)\n",
    "axes[1].set_ylabel('$\\mathregular{\\phi_{12}}$',size = 22)\n",
    "axes[2].set_ylabel('$\\mathregular{\\phi_{21}}$',size = 22)\n",
    "axes[3].set_ylabel('$\\mathregular{\\phi_{22}}$',size = 22)\n",
    "\n",
    "props = dict(boxstyle='square', facecolor='white', alpha=0.5)\n",
    "# axes[0].text(2,0.3,'$\\mathregular{\\phi(t) = 0.2(0.5+t)^{-1.3}}$',size = 20,bbox=props )\n",
    "# axes[1].text(2,0.3,'$\\mathregular{\\phi(t) = 0.03e^{-0.3t}}$',size = 20,bbox=props )\n",
    "# axes[2].text(2,0.3,'$\\mathregular{\\phi(t) = 0.05e^{-0.2t} +0.16e^{-0.8t}}$',size = 20,bbox=props )\n",
    "# axes[3].text(2,0.3,'$\\mathregular{\\phi(t) = max(0,sin(8/t))}$\\n for $\\mathregular{0 \\leq t \\leq 4}$',size = 20,bbox=props )"
   ]
  },
  {
   "cell_type": "code",
   "execution_count": 8,
   "metadata": {
    "ExecuteTime": {
     "end_time": "2022-05-09T09:16:45.289997Z",
     "start_time": "2022-05-09T09:16:45.261521Z"
    }
   },
   "outputs": [
    {
     "ename": "FileNotFoundError",
     "evalue": "[Errno 2] No such file or directory: 'sahp_kernels.npy'",
     "output_type": "error",
     "traceback": [
      "\u001b[1;31m---------------------------------------------------------------------------\u001b[0m",
      "\u001b[1;31mFileNotFoundError\u001b[0m                         Traceback (most recent call last)",
      "\u001b[1;32m<ipython-input-8-21e1fe38a741>\u001b[0m in \u001b[0;36m<module>\u001b[1;34m\u001b[0m\n\u001b[1;32m----> 1\u001b[1;33m \u001b[0msahp_kernel\u001b[0m \u001b[1;33m=\u001b[0m \u001b[0mnp\u001b[0m\u001b[1;33m.\u001b[0m\u001b[0mload\u001b[0m\u001b[1;33m(\u001b[0m\u001b[1;34m'sahp_kernels.npy'\u001b[0m\u001b[1;33m,\u001b[0m\u001b[0mallow_pickle\u001b[0m\u001b[1;33m=\u001b[0m\u001b[1;32mTrue\u001b[0m\u001b[1;33m)\u001b[0m\u001b[1;33m\u001b[0m\u001b[1;33m\u001b[0m\u001b[0m\n\u001b[0m\u001b[0;32m      2\u001b[0m \u001b[0mthp_kernel\u001b[0m \u001b[1;33m=\u001b[0m \u001b[0mnp\u001b[0m\u001b[1;33m.\u001b[0m\u001b[0mload\u001b[0m\u001b[1;33m(\u001b[0m\u001b[1;34m'thp_kernels.npy'\u001b[0m\u001b[1;33m,\u001b[0m\u001b[0mallow_pickle\u001b[0m\u001b[1;33m=\u001b[0m\u001b[1;32mTrue\u001b[0m\u001b[1;33m)\u001b[0m\u001b[1;33m\u001b[0m\u001b[1;33m\u001b[0m\u001b[0m\n\u001b[0;32m      3\u001b[0m \u001b[0mlognorm_kernel\u001b[0m \u001b[1;33m=\u001b[0m \u001b[0mnp\u001b[0m\u001b[1;33m.\u001b[0m\u001b[0mload\u001b[0m\u001b[1;33m(\u001b[0m\u001b[1;34m'attention_lognormal_kernel.npy'\u001b[0m\u001b[1;33m,\u001b[0m\u001b[0mallow_pickle\u001b[0m\u001b[1;33m=\u001b[0m\u001b[1;32mTrue\u001b[0m\u001b[1;33m)\u001b[0m\u001b[1;33m\u001b[0m\u001b[1;33m\u001b[0m\u001b[0m\n",
      "\u001b[1;32m~\\Anaconda3\\lib\\site-packages\\numpy\\lib\\npyio.py\u001b[0m in \u001b[0;36mload\u001b[1;34m(file, mmap_mode, allow_pickle, fix_imports, encoding)\u001b[0m\n\u001b[0;32m    420\u001b[0m         \u001b[0mown_fid\u001b[0m \u001b[1;33m=\u001b[0m \u001b[1;32mFalse\u001b[0m\u001b[1;33m\u001b[0m\u001b[1;33m\u001b[0m\u001b[0m\n\u001b[0;32m    421\u001b[0m     \u001b[1;32melse\u001b[0m\u001b[1;33m:\u001b[0m\u001b[1;33m\u001b[0m\u001b[1;33m\u001b[0m\u001b[0m\n\u001b[1;32m--> 422\u001b[1;33m         \u001b[0mfid\u001b[0m \u001b[1;33m=\u001b[0m \u001b[0mopen\u001b[0m\u001b[1;33m(\u001b[0m\u001b[0mos_fspath\u001b[0m\u001b[1;33m(\u001b[0m\u001b[0mfile\u001b[0m\u001b[1;33m)\u001b[0m\u001b[1;33m,\u001b[0m \u001b[1;34m\"rb\"\u001b[0m\u001b[1;33m)\u001b[0m\u001b[1;33m\u001b[0m\u001b[1;33m\u001b[0m\u001b[0m\n\u001b[0m\u001b[0;32m    423\u001b[0m         \u001b[0mown_fid\u001b[0m \u001b[1;33m=\u001b[0m \u001b[1;32mTrue\u001b[0m\u001b[1;33m\u001b[0m\u001b[1;33m\u001b[0m\u001b[0m\n\u001b[0;32m    424\u001b[0m \u001b[1;33m\u001b[0m\u001b[0m\n",
      "\u001b[1;31mFileNotFoundError\u001b[0m: [Errno 2] No such file or directory: 'sahp_kernels.npy'"
     ]
    }
   ],
   "source": [
    "sahp_kernel = np.load('sahp_kernels.npy',allow_pickle=True)\n",
    "thp_kernel = np.load('thp_kernels.npy',allow_pickle=True)\n",
    "lognorm_kernel = np.load('attention_lognormal_kernel.npy',allow_pickle=True)"
   ]
  },
  {
   "cell_type": "code",
   "execution_count": 7,
   "metadata": {
    "ExecuteTime": {
     "end_time": "2022-05-09T09:16:40.300258Z",
     "start_time": "2022-05-09T09:16:40.268138Z"
    }
   },
   "outputs": [
    {
     "ename": "NameError",
     "evalue": "name 'lognorm_kernel' is not defined",
     "output_type": "error",
     "traceback": [
      "\u001b[1;31m---------------------------------------------------------------------------\u001b[0m",
      "\u001b[1;31mNameError\u001b[0m                                 Traceback (most recent call last)",
      "\u001b[1;32m<ipython-input-7-ea9d9f3e365b>\u001b[0m in \u001b[0;36m<module>\u001b[1;34m\u001b[0m\n\u001b[0;32m     23\u001b[0m \u001b[1;33m\u001b[0m\u001b[0m\n\u001b[0;32m     24\u001b[0m \u001b[1;33m\u001b[0m\u001b[0m\n\u001b[1;32m---> 25\u001b[1;33m     \u001b[0mk_val\u001b[0m \u001b[1;33m=\u001b[0m \u001b[0mlognorm_kernel\u001b[0m\u001b[1;33m.\u001b[0m\u001b[0mitem\u001b[0m\u001b[1;33m(\u001b[0m\u001b[1;33m)\u001b[0m\u001b[1;33m[\u001b[0m\u001b[1;34m'scores'\u001b[0m\u001b[1;33m]\u001b[0m\u001b[1;33m[\u001b[0m\u001b[0mi\u001b[0m\u001b[1;33m]\u001b[0m\u001b[1;33m\u001b[0m\u001b[1;33m\u001b[0m\u001b[0m\n\u001b[0m\u001b[0;32m     26\u001b[0m     \u001b[0mt_val\u001b[0m \u001b[1;33m=\u001b[0m  \u001b[0mlognorm_kernel\u001b[0m\u001b[1;33m.\u001b[0m\u001b[0mitem\u001b[0m\u001b[1;33m(\u001b[0m\u001b[1;33m)\u001b[0m\u001b[1;33m[\u001b[0m\u001b[1;34m'times'\u001b[0m\u001b[1;33m]\u001b[0m\u001b[1;33m[\u001b[0m\u001b[0mi\u001b[0m\u001b[1;33m]\u001b[0m\u001b[1;33m*\u001b[0m\u001b[1;36m200\u001b[0m\u001b[1;33m\u001b[0m\u001b[1;33m\u001b[0m\u001b[0m\n\u001b[0;32m     27\u001b[0m     \u001b[0msorted_index\u001b[0m \u001b[1;33m=\u001b[0m \u001b[0mnp\u001b[0m\u001b[1;33m.\u001b[0m\u001b[0margsort\u001b[0m\u001b[1;33m(\u001b[0m\u001b[0mt_val\u001b[0m\u001b[1;33m)\u001b[0m\u001b[1;33m\u001b[0m\u001b[1;33m\u001b[0m\u001b[0m\n",
      "\u001b[1;31mNameError\u001b[0m: name 'lognorm_kernel' is not defined"
     ]
    }
   ],
   "source": [
    "def moving_average(t,k,step = 0.5):\n",
    "\n",
    "\n",
    "    small_t = []\n",
    "    small_k =[]\n",
    "    step = 0.5\n",
    "    num_index = int(200//step)\n",
    "    low = 0\n",
    "    for i in range(num_index):\n",
    "\n",
    "        mask = ((t>=low) *(t<low+step))\n",
    "        cur_k = k[mask].mean()\n",
    "        cur_t = t[mask].mean()\n",
    "        small_t.append(cur_t)\n",
    "        small_k.append(cur_k)\n",
    "        low +=step\n",
    "    return small_t,small_k\n",
    "\n",
    "all_results=[[],[],[]]\n",
    "all_times=[[],[],[]]\n",
    "\n",
    "for i in range (4):  \n",
    "    \n",
    "\n",
    "    k_val = lognorm_kernel.item()['scores'][i]\n",
    "    t_val =  lognorm_kernel.item()['times'][i]*200\n",
    "    sorted_index = np.argsort(t_val)\n",
    "    t = t_val[sorted_index]\n",
    "    k = k_val[sorted_index]\n",
    "\n",
    "#     moving_average = 10000\n",
    "\n",
    "#     ## Moving Average \n",
    "#     k = np.convolve(k, np.ones(moving_average), 'valid') / moving_average    \n",
    "#     t = np.convolve(t, np.ones(moving_average), 'valid') / moving_average\n",
    "    small_t,small_k = moving_average(t,k,step = 0.5)\n",
    "    all_results[-1].append(np.array(small_k))\n",
    "    all_times[-1].append(np.array(small_t))\n",
    "    \n",
    "for i in range (4):  \n",
    "    \n",
    "\n",
    "    k_val = sahp_kernel.item()['scores'][i]\n",
    "    t_val =  sahp_kernel.item()['times'][i]\n",
    "    sorted_index = np.argsort(t_val)\n",
    "    t = t_val[sorted_index]\n",
    "    k = k_val[sorted_index]\n",
    "\n",
    "#     moving_average = 10000\n",
    "\n",
    "#     ## Moving Average \n",
    "#     k = np.convolve(k, np.ones(moving_average), 'valid') / moving_average    \n",
    "#     t = np.convolve(t, np.ones(moving_average), 'valid') / moving_average\n",
    "    small_t,small_k = moving_average(t,k,step = 0.5)\n",
    "    all_results[-2].append(np.array(small_k))\n",
    "    all_times[-2].append(np.array(small_t))\n",
    "    \n",
    "for i in range (4):  \n",
    "    \n",
    "\n",
    "    k_val = thp_kernel.item()['scores'][i]\n",
    "    t_val =  thp_kernel.item()['times'][i]\n",
    "    sorted_index = np.argsort(t_val)\n",
    "    t = t_val[sorted_index]\n",
    "    k = k_val[sorted_index]\n",
    "\n",
    "\n",
    "    small_t,small_k = moving_average(t,k,step = 0.5)\n",
    "    all_results[-3].append(np.array(small_k))\n",
    "    all_times[-3].append(np.array(small_t))    "
   ]
  },
  {
   "cell_type": "code",
   "execution_count": 38,
   "metadata": {
    "ExecuteTime": {
     "end_time": "2022-01-25T00:21:10.288406Z",
     "start_time": "2022-01-25T00:21:10.274444Z"
    }
   },
   "outputs": [],
   "source": [
    "np.save('other_model_kernels',all_results)\n",
    "np.save('other_model_times',all_times)"
   ]
  },
  {
   "cell_type": "code",
   "execution_count": 293,
   "metadata": {
    "ExecuteTime": {
     "end_time": "2021-10-14T12:46:44.596820Z",
     "start_time": "2021-10-14T12:46:44.556927Z"
    }
   },
   "outputs": [],
   "source": [
    "i = 1\n",
    "plot_times = torch.arange(0,15,0.1)\n",
    "values = magic_kernel(plot_times,sigma = sigmas[i], lengthscale = lengtscales[i], alpha = alphas[i])\n",
    "values = (values - values.min())/(values.max()-values.min())\n",
    "\n",
    "real_values = triggering_kernel(plot_times,i)\n",
    "real_values = (real_values - real_values.min())/(real_values.max()-real_values.min())\n",
    "\n",
    "k = (k - k.min())/(k.max()-k.min())\n"
   ]
  },
  {
   "cell_type": "code",
   "execution_count": 154,
   "metadata": {
    "ExecuteTime": {
     "end_time": "2022-01-25T20:39:24.390816Z",
     "start_time": "2022-01-25T20:39:24.380807Z"
    }
   },
   "outputs": [],
   "source": [
    "def triggering_kernel(t,n_kernel = 0):\n",
    "    \n",
    "    if n_kernel ==0:\n",
    "        return 0.2*(0.5+t)**(-1.3)\n",
    "    elif n_kernel ==1:\n",
    "        return 0.03*np.exp(-0.3*t)\n",
    "    elif n_kernel ==2:\n",
    "        return 0.05*np.exp(-0.2*t) + 0.16*np.exp(-0.8*t)\n",
    "    else:\n",
    "        t_c = np.copy(t)\n",
    "        t_c[t_c>8] =0\n",
    "        sin = np.sin(0.4*t_c)/2.6\n",
    "        sin[sin <0] =0\n",
    "        return sin*0.6\n"
   ]
  },
  {
   "cell_type": "code",
   "execution_count": 177,
   "metadata": {
    "ExecuteTime": {
     "end_time": "2022-01-25T20:51:20.860676Z",
     "start_time": "2022-01-25T20:51:20.362111Z"
    }
   },
   "outputs": [
    {
     "data": {
      "text/plain": [
       "Text(0.5, 1.0, 'Local Triggering Effect')"
      ]
     },
     "execution_count": 177,
     "metadata": {},
     "output_type": "execute_result"
    },
    {
     "data": {
      "image/png": "[encoded data removed]",
      "text/plain": [
       "<Figure size 720x360 with 2 Axes>"
      ]
     },
     "metadata": {
      "needs_background": "light"
     },
     "output_type": "display_data"
    }
   ],
   "source": [
    "init_t = torch.arange(0,2,0.1)\n",
    "init_mu = torch.ones(len(init_t))*0.1\n",
    "t = torch.arange(0,11,0.1)\n",
    "\n",
    "\n",
    "fig, axes = plt.subplots(1,2,figsize=(10,5))\n",
    "axes = axes.flatten()\n",
    "for i in range(2):\n",
    "    axes[i].set_xlabel('t',size = 14)\n",
    "    axes[i].set_ylim(0,0.5)\n",
    "    \n",
    "y = (triggering_kernel(t,2)+0.1)[:-20]\n",
    "x = t[20:]\n",
    "# y = torch.cat([init_mu,y+0.1])\n",
    "# x = torch.cat([init_t,t+5])\n",
    "\n",
    "axes[0].plot(x,y,c = 'red')\n",
    "axes[0].plot(init_t,init_mu,c = 'red')\n",
    "axes[0].plot([2,2],[0.1,0.31],c = 'black',linestyle = 'dotted',linewidth = 0.5)\n",
    "\n",
    "axes[0].set_title('Decay After the Jump',size=14)\n",
    "\n",
    "y = torch.tensor(triggering_kernel(t,3))\n",
    "y = torch.cat([init_mu,y+0.1])\n",
    "x = torch.cat([init_t,t+2])\n",
    "# axes[0].set_xticklabels(axes[0].get_xticklabels(),fontsize=5)\n",
    "\n",
    "axes[0].tick_params(axis='x', labelsize= 13)\n",
    "axes[1].tick_params(axis='x', labelsize= 13)\n",
    "axes[0].tick_params(axis='y', labelsize= 13)\n",
    "axes[1].tick_params(axis='y', labelsize= 13)\n",
    "\n",
    "\n",
    "axes[1].set_xlim(0,11)\n",
    "axes[0].set_xlim(0,11)\n",
    "\n",
    "\n",
    "\n",
    "axes[1].plot(x,y,c = 'red')\n",
    "axes[1].set_title('Local Triggering Effect',size=14)\n",
    "\n"
   ]
  },
  {
   "cell_type": "code",
   "execution_count": 9,
   "metadata": {
    "ExecuteTime": {
     "end_time": "2022-05-09T09:16:57.668287Z",
     "start_time": "2022-05-09T09:16:57.050973Z"
    }
   },
   "outputs": [
    {
     "ename": "NameError",
     "evalue": "name 'magic_kernel_2' is not defined",
     "output_type": "error",
     "traceback": [
      "\u001b[1;31m---------------------------------------------------------------------------\u001b[0m",
      "\u001b[1;31mNameError\u001b[0m                                 Traceback (most recent call last)",
      "\u001b[1;32m<ipython-input-9-6127da24ec4f>\u001b[0m in \u001b[0;36m<module>\u001b[1;34m\u001b[0m\n\u001b[0;32m      9\u001b[0m \u001b[1;33m\u001b[0m\u001b[0m\n\u001b[0;32m     10\u001b[0m \u001b[1;32mfor\u001b[0m \u001b[0mi\u001b[0m \u001b[1;32min\u001b[0m \u001b[0mrange\u001b[0m\u001b[1;33m(\u001b[0m\u001b[1;36m3\u001b[0m\u001b[1;33m)\u001b[0m\u001b[1;33m:\u001b[0m\u001b[1;33m\u001b[0m\u001b[1;33m\u001b[0m\u001b[0m\n\u001b[1;32m---> 11\u001b[1;33m     \u001b[0mdecay\u001b[0m\u001b[1;33m,\u001b[0m\u001b[0mgate\u001b[0m\u001b[1;33m,\u001b[0m\u001b[0mvalues\u001b[0m \u001b[1;33m=\u001b[0m \u001b[0mmagic_kernel_2\u001b[0m\u001b[1;33m(\u001b[0m\u001b[0mtime\u001b[0m\u001b[1;33m,\u001b[0m\u001b[0msigma\u001b[0m \u001b[1;33m=\u001b[0m \u001b[0msigmas\u001b[0m\u001b[1;33m[\u001b[0m\u001b[0mi\u001b[0m\u001b[1;33m]\u001b[0m\u001b[1;33m,\u001b[0m\u001b[0mlengthscale\u001b[0m \u001b[1;33m=\u001b[0m\u001b[0mlengtscales\u001b[0m\u001b[1;33m[\u001b[0m\u001b[0mi\u001b[0m\u001b[1;33m]\u001b[0m\u001b[1;33m,\u001b[0m\u001b[0malpha\u001b[0m  \u001b[1;33m=\u001b[0m\u001b[0malphas\u001b[0m\u001b[1;33m[\u001b[0m\u001b[0mi\u001b[0m\u001b[1;33m]\u001b[0m\u001b[1;33m,\u001b[0m\u001b[0mp\u001b[0m \u001b[1;33m=\u001b[0m \u001b[0mps\u001b[0m\u001b[1;33m[\u001b[0m\u001b[0mi\u001b[0m\u001b[1;33m]\u001b[0m\u001b[1;33m)\u001b[0m\u001b[1;33m\u001b[0m\u001b[1;33m\u001b[0m\u001b[0m\n\u001b[0m\u001b[0;32m     12\u001b[0m     \u001b[0mdecay\u001b[0m \u001b[1;33m=\u001b[0m \u001b[1;33m(\u001b[0m\u001b[0mdecay\u001b[0m \u001b[1;33m-\u001b[0m \u001b[0mdecay\u001b[0m\u001b[1;33m.\u001b[0m\u001b[0mmin\u001b[0m\u001b[1;33m(\u001b[0m\u001b[1;33m)\u001b[0m\u001b[1;33m)\u001b[0m\u001b[1;33m/\u001b[0m\u001b[1;33m(\u001b[0m\u001b[0mdecay\u001b[0m\u001b[1;33m.\u001b[0m\u001b[0mmax\u001b[0m\u001b[1;33m(\u001b[0m\u001b[1;33m)\u001b[0m\u001b[1;33m-\u001b[0m\u001b[0mdecay\u001b[0m\u001b[1;33m.\u001b[0m\u001b[0mmin\u001b[0m\u001b[1;33m(\u001b[0m\u001b[1;33m)\u001b[0m\u001b[1;33m)\u001b[0m\u001b[1;33m\u001b[0m\u001b[1;33m\u001b[0m\u001b[0m\n\u001b[0;32m     13\u001b[0m     \u001b[0mgate\u001b[0m \u001b[1;33m=\u001b[0m \u001b[1;33m(\u001b[0m\u001b[0mgate\u001b[0m \u001b[1;33m-\u001b[0m \u001b[0mgate\u001b[0m\u001b[1;33m.\u001b[0m\u001b[0mmin\u001b[0m\u001b[1;33m(\u001b[0m\u001b[1;33m)\u001b[0m\u001b[1;33m)\u001b[0m\u001b[1;33m/\u001b[0m\u001b[1;33m(\u001b[0m\u001b[0mgate\u001b[0m\u001b[1;33m.\u001b[0m\u001b[0mmax\u001b[0m\u001b[1;33m(\u001b[0m\u001b[1;33m)\u001b[0m\u001b[1;33m-\u001b[0m\u001b[0mgate\u001b[0m\u001b[1;33m.\u001b[0m\u001b[0mmin\u001b[0m\u001b[1;33m(\u001b[0m\u001b[1;33m)\u001b[0m\u001b[1;33m)\u001b[0m\u001b[1;33m\u001b[0m\u001b[1;33m\u001b[0m\u001b[0m\n",
      "\u001b[1;31mNameError\u001b[0m: name 'magic_kernel_2' is not defined"
     ]
    },
    {
     "data": {
      "image/png": "[encoded data removed]",
      "text/plain": [
       "<Figure size 1008x576 with 9 Axes>"
      ]
     },
     "metadata": {
      "needs_background": "light"
     },
     "output_type": "display_data"
    }
   ],
   "source": [
    "lengtscales = [0.7,1.0,0.1]\n",
    "alphas = [0.5,5,2.0]\n",
    "ps = [0.0,1.0,5.0]\n",
    "sigmas = [1.0,2.0,5.0]\n",
    "\n",
    "\n",
    "fig, axes = plt.subplots(3, 3,figsize=(14,8),sharex=True,sharey=True)\n",
    "time = torch.arange(1,15,0.1)\n",
    "\n",
    "for i in range(3):    \n",
    "    decay,gate,values = magic_kernel_2(time,sigma = sigmas[i],lengthscale =lengtscales[i],alpha  =alphas[i],p = ps[i])\n",
    "    decay = (decay - decay.min())/(decay.max()-decay.min())\n",
    "    gate = (gate - gate.min())/(gate.max()-gate.min())      \n",
    "    values = (values - values.min())/(values.max()-values.min())\n",
    "    axes[i][0].plot(time,decay,c = 'black')\n",
    "    axes[i][1].plot(time,gate,c='red')\n",
    "    axes[i][2].plot(time,values,c='green')\n",
    "    axes[i][0].text(6,0.4,f' l = {lengtscales[i]}\\n \\u03C3 = {sigmas[i]}',size = 14 )\n",
    "    axes[i][0].text(16.5,0.4,f'X',size = 15 )\n",
    "    axes[i][1].text(16.5,0.4,f'=',size = 15 )\n",
    "    axes[i][1].text(8,0.4,f' s = {alphas[i]}\\n p = {ps[i]}',size = 14 )\n",
    "for j in range(3):\n",
    "    axes[2][j].set_xlabel('t',size = 15)\n",
    "    \n",
    "axes[0][0].set_title('Decay',size = 14)\n",
    "axes[0][1].set_title('Sigmoid Gate',size = 14)\n",
    "axes[0][2].set_title('Interaction',size = 14)"
   ]
  },
  {
   "cell_type": "code",
   "execution_count": 128,
   "metadata": {
    "ExecuteTime": {
     "end_time": "2022-01-25T19:35:43.655364Z",
     "start_time": "2022-01-25T19:35:43.643373Z"
    }
   },
   "outputs": [],
   "source": [
    "z = torch.tensor([[1,2],[3,4]])"
   ]
  },
  {
   "cell_type": "code",
   "execution_count": 129,
   "metadata": {
    "ExecuteTime": {
     "end_time": "2022-01-25T19:35:43.905489Z",
     "start_time": "2022-01-25T19:35:43.896512Z"
    }
   },
   "outputs": [],
   "source": [
    "z = z.unsqueeze(-2)"
   ]
  },
  {
   "cell_type": "code",
   "execution_count": 142,
   "metadata": {
    "ExecuteTime": {
     "end_time": "2022-01-25T19:38:04.369708Z",
     "start_time": "2022-01-25T19:38:04.362754Z"
    }
   },
   "outputs": [
    {
     "data": {
      "text/plain": [
       "tensor([[[1, 2, 1, 2],\n",
       "         [1, 2, 1, 2],\n",
       "         [1, 2, 1, 2],\n",
       "         [1, 2, 1, 2]],\n",
       "\n",
       "        [[3, 4, 3, 4],\n",
       "         [3, 4, 3, 4],\n",
       "         [3, 4, 3, 4],\n",
       "         [3, 4, 3, 4]],\n",
       "\n",
       "        [[1, 2, 1, 2],\n",
       "         [1, 2, 1, 2],\n",
       "         [1, 2, 1, 2],\n",
       "         [1, 2, 1, 2]],\n",
       "\n",
       "        [[3, 4, 3, 4],\n",
       "         [3, 4, 3, 4],\n",
       "         [3, 4, 3, 4],\n",
       "         [3, 4, 3, 4]]])"
      ]
     },
     "execution_count": 142,
     "metadata": {},
     "output_type": "execute_result"
    }
   ],
   "source": [
    "z.repeat(2,4,2)"
   ]
  },
  {
   "cell_type": "code",
   "execution_count": 139,
   "metadata": {
    "ExecuteTime": {
     "end_time": "2022-01-25T19:36:56.525314Z",
     "start_time": "2022-01-25T19:36:56.500058Z"
    }
   },
   "outputs": [
    {
     "ename": "RuntimeError",
     "evalue": "shape '[2, 2, 2]' is invalid for input of size 4",
     "output_type": "error",
     "traceback": [
      "\u001b[1;31m---------------------------------------------------------------------------\u001b[0m",
      "\u001b[1;31mRuntimeError\u001b[0m                              Traceback (most recent call last)",
      "\u001b[1;32m<ipython-input-139-0eb9e91570e7>\u001b[0m in \u001b[0;36m<module>\u001b[1;34m\u001b[0m\n\u001b[1;32m----> 1\u001b[1;33m \u001b[0mz\u001b[0m\u001b[1;33m.\u001b[0m\u001b[0mview\u001b[0m\u001b[1;33m(\u001b[0m\u001b[1;33m(\u001b[0m\u001b[1;36m2\u001b[0m\u001b[1;33m,\u001b[0m\u001b[1;36m2\u001b[0m\u001b[1;33m,\u001b[0m\u001b[1;36m2\u001b[0m\u001b[1;33m)\u001b[0m\u001b[1;33m)\u001b[0m\u001b[1;33m\u001b[0m\u001b[1;33m\u001b[0m\u001b[0m\n\u001b[0m",
      "\u001b[1;31mRuntimeError\u001b[0m: shape '[2, 2, 2]' is invalid for input of size 4"
     ]
    }
   ],
   "source": [
    "z.view((4,2,2))"
   ]
  },
  {
   "cell_type": "code",
   "execution_count": null,
   "metadata": {},
   "outputs": [],
   "source": []
  }
 ],
 "metadata": {
  "kernelspec": {
   "display_name": "Python 3",
   "language": "python",
   "name": "python3"
  },
  "language_info": {
   "codemirror_mode": {
    "name": "ipython",
    "version": 3
   },
   "file_extension": ".py",
   "mimetype": "text/x-python",
   "name": "python",
   "nbconvert_exporter": "python",
   "pygments_lexer": "ipython3",
   "version": "3.7.4"
  },
  "latex_envs": {
   "LaTeX_envs_menu_present": true,
   "autoclose": false,
   "autocomplete": true,
   "bibliofile": "biblio.bib",
   "cite_by": "apalike",
   "current_citInitial": 1,
   "eqLabelWithNumbers": true,
   "eqNumInitial": 1,
   "hotkeys": {
    "equation": "Ctrl-E",
    "itemize": "Ctrl-I"
   },
   "labels_anchors": false,
   "latex_user_defs": false,
   "report_style_numbering": false,
   "user_envs_cfg": false
  },
  "toc": {
   "base_numbering": 1,
   "nav_menu": {},
   "number_sections": true,
   "sideBar": true,
   "skip_h1_title": false,
   "title_cell": "Table of Contents",
   "title_sidebar": "Contents",
   "toc_cell": false,
   "toc_position": {},
   "toc_section_display": true,
   "toc_window_display": false
  }
 },
 "nbformat": 4,
 "nbformat_minor": 2
}
