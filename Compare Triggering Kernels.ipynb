{
 "cells": [
  {
   "cell_type": "code",
   "execution_count": 5,
   "metadata": {
    "ExecuteTime": {
     "end_time": "2021-10-13T00:15:22.196021Z",
     "start_time": "2021-10-13T00:15:19.027465Z"
    }
   },
   "outputs": [],
   "source": [
    "import argparse\n",
    "import numpy as np\n",
    "import pickle\n",
    "import time\n",
    "import torch\n",
    "import torch.nn as nn\n",
    "import torch.optim as optim\n",
    "from datetime import datetime\n",
    "\n",
    "\n",
    "from dataset import get_dataloader\n",
    "from tqdm import tqdm\n",
    "import random\n",
    "from models.gated_tpp import *\n",
    "import torch.nn.functional as F\n",
    "import seaborn as sns\n",
    "import matplotlib.pyplot as plt"
   ]
  },
  {
   "cell_type": "markdown",
   "metadata": {},
   "source": [
    "## 1-D Hawkes"
   ]
  },
  {
   "cell_type": "code",
   "execution_count": 143,
   "metadata": {
    "ExecuteTime": {
     "end_time": "2021-10-03T00:22:19.816116Z",
     "start_time": "2021-10-03T00:22:19.774228Z"
    }
   },
   "outputs": [],
   "source": [
    "def power_law_kernel(t):  \n",
    "    \n",
    "    return 0.2 * (0.5 + t)**(-1.3)\n",
    "\n",
    "\n",
    "def exponential_kernel(t):\n",
    "    alpha = 0.2\n",
    "    beta = 0.1\n",
    "    \n",
    "    return alpha*beta*np.exp(-t*beta)\n",
    "    \n",
    "def sin_kernel(t):\n",
    "    \n",
    "\n",
    "    t_c = np.copy(t)\n",
    "    t_c[t_c>4] =0\n",
    "    sin = np.sin(t_c)/8\n",
    "    sin[sin <0] =0\n",
    "    return sin\n",
    "\n",
    "def squared_exponential_kernel(x, sigma=1, lengthscale=1, norm=1):\n",
    "\n",
    "    return (sigma ** 2) * torch.exp(-(x ** 2) / lengthscale ** 2)\n",
    "\n",
    "\n",
    "\n",
    "\n",
    "def polynomial_kernel(x1,x2, sigma=0, p=2):    \n",
    "    \n",
    "    return ((x1*x2).sum(-1) +sigma)**p\n",
    "\n",
    "def rational_quadratic_kernel(x, sigma =1, alpha= 0.1, lengthscale = 0.01,norm = 1):\n",
    "#     d = x ** norm\n",
    "    d =x\n",
    "    return (sigma ** 2) *(1+((d**2)/(alpha*lengthscale)))**(-alpha)\n",
    "\n",
    "\n",
    "def sigmoid(x,l=0.1,s=0.1,b = 0.1,norm =2):\n",
    "    d = x**norm\n",
    "    return 1+torch.tanh((d-l)/s)\n",
    "\n",
    "def power_law_kernel(t):  \n",
    "    \n",
    "    return 0.2 * (0.5 + t)**(-1.3)\n",
    "\n",
    "def sin_kernel(t):\n",
    "    \n",
    "\n",
    "    t_c = np.copy(t)\n",
    "    t_c[t_c>4] =0\n",
    "    sin = np.sin(t_c)/8\n",
    "    sin[sin <0] =0\n",
    "    return sin\n",
    "\n",
    "\n",
    "def get_moving_average(times,scores,step = 0.15,t_max = 200):\n",
    "    \n",
    "    t = []\n",
    "    alpha = []\n",
    "    \n",
    "    index= 0\n",
    "    for i in np.arange(step,t_max,step):\n",
    "        avg_index = (times<i) & ( times >i - step)\n",
    "        t.append(times[avg_index].mean().item())\n",
    "        alpha.append(scores[avg_index].mean().item())\n",
    "    \n",
    "    zero_avg_index = times ==0\n",
    "    t.insert(0,times[zero_avg_index].mean().item())\n",
    "    alpha.insert(0,scores[zero_avg_index].mean().item())\n",
    "    \n",
    "    \n",
    "    return np.array(t),np.array(alpha) \n",
    "\n",
    "\n",
    "def get_triggering_kernel_values(model,device ='cpu',score_type = 'final'):\n",
    "    \n",
    "    encoder = model.encoder.to(device)\n",
    "\n",
    "    normalized_event_time = torch.arange(0,200,0.1).unsqueeze(0).to(device)\n",
    "    event_type = torch.ones(normalized_event_time.size(-1)).long().unsqueeze(0).to(device)\n",
    "\n",
    "    type_embedding = encoder.type_emb(event_type) * math.sqrt(model.d_model)\n",
    "\n",
    "    subsequent_mask = get_subsequent_mask(event_type)\n",
    "\n",
    "    xt_bar = normalized_event_time.unsqueeze(1). \\\n",
    "        expand(normalized_event_time.size(0), normalized_event_time.size(1), normalized_event_time.size(1))\n",
    "    xt = xt_bar.transpose(1, 2)\n",
    "\n",
    "\n",
    "    xd_bar = type_embedding.unsqueeze(1).expand(type_embedding.size(\n",
    "        0), type_embedding.size(1), type_embedding.size(1), type_embedding.size(-1))\n",
    "    xd = xd_bar.transpose(1, 2)\n",
    "\n",
    "    kernel_scores = encoder.kernel((xt, xt_bar), (xd, xd_bar))\n",
    "#     sigmoid_scores = encoder.sigmoid((xt, xt_bar), (xd, xd_bar))\n",
    "    \n",
    "    if score_type =='kernel_only' :\n",
    "        scores = kernel_scores\n",
    "    elif score_type == 'sigmoid_only':\n",
    "        scores = sigmoid_scores   \n",
    "    else:\n",
    "        scores = kernel_scores*sigmoid_scores                               \n",
    "\n",
    "    length = event_type.sum()\n",
    "    t_diff = torch.abs(xt - xt_bar)\n",
    "\n",
    "\n",
    "    masked_t_diff = (t_diff[0][:length,:length])\n",
    "    masked_scores = (scores[0][:length,:length])\n",
    "    row,column = masked_t_diff.size()\n",
    "    row,column = torch.tril_indices(row,column)\n",
    "    times = masked_t_diff[row,column]\n",
    "    triggering_values=  masked_scores[row,column]\n",
    "\n",
    "    x = times.detach()\n",
    "    y = triggering_values.detach()\n",
    "\n",
    "    sorted_indices = torch.argsort(x)\n",
    "\n",
    "    x = x[sorted_indices]\n",
    "    y = y[sorted_indices]\n",
    "    \n",
    "    return x,y\n",
    "\n",
    "\n",
    "\n",
    "def plot_triggering_kernel_vs_actual_kernels(model,kernel_function,device = 'cpu',step = 0.25,\n",
    "                                             score_type = 'final' ,t_max = 200,axes = None):\n",
    "    \n",
    "    \n",
    "    times, scores = get_triggering_kernel_values(model,device = 'cpu',score_type = score_type)\n",
    "    t,alpha = get_moving_average(times,scores,step = step,t_max = t_max)\n",
    "\n",
    "    \n",
    "    alpha = (alpha - alpha.min())/(alpha.max()-alpha.min())\n",
    "    actual_alpha = kernel_function(np.array(t))\n",
    "    actual_alpha = (actual_alpha - actual_alpha.min())/(actual_alpha.max()-actual_alpha.min())\n",
    "    \n",
    "    \n",
    "    \n",
    "    if axes is None:\n",
    "        fig, (ax1, ax2,ax3) = plt.subplots(1, 3,figsize=(17,4))\n",
    "        axes = (ax1, ax2,ax3)\n",
    "    else:\n",
    "        axes = axes\n",
    "    \n",
    "    score_type_titles = {'final':'Estimated Gated Kernel','kernel_only':'Estimated Kernel','sigmoid_only':'Estimated Gate'}\n",
    "\n",
    "    axes[0].plot(t,alpha,label=score_type_titles[score_type])\n",
    "    if score_type !='sigmoid_only':\n",
    "        axes[0].plot(t,actual_alpha,label='Actual Kernel')\n",
    "    axes[0].set_xlim(0, 200)\n",
    "    axes[0].legend()\n",
    "\n",
    "    axes[1].plot(t,alpha,label=score_type_titles[score_type])\n",
    "    if score_type !='sigmoid_only':\n",
    "        axes[1].plot(t,actual_alpha,label='Actual Kernel')\n",
    "    axes[1].set_xlim(0, 10)\n",
    "    axes[1].legend()\n",
    "\n",
    "\n",
    "    axes[2].plot(t,alpha,label=score_type_titles[score_type])\n",
    "    if score_type !='sigmoid_only':\n",
    "        axes[2].plot(t,actual_alpha,label='Actual Kernel')\n",
    "    axes[2].set_xlim(0, 5)\n",
    "    axes[2].legend()\n",
    "\n",
    "    plt.show()\n",
    "    \n",
    "\n",
    "data = '../data/simulated/power_hawkes/'\n",
    "batch_size = 1\n",
    "\n",
    "\n",
    "def load_data(name, dict_name):\n",
    "    with open(name, 'rb') as f:\n",
    "        data = pickle.load(f, encoding='latin-1')\n",
    "        num_types = data['dim_process']\n",
    "        data = data[dict_name]\n",
    "        return data, int(num_types)\n"
   ]
  },
  {
   "cell_type": "code",
   "execution_count": 6,
   "metadata": {
    "ExecuteTime": {
     "end_time": "2021-09-01T21:48:33.850282Z",
     "start_time": "2021-09-01T21:48:33.440415Z"
    }
   },
   "outputs": [],
   "source": [
    "device = 'cpu'\n",
    "last_errors = []\n",
    "all_errors = []\n",
    "all_predictions = []\n",
    "all_arrivals = []\n",
    "for batch in testloader:\n",
    "    \n",
    "\n",
    "    event_type = batch[2]\n",
    "    event_time = batch[0]\n",
    "    arrival_time = batch[1]\n",
    "    \n",
    "    event_time, arrival_time, event_type,_ = map(lambda x: x.to(device), batch)\n",
    "\n",
    "    \n",
    "    predicted_times = model(event_type,event_time,arrival_time)\n",
    "\n",
    "\n",
    "    last_event_index = event_type.sum(-1)-2\n",
    "    errors = predicted_times[:, :-1] - arrival_time[:, 1:]\n",
    "    seq_index = 0\n",
    "    for idx in last_event_index:\n",
    "        last_errors.append(errors[seq_index][idx].unsqueeze(-1))\n",
    "        all_errors.append(errors[seq_index][:idx+1])\n",
    "        all_predictions.append(predicted_times[:, :-1][:idx+1].squeeze(0))\n",
    "        all_arrivals.append(arrival_time[:, :-1][:idx+1].squeeze(0))\n",
    "last_errors = torch.cat(last_errors)\n",
    "last_RMSE =(last_errors**2).mean().sqrt()\n",
    "\n",
    "all_predictions = torch.cat(all_predictions)\n",
    "all_arrivals = torch.cat(all_arrivals)\n",
    "\n",
    "\n",
    "all_errors = torch.cat(all_errors)\n",
    "all_RMSE = (all_errors**2).mean().sqrt()\n",
    "\n"
   ]
  },
  {
   "cell_type": "markdown",
   "metadata": {},
   "source": [
    "### Power Law Kernel"
   ]
  },
  {
   "cell_type": "markdown",
   "metadata": {},
   "source": [
    "### Exponential Kernel"
   ]
  },
  {
   "cell_type": "code",
   "execution_count": 3,
   "metadata": {
    "ExecuteTime": {
     "end_time": "2021-09-27T21:33:34.208618Z",
     "start_time": "2021-09-27T21:33:33.796388Z"
    }
   },
   "outputs": [],
   "source": [
    "data = '../data/simulated/exp_hawkes/'\n",
    "batch_size = 1\n",
    "\n",
    "\n",
    "\n",
    "train_data, num_types = load_data(data + 'train.pkl', 'train')\n",
    "dev_data, _ = load_data(data + 'dev.pkl', 'dev')\n",
    "test_data, _ = load_data(data + 'test.pkl', 'test')\n",
    "\n",
    "t_max = 1\n",
    "\n",
    "\n",
    "trainloader = get_dataloader(train_data, 10, shuffle=True,t_max =t_max)\n",
    "testloader = get_dataloader(test_data,1, shuffle=False,t_max = t_max)\n",
    "valloader = get_dataloader(dev_data, 1, shuffle=False,t_max =t_max)\n"
   ]
  },
  {
   "cell_type": "code",
   "execution_count": 5,
   "metadata": {
    "ExecuteTime": {
     "end_time": "2021-09-27T21:34:05.131449Z",
     "start_time": "2021-09-27T21:34:05.101530Z"
    }
   },
   "outputs": [
    {
     "data": {
      "text/plain": [
       "<All keys matched successfully>"
      ]
     },
     "execution_count": 5,
     "metadata": {},
     "output_type": "execute_result"
    }
   ],
   "source": [
    "model = gated_tpp(num_types,128,4,dropout= 0.1,alpha = 1,kernel_type='rational_quadratic',length_scale=5,timetovec=True)\n",
    "device = 'cuda'\n",
    "model.load_state_dict(torch.load('trained_models/20210927_172312.pt'))\n"
   ]
  },
  {
   "cell_type": "code",
   "execution_count": 6,
   "metadata": {
    "ExecuteTime": {
     "end_time": "2021-09-27T21:34:11.099590Z",
     "start_time": "2021-09-27T21:34:10.523090Z"
    }
   },
   "outputs": [],
   "source": [
    "device = 'cpu'\n",
    "last_errors = []\n",
    "all_errors = []\n",
    "all_predictions = []\n",
    "all_arrivals = []\n",
    "for batch in testloader:\n",
    "    \n",
    "\n",
    "    event_type = batch[2]\n",
    "    event_time = batch[0]\n",
    "    arrival_time = batch[1]\n",
    "    \n",
    "    event_time, arrival_time, event_type,_ = map(lambda x: x.to(device), batch)\n",
    "\n",
    "    \n",
    "    predicted_times = model(event_type,event_time,arrival_time)\n",
    "\n",
    "\n",
    "    last_event_index = event_type.sum(-1)-2\n",
    "    errors = predicted_times[:, :-1] - arrival_time[:, 1:]\n",
    "    seq_index = 0\n",
    "    for idx in last_event_index:\n",
    "        last_errors.append(errors[seq_index][idx].unsqueeze(-1))\n",
    "        all_errors.append(errors[seq_index][:idx+1])\n",
    "        all_predictions.append(predicted_times[:, :-1][:idx+1].squeeze(0))\n",
    "        all_arrivals.append(arrival_time[:, :-1][:idx+1].squeeze(0))\n",
    "last_errors = torch.cat(last_errors)\n",
    "last_RMSE =(last_errors**2).mean().sqrt()\n",
    "\n",
    "all_predictions = torch.cat(all_predictions)\n",
    "all_arrivals = torch.cat(all_arrivals)\n",
    "\n",
    "\n",
    "all_errors = torch.cat(all_errors)\n",
    "all_RMSE = (all_errors**2).mean().sqrt()\n",
    "\n"
   ]
  },
  {
   "cell_type": "code",
   "execution_count": 11,
   "metadata": {
    "ExecuteTime": {
     "end_time": "2021-09-27T21:34:56.678798Z",
     "start_time": "2021-09-27T21:34:56.507034Z"
    }
   },
   "outputs": [
    {
     "data": {
      "text/plain": [
       "<AxesSubplot:>"
      ]
     },
     "execution_count": 11,
     "metadata": {},
     "output_type": "execute_result"
    },
    {
     "data": {
      "image/png": "[encoded data removed]",
      "text/plain": [
       "<Figure size 432x288 with 1 Axes>"
      ]
     },
     "metadata": {
      "needs_background": "light"
     },
     "output_type": "display_data"
    }
   ],
   "source": [
    "sns.boxplot(torch.abs(all_errors).detach())"
   ]
  },
  {
   "cell_type": "code",
   "execution_count": 14,
   "metadata": {
    "ExecuteTime": {
     "end_time": "2021-09-27T21:36:00.337052Z",
     "start_time": "2021-09-27T21:36:00.236320Z"
    }
   },
   "outputs": [
    {
     "data": {
      "text/plain": [
       "<AxesSubplot:>"
      ]
     },
     "execution_count": 14,
     "metadata": {},
     "output_type": "execute_result"
    },
    {
     "data": {
      "image/png": "[encoded data removed]",
      "text/plain": [
       "<Figure size 432x288 with 1 Axes>"
      ]
     },
     "metadata": {
      "needs_background": "light"
     },
     "output_type": "display_data"
    }
   ],
   "source": [
    "sns.boxplot(torch.abs(last_errors).detach())"
   ]
  },
  {
   "cell_type": "code",
   "execution_count": 17,
   "metadata": {
    "ExecuteTime": {
     "end_time": "2021-09-27T21:36:26.144324Z",
     "start_time": "2021-09-27T21:36:25.918906Z"
    }
   },
   "outputs": [
    {
     "data": {
      "text/plain": [
       "<AxesSubplot:>"
      ]
     },
     "execution_count": 17,
     "metadata": {},
     "output_type": "execute_result"
    },
    {
     "data": {
      "image/png": "[encoded data removed]",
      "text/plain": [
       "<Figure size 432x288 with 1 Axes>"
      ]
     },
     "metadata": {
      "needs_background": "light"
     },
     "output_type": "display_data"
    }
   ],
   "source": [
    "sns.distplot(torch.abs(all_errors).detach())"
   ]
  },
  {
   "cell_type": "code",
   "execution_count": 16,
   "metadata": {
    "ExecuteTime": {
     "end_time": "2021-09-27T21:36:17.669522Z",
     "start_time": "2021-09-27T21:36:17.452103Z"
    }
   },
   "outputs": [
    {
     "data": {
      "text/plain": [
       "<AxesSubplot:>"
      ]
     },
     "execution_count": 16,
     "metadata": {},
     "output_type": "execute_result"
    },
    {
     "data": {
      "image/png": "[encoded data removed]",
      "text/plain": [
       "<Figure size 432x288 with 1 Axes>"
      ]
     },
     "metadata": {
      "needs_background": "light"
     },
     "output_type": "display_data"
    }
   ],
   "source": [
    "sns.distplot(torch.abs(last_errors).detach())"
   ]
  },
  {
   "cell_type": "markdown",
   "metadata": {},
   "source": [
    "## Multiplying Functions"
   ]
  },
  {
   "cell_type": "code",
   "execution_count": 26,
   "metadata": {
    "ExecuteTime": {
     "end_time": "2021-10-13T00:19:34.765820Z",
     "start_time": "2021-10-13T00:19:34.755809Z"
    }
   },
   "outputs": [],
   "source": [
    "def sigmoid(x,l=0.1,s=0.1,b = 1,norm =1,m=1):\n",
    "    d = x**norm\n",
    "    return (1+torch.tanh((d-l)/s))\n",
    "\n",
    "\n",
    "def rational_quadratic_kernel(x, sigma =1, alpha= 0.1, lengthscale = 0.01,norm = 1):\n",
    "#     d = x ** norm\n",
    "    d =x\n",
    "    return (sigma ** 2) *(1+((d**2)/(alpha*lengthscale)))**(-alpha)\n",
    "\n",
    "\n"
   ]
  },
  {
   "cell_type": "code",
   "execution_count": 27,
   "metadata": {
    "ExecuteTime": {
     "end_time": "2021-10-13T00:19:39.371498Z",
     "start_time": "2021-10-13T00:19:35.946822Z"
    }
   },
   "outputs": [
    {
     "data": {
      "text/plain": [
       "3.4067587852478027"
      ]
     },
     "execution_count": 27,
     "metadata": {},
     "output_type": "execute_result"
    }
   ],
   "source": [
    "start = time.time()\n",
    "for i in range(100000000):\n",
    "    pass\n",
    "end = time.time()\n",
    "\n",
    "time_passed = end - start\n",
    "time_passed"
   ]
  },
  {
   "cell_type": "code",
   "execution_count": 81,
   "metadata": {
    "ExecuteTime": {
     "end_time": "2021-10-13T00:38:34.838939Z",
     "start_time": "2021-10-13T00:38:33.614114Z"
    },
    "scrolled": false
   },
   "outputs": [
    {
     "data": {
      "text/plain": [
       "Text(0, 0.5, 'interaction')"
      ]
     },
     "execution_count": 81,
     "metadata": {},
     "output_type": "execute_result"
    },
    {
     "data": {
      "image/png": "[encoded data removed]",
      "text/plain": [
       "<Figure size 1080x1008 with 9 Axes>"
      ]
     },
     "metadata": {
      "needs_background": "light"
     },
     "output_type": "display_data"
    }
   ],
   "source": [
    "t =torch.arange(0,200,0.1)+0.000001\n",
    "\n",
    "\n",
    "values = (values - values.min())/(values.max()-values.min())\n",
    "fig, axes = plt.subplots(3, 3,figsize=(15,14),sharex=False)\n",
    "# real_values = sin_kernel(t)\n",
    "# real_values = (real_values - real_values.min())/(real_values.max()-real_values.min())\n",
    "\n",
    "\n",
    "    \n",
    "axes = axes.flatten()\n",
    "\n",
    "\n",
    "val = rational_quadratic_kernel(t,sigma= 1.0, lengthscale = 1.5, alpha = 1)\n",
    "val_s = sigmoid((t),l =2.2,s= 1.0,norm =1,b=2.0,m=1)\n",
    "values = val_s*val\n",
    "\n",
    "axes[0].plot(t,val,label='RQ',c = 'red')\n",
    "axes[0].set_ylabel('f')\n",
    "axes[0].text(5,0.6,'lengtscale = 1.5')\n",
    "axes[0].text(5,0.5,'alpha = 1')\n",
    "axes[1].plot(t,val_s,label='Sigmoid',c='green')\n",
    "axes[0].plot(t,val,label='RQ',c = 'red')\n",
    "axes[1].set_ylabel('gate')\n",
    "\n",
    "axes[1].text(7,1.1,'l = 2.2')\n",
    "axes[1].text(7,0.95,'s = 1.0')\n",
    "axes[2].plot(t,values,label='Interaction',c = 'black')\n",
    "axes[2].set_ylabel('interaction')\n",
    "for ax in axes:\n",
    "    ax.set_xlim(0, 10)\n",
    "    ax.set_xlabel('t')\n",
    "    \n",
    "    \n",
    "val = rational_quadratic_kernel(t,sigma= 1.0, lengthscale = 1.1, alpha = 1)\n",
    "val_s = sigmoid((t),l =0.01,s= 5.0,norm =1,b=2.0,m=1)\n",
    "values = val_s*val\n",
    "\n",
    "axes[3].plot(t,val,label='RQ',c = 'red')\n",
    "axes[3].set_ylabel('f')\n",
    "axes[3].text(5,0.6,'lengtscale = 1.0\\n\\nalpha = 1',style='italic')\n",
    "axes[4].plot(t,val_s,label='Sigmoid',c='green')\n",
    "axes[4].set_ylabel('gate')\n",
    "\n",
    "axes[4].text(7,1.4,'l = 0.01\\n\\ns = 5.0',style='italic')\n",
    "axes[5].plot(t,values,label='Interaction',c = 'black')\n",
    "axes[5].set_ylabel('interaction')\n",
    "\n",
    "\n",
    "\n",
    "val = rational_quadratic_kernel(t,sigma= 1.0, lengthscale = 1.1, alpha = 1)\n",
    "val_s = sigmoid((t),l =0.01,s= 5.0,norm =1,b=2.0,m=1)\n",
    "values = val_s*val\n",
    "\n",
    "axes[6].plot(t,val,label='RQ',c = 'red')\n",
    "axes[6].set_ylabel('f')\n",
    "axes[6].text(5,0.6,'lengtscale = 1.0\\n\\nalpha = 1',style='italic')\n",
    "axes[7].plot(t,val_s,label='Sigmoid',c='green')\n",
    "axes[7].set_ylabel('gate')\n",
    "\n",
    "axes[7].text(7,1.4,'l = 0.01\\n\\ns = 5.0',style='italic')\n",
    "axes[8].plot(t,values,label='Interaction',c = 'black')\n",
    "axes[8].set_ylabel('interaction')\n"
   ]
  },
  {
   "cell_type": "code",
   "execution_count": 108,
   "metadata": {
    "ExecuteTime": {
     "end_time": "2021-10-02T22:26:39.304972Z",
     "start_time": "2021-10-02T22:26:38.809669Z"
    }
   },
   "outputs": [
    {
     "data": {
      "image/png": "[encoded data removed]",
      "text/plain": [
       "<Figure size 1224x288 with 3 Axes>"
      ]
     },
     "metadata": {
      "needs_background": "light"
     },
     "output_type": "display_data"
    }
   ],
   "source": [
    "t =torch.arange(0,200,0.1)+0.000001\n",
    "val = rational_quadratic_kernel(t,sigma= 1.0, lengthscale = 0.2, alpha = 1)\n",
    "val_s = sigmoid((t),l =1.2,s= 0.5,norm =1,b=2.0,m=1)\n",
    "values = val_s*val\n",
    "\n",
    "values = (values - values.min())/(values.max()-values.min())\n",
    "fig, axes = plt.subplots(1, 3,figsize=(17,4))\n",
    "real_values = sin_kernel(t)\n",
    "real_values = (real_values - real_values.min())/(real_values.max()-real_values.min())\n",
    "\n",
    "\n",
    "# for ax in axes:\n",
    "#     ax.plot(t,values,label='Predicted')\n",
    "# #     ax.plot(t,real_values,label='Real')\n",
    "#     ax.legend()\n",
    "    \n",
    "    \n",
    "axes[0].plot(t,val,label='RQ')\n",
    "axes[1].plot(t,val_s,label='Sigmoid')\n",
    "axes[2].plot(t,values,label='Combination')\n",
    "for ax in axes:\n",
    "    ax.set_xlim(0, 10)\n",
    "    ax.legend()\n",
    "    \n"
   ]
  },
  {
   "cell_type": "code",
   "execution_count": 4,
   "metadata": {
    "ExecuteTime": {
     "end_time": "2021-10-13T00:15:10.264348Z",
     "start_time": "2021-10-13T00:15:10.214518Z"
    }
   },
   "outputs": [
    {
     "ename": "NameError",
     "evalue": "name 'torch' is not defined",
     "output_type": "error",
     "traceback": [
      "\u001b[1;31m---------------------------------------------------------------------------\u001b[0m",
      "\u001b[1;31mNameError\u001b[0m                                 Traceback (most recent call last)",
      "\u001b[1;32m<ipython-input-4-ed902baf5732>\u001b[0m in \u001b[0;36m<module>\u001b[1;34m\u001b[0m\n\u001b[1;32m----> 1\u001b[1;33m \u001b[0mt\u001b[0m \u001b[1;33m=\u001b[0m\u001b[0mtorch\u001b[0m\u001b[1;33m.\u001b[0m\u001b[0marange\u001b[0m\u001b[1;33m(\u001b[0m\u001b[1;36m0\u001b[0m\u001b[1;33m,\u001b[0m\u001b[1;36m200\u001b[0m\u001b[1;33m,\u001b[0m\u001b[1;36m0.1\u001b[0m\u001b[1;33m)\u001b[0m\u001b[1;33m+\u001b[0m\u001b[1;36m0.000001\u001b[0m\u001b[1;33m\u001b[0m\u001b[1;33m\u001b[0m\u001b[0m\n\u001b[0m\u001b[0;32m      2\u001b[0m \u001b[0mval\u001b[0m \u001b[1;33m=\u001b[0m \u001b[0mrational_quadratic_kernel\u001b[0m\u001b[1;33m(\u001b[0m\u001b[0mt\u001b[0m\u001b[1;33m,\u001b[0m\u001b[0msigma\u001b[0m\u001b[1;33m=\u001b[0m \u001b[1;36m1.0\u001b[0m\u001b[1;33m,\u001b[0m \u001b[0mlengthscale\u001b[0m \u001b[1;33m=\u001b[0m \u001b[1;36m1.0\u001b[0m\u001b[1;33m,\u001b[0m \u001b[0malpha\u001b[0m \u001b[1;33m=\u001b[0m \u001b[1;36m1\u001b[0m\u001b[1;33m)\u001b[0m\u001b[1;33m\u001b[0m\u001b[1;33m\u001b[0m\u001b[0m\n\u001b[0;32m      3\u001b[0m \u001b[0mval_s\u001b[0m \u001b[1;33m=\u001b[0m \u001b[0msigmoid\u001b[0m\u001b[1;33m(\u001b[0m\u001b[1;33m(\u001b[0m\u001b[0mt\u001b[0m\u001b[1;33m)\u001b[0m\u001b[1;33m,\u001b[0m\u001b[0ml\u001b[0m \u001b[1;33m=\u001b[0m\u001b[1;36m1.0\u001b[0m\u001b[1;33m,\u001b[0m\u001b[0ms\u001b[0m\u001b[1;33m=\u001b[0m \u001b[1;36m0.5\u001b[0m\u001b[1;33m,\u001b[0m\u001b[0mnorm\u001b[0m \u001b[1;33m=\u001b[0m\u001b[1;36m1\u001b[0m\u001b[1;33m,\u001b[0m\u001b[0mb\u001b[0m\u001b[1;33m=\u001b[0m\u001b[1;36m1.0\u001b[0m\u001b[1;33m,\u001b[0m\u001b[0mm\u001b[0m\u001b[1;33m=\u001b[0m\u001b[1;36m1\u001b[0m\u001b[1;33m)\u001b[0m\u001b[1;33m\u001b[0m\u001b[1;33m\u001b[0m\u001b[0m\n\u001b[0;32m      4\u001b[0m \u001b[0mvalues\u001b[0m \u001b[1;33m=\u001b[0m \u001b[0mval_s\u001b[0m\u001b[1;33m*\u001b[0m\u001b[0mval\u001b[0m\u001b[1;33m\u001b[0m\u001b[1;33m\u001b[0m\u001b[0m\n\u001b[0;32m      5\u001b[0m \u001b[1;33m\u001b[0m\u001b[0m\n",
      "\u001b[1;31mNameError\u001b[0m: name 'torch' is not defined"
     ]
    }
   ],
   "source": [
    "t =torch.arange(0,200,0.1)+0.000001\n",
    "val = rational_quadratic_kernel(t,sigma= 1.0, lengthscale = 1.0, alpha = 1)\n",
    "val_s = sigmoid((t),l =1.0,s= 0.5,norm =1,b=1.0,m=1)\n",
    "values = val_s*val\n",
    "\n",
    "values = (values - values.min())/(values.max()-values.min())\n",
    "fig, axes = plt.subplots(3, 3,figsize=(17,4))\n",
    "real_values = sin_kernel(t)\n",
    "real_values = (real_values - real_values.min())/(real_values.max()-real_values.min())\n",
    "\n",
    "\n",
    "# for ax in axes:\n",
    "#     ax.plot(t,values,label='Predicted')\n",
    "# #     ax.plot(t,real_values,label='Real')\n",
    "#     ax.legend()\n",
    "    \n",
    "    \n",
    "axes[0].plot(t,val,label='RQ')\n",
    "axes[1].plot(t,val_s,label='Sigmoid')\n",
    "axes[2].plot(t,values,label='Combination')\n",
    "for ax in axes:\n",
    "    ax.set_xlim(0, 5)\n",
    "    ax.legend()\n",
    "    \n"
   ]
  },
  {
   "cell_type": "code",
   "execution_count": 259,
   "metadata": {
    "ExecuteTime": {
     "end_time": "2021-10-03T01:28:33.370571Z",
     "start_time": "2021-10-03T01:28:33.359603Z"
    }
   },
   "outputs": [],
   "source": [
    "    \n",
    "def sin_kernel(t):\n",
    "    \n",
    "\n",
    "    t_c = np.copy(t)\n",
    "    t_c[t_c>15] =0\n",
    "    sin = np.sin(0.3*t_c)/9\n",
    "    sin[sin <0] =0\n",
    "    return sin"
   ]
  },
  {
   "cell_type": "code",
   "execution_count": 260,
   "metadata": {
    "ExecuteTime": {
     "end_time": "2021-10-03T01:28:34.178697Z",
     "start_time": "2021-10-03T01:28:34.173710Z"
    }
   },
   "outputs": [],
   "source": [
    "real_values = sin_kernel(t)\n",
    "# real_values = (real_values - real_values.min())/(real_values.max()-real_values.min())"
   ]
  },
  {
   "cell_type": "code",
   "execution_count": 261,
   "metadata": {
    "ExecuteTime": {
     "end_time": "2021-10-03T01:28:35.014139Z",
     "start_time": "2021-10-03T01:28:34.886665Z"
    }
   },
   "outputs": [
    {
     "data": {
      "text/plain": [
       "(0.0, 50.0)"
      ]
     },
     "execution_count": 261,
     "metadata": {},
     "output_type": "execute_result"
    },
    {
     "data": {
      "image/png": "[encoded data removed]",
      "text/plain": [
       "<Figure size 432x288 with 1 Axes>"
      ]
     },
     "metadata": {
      "needs_background": "light"
     },
     "output_type": "display_data"
    }
   ],
   "source": [
    "fig, ax = plt.subplots(1, 1)\n",
    "ax.plot(t,real_values)\n",
    "ax.set_xlim(0, 50)"
   ]
  },
  {
   "cell_type": "code",
   "execution_count": 256,
   "metadata": {
    "ExecuteTime": {
     "end_time": "2021-10-03T01:27:49.143525Z",
     "start_time": "2021-10-03T01:27:49.125574Z"
    }
   },
   "outputs": [
    {
     "data": {
      "text/plain": [
       "array([0.        , 0.00333283, 0.00666267, 0.00998651, 0.01330136,\n",
       "       0.01660424, 0.01989217, 0.02316221, 0.0264114 , 0.02963683,\n",
       "       0.03283558, 0.03600478, 0.03914158, 0.04224316, 0.04530672,\n",
       "       0.0483295 , 0.0513088 , 0.05424192, 0.05712622, 0.05995912,\n",
       "       0.06273805, 0.06546053, 0.06812409, 0.07072635, 0.07326496,\n",
       "       0.07573764, 0.07814216, 0.08047635, 0.08273812, 0.08492544,\n",
       "       0.08703632, 0.08906888, 0.09102129, 0.09289178, 0.09467867,\n",
       "       0.09638036, 0.09799531, 0.09952208, 0.10095928, 0.10230562,\n",
       "       0.1035599 , 0.10472098, 0.10578782, 0.10675945, 0.10763501,\n",
       "       0.10841371, 0.10909484, 0.10967779, 0.11016204, 0.11054715,\n",
       "       0.11083278, 0.11101866, 0.11110464, 0.11109062, 0.11097664,\n",
       "       0.11076278, 0.11044924, 0.11003631, 0.10952435, 0.10891383,\n",
       "       0.10820529, 0.10739938, 0.10649681, 0.1054984 , 0.10440505,\n",
       "       0.10321775, 0.10193755, 0.10056562, 0.09910318, 0.09755156,\n",
       "       0.09591215, 0.09418643, 0.09237594, 0.09048232, 0.08850727,\n",
       "       0.08645258, 0.08432008, 0.0821117 , 0.07982942, 0.0774753 ,\n",
       "       0.07505146, 0.        , 0.        , 0.        , 0.        ,\n",
       "       0.        , 0.        , 0.        , 0.        , 0.        ,\n",
       "       0.        , 0.        , 0.        , 0.        , 0.        ,\n",
       "       0.        , 0.        , 0.        , 0.        , 0.        ,\n",
       "       0.        , 0.        , 0.        , 0.        , 0.        ,\n",
       "       0.        , 0.        , 0.        , 0.        , 0.        ,\n",
       "       0.        , 0.        , 0.        , 0.        , 0.        ,\n",
       "       0.        , 0.        , 0.        , 0.        , 0.        ,\n",
       "       0.        , 0.        , 0.        , 0.        , 0.        ,\n",
       "       0.        , 0.        , 0.        , 0.        , 0.        ,\n",
       "       0.        , 0.        , 0.        , 0.        , 0.        ,\n",
       "       0.        , 0.        , 0.        , 0.        , 0.        ,\n",
       "       0.        , 0.        , 0.        , 0.        , 0.        ,\n",
       "       0.        , 0.        , 0.        , 0.        , 0.        ,\n",
       "       0.        , 0.        , 0.        , 0.        , 0.        ,\n",
       "       0.        , 0.        , 0.        , 0.        , 0.        ,\n",
       "       0.        , 0.        , 0.        , 0.        , 0.        ,\n",
       "       0.        , 0.        , 0.        , 0.        , 0.        ,\n",
       "       0.        , 0.        , 0.        , 0.        , 0.        ,\n",
       "       0.        , 0.        , 0.        , 0.        , 0.        ,\n",
       "       0.        , 0.        , 0.        , 0.        , 0.        ,\n",
       "       0.        , 0.        , 0.        , 0.        , 0.        ,\n",
       "       0.        , 0.        , 0.        , 0.        , 0.        ,\n",
       "       0.        , 0.        , 0.        , 0.        , 0.        ])"
      ]
     },
     "execution_count": 256,
     "metadata": {},
     "output_type": "execute_result"
    }
   ],
   "source": [
    "real_values"
   ]
  },
  {
   "cell_type": "code",
   "execution_count": 3,
   "metadata": {
    "ExecuteTime": {
     "end_time": "2021-10-12T07:09:49.670746Z",
     "start_time": "2021-10-12T07:09:49.662771Z"
    }
   },
   "outputs": [
    {
     "name": "stdout",
     "output_type": "stream",
     "text": [
      "0\n",
      "1\n",
      "0\n",
      "1\n"
     ]
    }
   ],
   "source": [
    "from itertools import product\n",
    "for i, j in product(range(2), range(2)):\n",
    "            print(j)"
   ]
  },
  {
   "cell_type": "code",
   "execution_count": null,
   "metadata": {},
   "outputs": [],
   "source": []
  }
 ],
 "metadata": {
  "kernelspec": {
   "display_name": "Python 3",
   "language": "python",
   "name": "python3"
  },
  "language_info": {
   "codemirror_mode": {
    "name": "ipython",
    "version": 3
   },
   "file_extension": ".py",
   "mimetype": "text/x-python",
   "name": "python",
   "nbconvert_exporter": "python",
   "pygments_lexer": "ipython3",
   "version": "3.7.4"
  },
  "latex_envs": {
   "LaTeX_envs_menu_present": true,
   "autoclose": false,
   "autocomplete": true,
   "bibliofile": "biblio.bib",
   "cite_by": "apalike",
   "current_citInitial": 1,
   "eqLabelWithNumbers": true,
   "eqNumInitial": 1,
   "hotkeys": {
    "equation": "Ctrl-E",
    "itemize": "Ctrl-I"
   },
   "labels_anchors": false,
   "latex_user_defs": false,
   "report_style_numbering": false,
   "user_envs_cfg": false
  },
  "toc": {
   "base_numbering": 1,
   "nav_menu": {},
   "number_sections": true,
   "sideBar": true,
   "skip_h1_title": false,
   "title_cell": "Table of Contents",
   "title_sidebar": "Contents",
   "toc_cell": false,
   "toc_position": {
    "height": "calc(100% - 180px)",
    "left": "10px",
    "top": "150px",
    "width": "303.837px"
   },
   "toc_section_display": true,
   "toc_window_display": true
  }
 },
 "nbformat": 4,
 "nbformat_minor": 2
}
